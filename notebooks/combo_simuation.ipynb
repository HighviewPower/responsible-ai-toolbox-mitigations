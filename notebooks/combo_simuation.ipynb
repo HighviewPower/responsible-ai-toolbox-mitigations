{
 "cells": [
  {
   "cell_type": "code",
   "execution_count": 1,
   "metadata": {},
   "outputs": [
    {
     "ename": "ModuleNotFoundError",
     "evalue": "No module named 'errorsmitigation.dataprocessing'",
     "output_type": "error",
     "traceback": [
      "\u001b[1;31m---------------------------------------------------------------------------\u001b[0m",
      "\u001b[1;31mModuleNotFoundError\u001b[0m                       Traceback (most recent call last)",
      "\u001b[1;32m~\\AppData\\Local\\Temp/ipykernel_19080/750141466.py\u001b[0m in \u001b[0;36m<module>\u001b[1;34m\u001b[0m\n\u001b[0;32m      1\u001b[0m \u001b[1;32mimport\u001b[0m \u001b[0msys\u001b[0m\u001b[1;33m\u001b[0m\u001b[1;33m\u001b[0m\u001b[0m\n\u001b[0;32m      2\u001b[0m \u001b[0msys\u001b[0m\u001b[1;33m.\u001b[0m\u001b[0mpath\u001b[0m\u001b[1;33m.\u001b[0m\u001b[0mappend\u001b[0m\u001b[1;33m(\u001b[0m\u001b[1;34m'../ResponsibleAIToolbox-Mitigation/'\u001b[0m\u001b[1;33m)\u001b[0m\u001b[1;33m\u001b[0m\u001b[1;33m\u001b[0m\u001b[0m\n\u001b[1;32m----> 3\u001b[1;33m \u001b[1;32mfrom\u001b[0m \u001b[0merrorsmitigation\u001b[0m\u001b[1;33m.\u001b[0m\u001b[0mdataprocessing\u001b[0m \u001b[1;32mimport\u001b[0m \u001b[0mDataSplit\u001b[0m\u001b[1;33m,\u001b[0m \u001b[0mDataTransformer\u001b[0m\u001b[1;33m,\u001b[0m \u001b[0mDataRebalance\u001b[0m\u001b[1;33m,\u001b[0m \u001b[0mDataSample\u001b[0m\u001b[1;33m\u001b[0m\u001b[1;33m\u001b[0m\u001b[0m\n\u001b[0m\u001b[0;32m      4\u001b[0m \u001b[1;32mimport\u001b[0m \u001b[0mpandas\u001b[0m \u001b[1;32mas\u001b[0m \u001b[0mpd\u001b[0m\u001b[1;33m\u001b[0m\u001b[1;33m\u001b[0m\u001b[0m\n\u001b[0;32m      5\u001b[0m \u001b[1;32mimport\u001b[0m \u001b[0mnumpy\u001b[0m \u001b[1;32mas\u001b[0m \u001b[0mnp\u001b[0m\u001b[1;33m\u001b[0m\u001b[1;33m\u001b[0m\u001b[0m\n",
      "\u001b[1;31mModuleNotFoundError\u001b[0m: No module named 'errorsmitigation.dataprocessing'"
     ]
    }
   ],
   "source": [
    "import sys\n",
    "sys.path.append('../ResponsibleAIToolbox-Mitigation/')\n",
    "from errorsmitigation.dataprocessing import DataSplit, DataTransformer, DataRebalance, DataSample\n",
    "import pandas as pd\n",
    "import numpy as np"
   ]
  },
  {
   "cell_type": "code",
   "execution_count": null,
   "metadata": {},
   "outputs": [],
   "source": [
    "from databalanceanalysis.databalanceanalysis.aggregate_measures import AggregateMeasures\n",
    "\n",
    "from databalanceanalysis.databalanceanalysis.constants import Measures\n",
    "\n",
    "from imblearn.under_sampling import TomekLinks\n",
    "from imblearn.over_sampling import SMOTE\n",
    "from imblearn.combine import SMOTETomek\n"
   ]
  },
  {
   "cell_type": "code",
   "execution_count": null,
   "metadata": {},
   "outputs": [],
   "source": [
    "\n",
    "from databalanceanalysis.databalanceanalysis.feature_measures import FeatureMeasures\n",
    "from databalanceanalysis.databalanceanalysis.distribution_measures import DistributionMeasures"
   ]
  },
  {
   "cell_type": "code",
   "execution_count": null,
   "metadata": {},
   "outputs": [],
   "source": [
    "data_dir = '../datasets/'\n",
    "dataset =  pd.read_csv(data_dir + '/FaceTest.csv')\n",
    "\n",
    "seed = 42\n",
    "dataset.shape\n",
    "dataset.head()"
   ]
  },
  {
   "cell_type": "code",
   "execution_count": null,
   "metadata": {},
   "outputs": [],
   "source": [
    "feat_measures = FeatureMeasures(dataset, [\"Gender\"], \"Label\")\n",
    "feat_measures.feature_measures['Gender']"
   ]
  },
  {
   "cell_type": "code",
   "execution_count": null,
   "metadata": {},
   "outputs": [],
   "source": [
    "dist_measures = DistributionMeasures(dataset, [\"Gender\"])\n",
    "dist_measures.distribution_measures['Gender']"
   ]
  },
  {
   "cell_type": "code",
   "execution_count": null,
   "metadata": {},
   "outputs": [],
   "source": [
    "agg_measures = AggregateMeasures(dataset, [\"Gender\"])\n",
    "agg_measures.aggregate_measures"
   ]
  },
  {
   "cell_type": "code",
   "execution_count": null,
   "metadata": {},
   "outputs": [],
   "source": [
    "tomek = TomekLinks(sampling_strategy=\"auto\")\n",
    "smote = SMOTE()\n",
    "smote_tomek = SMOTETomek(sampling_strategy=\"auto\", random_state = seed)"
   ]
  },
  {
   "cell_type": "code",
   "execution_count": null,
   "metadata": {},
   "outputs": [],
   "source": [
    "data_rebalance =  DataRebalance(dataset, \"Gender\", None, None, None, smote, None)\n",
    "X = data_rebalance.Rebalance()\n",
    "\n",
    "dataset.shape\n",
    "X.shape"
   ]
  },
  {
   "cell_type": "code",
   "execution_count": null,
   "metadata": {},
   "outputs": [],
   "source": []
  }
 ],
 "metadata": {
  "interpreter": {
   "hash": "62b9774006c3fe3c644194fec0b45a6ab1b0490c475a74c5ec2713a9c50c4834"
  },
  "kernelspec": {
   "display_name": "Python 3.8.8 64-bit ('base': conda)",
   "language": "python",
   "name": "python3"
  },
  "language_info": {
   "codemirror_mode": {
    "name": "ipython",
    "version": 3
   },
   "file_extension": ".py",
   "mimetype": "text/x-python",
   "name": "python",
   "nbconvert_exporter": "python",
   "pygments_lexer": "ipython3",
   "version": "3.9.7"
  },
  "orig_nbformat": 4
 },
 "nbformat": 4,
 "nbformat_minor": 2
}
