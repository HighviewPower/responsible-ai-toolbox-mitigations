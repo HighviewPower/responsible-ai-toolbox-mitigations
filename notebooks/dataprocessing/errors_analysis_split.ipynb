{
 "cells": [
  {
   "cell_type": "markdown",
   "id": "d02d7f50",
   "metadata": {},
   "source": [
    "## Split Data Error Mitigation Example"
   ]
  },
  {
   "cell_type": "code",
   "execution_count": null,
   "id": "3b45f478",
   "metadata": {},
   "outputs": [],
   "source": [
    "!pip install -e ../../../responsible-ai-mitigations"
   ]
  },
  {
   "cell_type": "code",
   "execution_count": null,
   "id": "7e797012",
   "metadata": {},
   "outputs": [],
   "source": [
    "import pandas as pd\n",
    "import zipfile\n",
    "import pathlib\n",
    "from raimitigations.dataprocessing import Split\n",
    "\n",
    "from urllib.request import urlretrieve\n",
    "from IPython.core.interactiveshell import InteractiveShell\n",
    "InteractiveShell.ast_node_interactivity = \"all\""
   ]
  },
  {
   "cell_type": "code",
   "execution_count": null,
   "id": "3b1d4475",
   "metadata": {},
   "outputs": [],
   "source": [
    "outdirname = 'mitigations-datasets.2.22.2022'\n",
    "zipfilename = outdirname + '.zip'\n",
    "if not pathlib.Path(outdirname).exists () :\n",
    "    urlretrieve('https://publictestdatasets.blob.core.windows.net/data/' + zipfilename, '../../' + zipfilename)\n",
    "    with zipfile.ZipFile('../../' + zipfilename, 'r') as unzip:\n",
    "        unzip.extractall('../../.')\n",
    "\n",
    "data_dir = ('../../' + outdirname + '/hr_promotion')\n",
    "dataset =  pd.read_csv(data_dir + '/train.csv').drop(['employee_id'], axis=1)\n",
    "seed = 42\n",
    "\n",
    "dataset.head()\n"
   ]
  },
  {
   "cell_type": "code",
   "execution_count": null,
   "id": "12d21c35",
   "metadata": {},
   "outputs": [],
   "source": [
    "# # Parameters\n",
    "\n",
    "# dataset - Panda Data Frame. \n",
    "# target – A string representing the name of the label column, or the label column integer index (zero base)\n",
    "# train_size – The training data split size.  The default is 0.9, which split the dataset to 90% training and 10% testing. \n",
    "    # Training and Test split values add up to 1. \n",
    "# random_state – Control the randomization of the algorithm. \n",
    "    # ‘None’: the random number generator is the RandomState instance used by np.random.  \n",
    "# categorical_features – A Boolean flag to indicates the presence of categorical features. Default is True.  \n",
    "# drop_null: If flag is set to True, records with null values are dropped, otherwise they are replaced by the mean.\n",
    "    # Default is True.\n",
    "# drop_duplicates: if flag is set to True, duplicate records are dropped. Default is False.\n",
    "# Stratify: If not None, data is split in a stratified fashion, using this as the class labels. Default is False.\n",
    "\n",
    "# data before \n",
    "dataset.head()\n",
    "print(dataset.shape)\n",
    "\n",
    "target_index = dataset.columns.get_loc('is_promoted')\n",
    "\n",
    "data_split =  Split(dataset,target_index , 0.9, seed, True, True, True, True)\n",
    "# data_split =  Split(dataset, 'is_promoted', 0.9, seed, True, True, True, True)\n",
    "train_data, test_data = data_split.split()\n",
    "\n",
    "\n",
    "# data after \n",
    "train_data.head()\n",
    "print(train_data.shape)"
   ]
  },
  {
   "cell_type": "code",
   "execution_count": null,
   "id": "34c8abec",
   "metadata": {},
   "outputs": [],
   "source": [
    "# stratify ON\n",
    "print('Stratify ON')\n",
    "\n",
    "#                 dataset\n",
    "#                 target\n",
    "#                 train_size\n",
    "#                 random_state = None\n",
    "#                 categorical_features = True \n",
    "#                 drop_null = True\n",
    "#                 drop_duplicates = False\n",
    "#                 is_stratify = False\n",
    "\n",
    "data_split =  Split(dataset, 12, 0.5, seed, False, False, True, True)\n",
    "train_data, test_data = data_split.split()\n",
    "\n",
    "df_train = pd.DataFrame(train_data)\n",
    "print('Train dataset % of target (1 over 0): ' + str(df_train.is_promoted.value_counts()[1] /\n",
    "df_train.is_promoted.value_counts()[0]))\n",
    "df_test = pd.DataFrame(test_data)\n",
    "print('Test dataset % of target (1 over 0): ' + str(df_test.is_promoted.value_counts()[1] /\n",
    "df_test.is_promoted.value_counts()[0]))\n",
    "# df_train.is_promoted.value_counts().plot(kind='bar', title=' Train dataset count (is_promoted)')\n",
    "# df_test.is_promoted.value_counts().plot(kind='bar', title='Test dataset count (is_promoted)')\n",
    "\n"
   ]
  },
  {
   "cell_type": "code",
   "execution_count": null,
   "id": "a0afc2df",
   "metadata": {},
   "outputs": [],
   "source": [
    "# stratify OFF\n",
    "print('Stratify OFF')\n",
    "\n",
    "\n",
    "   \n",
    "data_split =  Split(dataset, 12, 0.5, seed, False, False, True, False)\n",
    "train_data, test_data = data_split.split()\n",
    "df = pd.DataFrame(train_data)\n",
    "print('Train dataset % of target (1 over 0): ' + str(df.is_promoted.value_counts()[1] /\n",
    "df.is_promoted.value_counts()[0]))\n",
    "df = pd.DataFrame(test_data)\n",
    "print('Test dataset % of target (1 over 0): ' + str(df.is_promoted.value_counts()[1] /\n",
    "df.is_promoted.value_counts()[0])) \n"
   ]
  },
  {
   "cell_type": "code",
   "execution_count": null,
   "id": "b2850a94",
   "metadata": {},
   "outputs": [],
   "source": []
  }
 ],
 "metadata": {
  "kernelspec": {
   "display_name": "Python 3 (ipykernel)",
   "language": "python",
   "name": "python3"
  },
  "language_info": {
   "codemirror_mode": {
    "name": "ipython",
    "version": 3
   },
   "file_extension": ".py",
   "mimetype": "text/x-python",
   "name": "python",
   "nbconvert_exporter": "python",
   "pygments_lexer": "ipython3",
   "version": "3.8.5"
  }
 },
 "nbformat": 4,
 "nbformat_minor": 5
}
