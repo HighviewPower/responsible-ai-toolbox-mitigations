{
 "cells": [
  {
   "cell_type": "markdown",
   "metadata": {},
   "source": [
    "# Cohort Case Study 1"
   ]
  },
  {
   "cell_type": "code",
   "execution_count": 29,
   "metadata": {},
   "outputs": [],
   "source": [
    "import random\n",
    "import numpy as np\n",
    "import pandas as pd\n",
    "import xgboost as xgb\n",
    "from sklearn.pipeline import Pipeline\n",
    "from lightgbm import LGBMClassifier\n",
    "\n",
    "import raimitigations.dataprocessing as dp\n",
    "from raimitigations.cohort import CohortDefinition, CohortManager\n",
    "\n",
    "#SEED = 42\n",
    "SEED = None\n",
    "\n",
    "def _create_country_df(samples: int, sectors: dict, country_name: str):\n",
    "    df = None\n",
    "    for key in sectors.keys():\n",
    "        size = int(samples * sectors[key][\"prob_occur\"])\n",
    "        invest = np.random.uniform(low=sectors[key][\"min\"], high=sectors[key][\"max\"], size=size)\n",
    "        min_invest = min(invest)\n",
    "        max_invest = max(invest)\n",
    "        range_invest = max_invest - min_invest\n",
    "        bankrupt_th = sectors[key][\"prob_success\"] * range_invest\n",
    "        bankrupt = []\n",
    "        for i in range(invest.shape[0]):\n",
    "            if invest[i] > bankrupt_th:\n",
    "                bankrupt.append(0)\n",
    "            else:\n",
    "                bankrupt.append(1)\n",
    "        noise_ind = np.random.choice(range(size), int(size*0.1), replace=False)\n",
    "        for ind in noise_ind:\n",
    "            bankrupt[ind] = int(not bankrupt[ind])\n",
    "        noise_ind = np.random.choice(range(size), int(size*0.1), replace=False)\n",
    "        for ind in noise_ind:\n",
    "            invest[ind] = np.nan\n",
    "        \n",
    "        country_col = [country_name for _ in range(size)]\n",
    "        sector_col = [key for _ in range(size)]\n",
    "        df_sector = pd.DataFrame({\n",
    "            \"investment\":invest,\n",
    "            \"sector\":sector_col,\n",
    "            \"country\":country_col,\n",
    "            \"bankrupt\":bankrupt\n",
    "        })\n",
    "        \n",
    "        if df is None:\n",
    "            df = df_sector\n",
    "        else:\n",
    "            df = pd.concat([df, df_sector], axis=0)\n",
    "    return df"
   ]
  },
  {
   "cell_type": "code",
   "execution_count": 30,
   "metadata": {},
   "outputs": [],
   "source": [
    "def create_df_multiple_distributions(samples: list):\n",
    "    np.random.seed(SEED)\n",
    "    random.seed(SEED)\n",
    "    sectors_c1 = {\n",
    "        \"s1\": {\"prob_occur\":0.2, \"prob_success\":0.8, \"min\":20000, \"max\":100000},\n",
    "        \"s2\": {\"prob_occur\":0.4, \"prob_success\":0.6, \"min\":1000, \"max\":15000},\n",
    "        \"s3\": {\"prob_occur\":0.1, \"prob_success\":0.9, \"min\":1000000, \"max\":10000000},\n",
    "        \"s4\": {\"prob_occur\":0.3, \"prob_success\":0.7, \"min\":4000000, \"max\":900000000},\n",
    "    }\n",
    "    sectors_c2 = {\n",
    "        \"s1\": {\"prob_occur\":0.05, \"prob_success\":0.6, \"min\":1000, \"max\":5000},\n",
    "        \"s2\": {\"prob_occur\":0.6, \"prob_success\":0.9, \"min\":100000, \"max\":1500000},\n",
    "        \"s3\": {\"prob_occur\":0.2, \"prob_success\":0.5, \"min\":50000, \"max\":300000},\n",
    "        \"s4\": {\"prob_occur\":0.15, \"prob_success\":0.8, \"min\":1000000, \"max\":10000000},\n",
    "    }\n",
    "    countries = {\n",
    "        \"A\":{\"sectors\":sectors_c1, \"sample_rate\":0.8},\n",
    "        \"B\":{\"sectors\":sectors_c2, \"sample_rate\":0.2}\n",
    "    }\n",
    "    df = None\n",
    "    for key in countries.keys():\n",
    "        n_sample = int(samples * countries[key][\"sample_rate\"])\n",
    "        df_c = _create_country_df(n_sample, countries[key][\"sectors\"], key)\n",
    "        if df is None:\n",
    "            df = df_c\n",
    "        else:\n",
    "            df = pd.concat([df, df_c], axis=0)\n",
    "    \n",
    "    idx = pd.Index([i for i in range(df.shape[0])])\n",
    "    df = df.set_index(idx)\n",
    "    return df"
   ]
  },
  {
   "cell_type": "code",
   "execution_count": 31,
   "metadata": {},
   "outputs": [
    {
     "data": {
      "text/html": [
       "<div>\n",
       "<style scoped>\n",
       "    .dataframe tbody tr th:only-of-type {\n",
       "        vertical-align: middle;\n",
       "    }\n",
       "\n",
       "    .dataframe tbody tr th {\n",
       "        vertical-align: top;\n",
       "    }\n",
       "\n",
       "    .dataframe thead th {\n",
       "        text-align: right;\n",
       "    }\n",
       "</style>\n",
       "<table border=\"1\" class=\"dataframe\">\n",
       "  <thead>\n",
       "    <tr style=\"text-align: right;\">\n",
       "      <th></th>\n",
       "      <th>investment</th>\n",
       "      <th>sector</th>\n",
       "      <th>country</th>\n",
       "      <th>bankrupt</th>\n",
       "    </tr>\n",
       "  </thead>\n",
       "  <tbody>\n",
       "    <tr>\n",
       "      <th>0</th>\n",
       "      <td>6.952551e+04</td>\n",
       "      <td>s1</td>\n",
       "      <td>A</td>\n",
       "      <td>0</td>\n",
       "    </tr>\n",
       "    <tr>\n",
       "      <th>1</th>\n",
       "      <td>6.275074e+04</td>\n",
       "      <td>s1</td>\n",
       "      <td>A</td>\n",
       "      <td>1</td>\n",
       "    </tr>\n",
       "    <tr>\n",
       "      <th>2</th>\n",
       "      <td>2.552050e+04</td>\n",
       "      <td>s1</td>\n",
       "      <td>A</td>\n",
       "      <td>1</td>\n",
       "    </tr>\n",
       "    <tr>\n",
       "      <th>3</th>\n",
       "      <td>7.129769e+04</td>\n",
       "      <td>s1</td>\n",
       "      <td>A</td>\n",
       "      <td>0</td>\n",
       "    </tr>\n",
       "    <tr>\n",
       "      <th>4</th>\n",
       "      <td>4.032000e+04</td>\n",
       "      <td>s1</td>\n",
       "      <td>A</td>\n",
       "      <td>1</td>\n",
       "    </tr>\n",
       "    <tr>\n",
       "      <th>...</th>\n",
       "      <td>...</td>\n",
       "      <td>...</td>\n",
       "      <td>...</td>\n",
       "      <td>...</td>\n",
       "    </tr>\n",
       "    <tr>\n",
       "      <th>2995</th>\n",
       "      <td>5.439663e+06</td>\n",
       "      <td>s4</td>\n",
       "      <td>B</td>\n",
       "      <td>1</td>\n",
       "    </tr>\n",
       "    <tr>\n",
       "      <th>2996</th>\n",
       "      <td>1.310433e+06</td>\n",
       "      <td>s4</td>\n",
       "      <td>B</td>\n",
       "      <td>1</td>\n",
       "    </tr>\n",
       "    <tr>\n",
       "      <th>2997</th>\n",
       "      <td>9.712284e+06</td>\n",
       "      <td>s4</td>\n",
       "      <td>B</td>\n",
       "      <td>1</td>\n",
       "    </tr>\n",
       "    <tr>\n",
       "      <th>2998</th>\n",
       "      <td>7.340829e+06</td>\n",
       "      <td>s4</td>\n",
       "      <td>B</td>\n",
       "      <td>0</td>\n",
       "    </tr>\n",
       "    <tr>\n",
       "      <th>2999</th>\n",
       "      <td>1.644679e+06</td>\n",
       "      <td>s4</td>\n",
       "      <td>B</td>\n",
       "      <td>1</td>\n",
       "    </tr>\n",
       "  </tbody>\n",
       "</table>\n",
       "<p>3000 rows × 4 columns</p>\n",
       "</div>"
      ],
      "text/plain": [
       "        investment sector country  bankrupt\n",
       "0     6.952551e+04     s1       A         0\n",
       "1     6.275074e+04     s1       A         1\n",
       "2     2.552050e+04     s1       A         1\n",
       "3     7.129769e+04     s1       A         0\n",
       "4     4.032000e+04     s1       A         1\n",
       "...            ...    ...     ...       ...\n",
       "2995  5.439663e+06     s4       B         1\n",
       "2996  1.310433e+06     s4       B         1\n",
       "2997  9.712284e+06     s4       B         1\n",
       "2998  7.340829e+06     s4       B         0\n",
       "2999  1.644679e+06     s4       B         1\n",
       "\n",
       "[3000 rows x 4 columns]"
      ]
     },
     "execution_count": 31,
     "metadata": {},
     "output_type": "execute_result"
    }
   ],
   "source": [
    "df = create_df_multiple_distributions(3000)\n",
    "df"
   ]
  },
  {
   "cell_type": "code",
   "execution_count": 32,
   "metadata": {},
   "outputs": [
    {
     "data": {
      "text/plain": [
       "1    0.869388\n",
       "0    0.130612\n",
       "Name: bankrupt, dtype: float64"
      ]
     },
     "execution_count": 32,
     "metadata": {},
     "output_type": "execute_result"
    }
   ],
   "source": [
    "subset = df.query(\"sector == 's1' and investment < 60000\")\n",
    "subset['bankrupt'].value_counts(normalize=True)"
   ]
  },
  {
   "cell_type": "code",
   "execution_count": 33,
   "metadata": {},
   "outputs": [
    {
     "name": "stdout",
     "output_type": "stream",
     "text": [
      "No columns specified for encoding. These columns have been automatically identfied as the following:\n",
      "['sector', 'country']\n",
      "No columns specified for imputation. These columns have been automatically identified:\n",
      "['investment']\n",
      "------------\n",
      "TEST\n",
      "------------\n",
      "[[141  36]\n",
      " [ 26 247]]\n"
     ]
    },
    {
     "data": {
      "image/png": "[encoded data removed]",
      "text/plain": [
       "<Figure size 432x288 with 2 Axes>"
      ]
     },
     "metadata": {
      "needs_background": "light"
     },
     "output_type": "display_data"
    },
    {
     "name": "stdout",
     "output_type": "stream",
     "text": [
      "Acuracy: 86.22%\n",
      "\n",
      "Precision:  0.8585514483400689\n",
      "\n",
      "Recall:  0.8506860371267151\n",
      "\n",
      "F1 =  0.8541283252467793\n",
      "\n",
      "ROC AUC =  0.882628670764264\n"
     ]
    }
   ],
   "source": [
    "X_train, X_test, y_train, y_test = dp.split_data(df, label=\"bankrupt\", test_size=0.15)\n",
    "class_list = y_train.unique()\n",
    "\n",
    "model = LGBMClassifier(random_state=SEED)\n",
    "pipe = Pipeline([\n",
    "            (\"encoder\", dp.EncoderOHE()),\n",
    "            (\"imputer\", dp.BasicImputer()),\n",
    "            (\"estimator\", model),\n",
    "        ])\n",
    "pipe.fit(X_train, y_train)\n",
    "pred = pipe.predict_proba(X_test)\n",
    "\n",
    "roc, pr, rc, th = dp.evaluate_set(y_test, pred, is_train=False, plot_pr=False, classes=class_list)"
   ]
  },
  {
   "cell_type": "code",
   "execution_count": 34,
   "metadata": {},
   "outputs": [
    {
     "name": "stdout",
     "output_type": "stream",
     "text": [
      "No columns specified for imputation. These columns have been automatically identified:\n",
      "['investment']\n",
      "No columns specified for imputation. These columns have been automatically identified:\n",
      "['investment']\n",
      "No columns specified for encoding. These columns have been automatically identfied as the following:\n",
      "['sector', 'country']\n",
      "------------\n",
      "TEST\n",
      "------------\n",
      "[[148  29]\n",
      " [ 35 238]]\n"
     ]
    },
    {
     "data": {
      "image/png": "[encoded data removed]",
      "text/plain": [
       "<Figure size 432x288 with 2 Axes>"
      ]
     },
     "metadata": {
      "needs_background": "light"
     },
     "output_type": "display_data"
    },
    {
     "name": "stdout",
     "output_type": "stream",
     "text": [
      "Acuracy: 85.78%\n",
      "\n",
      "Precision:  0.8500644685945846\n",
      "\n",
      "Recall:  0.8539765319426336\n",
      "\n",
      "F1 =  0.8518518518518519\n",
      "\n",
      "ROC AUC =  0.8877506674116844\n"
     ]
    }
   ],
   "source": [
    "model = LGBMClassifier(random_state=SEED)\n",
    "\n",
    "cht_manager = CohortManager(\n",
    "    transform_pipe=dp.BasicImputer(),\n",
    "    cohort_col=[\"country\"]\n",
    ")\n",
    "\n",
    "pipe = Pipeline([\n",
    "            (\"imputer\", cht_manager),\n",
    "            (\"encoder\", dp.EncoderOHE()),\n",
    "            (\"estimator\", model),\n",
    "        ])\n",
    "pipe.fit(X_train, y_train)\n",
    "pred = pipe.predict_proba(X_test)\n",
    "\n",
    "roc, pr, rc, th = dp.evaluate_set(y_test, pred, is_train=False, plot_pr=False, classes=class_list)"
   ]
  },
  {
   "cell_type": "code",
   "execution_count": 35,
   "metadata": {},
   "outputs": [
    {
     "name": "stdout",
     "output_type": "stream",
     "text": [
      "No columns specified for encoding. These columns have been automatically identfied as the following:\n",
      "['sector', 'country']\n",
      "No columns specified for imputation. These columns have been automatically identified:\n",
      "['investment']\n",
      "No columns specified for encoding. These columns have been automatically identfied as the following:\n",
      "['sector', 'country']\n",
      "No columns specified for imputation. These columns have been automatically identified:\n",
      "['investment']\n",
      "------------\n",
      "TEST\n",
      "------------\n",
      "[[147  30]\n",
      " [ 33 240]]\n"
     ]
    },
    {
     "data": {
      "image/png": "[encoded data removed]",
      "text/plain": [
       "<Figure size 432x288 with 2 Axes>"
      ]
     },
     "metadata": {
      "needs_background": "light"
     },
     "output_type": "display_data"
    },
    {
     "name": "stdout",
     "output_type": "stream",
     "text": [
      "Acuracy: 86.00%\n",
      "\n",
      "Precision:  0.8527777777777777\n",
      "\n",
      "Recall:  0.8548146768485752\n",
      "\n",
      "F1 =  0.8537536561585959\n",
      "\n",
      "ROC AUC =  0.8726330167008134\n"
     ]
    }
   ],
   "source": [
    "model = LGBMClassifier(random_state=SEED)\n",
    "\n",
    "cht_manager = CohortManager(\n",
    "    transform_pipe=[dp.EncoderOHE(), dp.BasicImputer(), model],\n",
    "    cohort_col=[\"country\"]\n",
    ")\n",
    "cht_manager.fit(X_train, y_train)\n",
    "pred = cht_manager.predict_proba(X_test)\n",
    "\n",
    "roc, pr, rc, th = dp.evaluate_set(y_test, pred, is_train=False, plot_pr=False, classes=class_list)"
   ]
  },
  {
   "cell_type": "code",
   "execution_count": null,
   "metadata": {},
   "outputs": [],
   "source": []
  }
 ],
 "metadata": {
  "kernelspec": {
   "display_name": "Python 3.9.12 ('rai')",
   "language": "python",
   "name": "python3"
  },
  "language_info": {
   "codemirror_mode": {
    "name": "ipython",
    "version": 3
   },
   "file_extension": ".py",
   "mimetype": "text/x-python",
   "name": "python",
   "nbconvert_exporter": "python",
   "pygments_lexer": "ipython3",
   "version": "3.9.12"
  },
  "orig_nbformat": 4,
  "vscode": {
   "interpreter": {
    "hash": "5215fd1cce9b64233b490e6c4e868a314fa8a5a2b064fe0583fd0c29542af034"
   }
  }
 },
 "nbformat": 4,
 "nbformat_minor": 2
}
