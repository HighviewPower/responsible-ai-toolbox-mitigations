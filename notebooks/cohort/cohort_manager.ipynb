{
 "cells": [
  {
   "cell_type": "markdown",
   "metadata": {},
   "source": [
    "# Managing cohorts\n",
    "\n",
    "This library allows users to apply certain mitigations over a specific cohort, instead of ​applying it to the entire dataset. This is useful when, for example, two cohorts have a very different label distribution and we want to rebalance each cohort individually, instead of rebalancing the entire dataset. In some scenarios, applying a mitigation over each cohort separately is more advantageous than applying it over the whole dataset.\n",
    "\n",
    "In this notebook, we'll show how to apply different pipelines for each cohort separately. To accomplish this, we'll use the `CohortManager` class. This class allows us to create multiple pipelines (using transformers from `scikit-learn` or from the current library) and apply them to each cohort separately. All this is done following the ``fit()`` and ``transform()`` paradigms, ​similar  to the other mitigations from the `dataprocessing` module.\n",
    "\n",
    "First of all, let's import the ``CohortManager`` class, which is found in the `cohort` module."
   ]
  },
  {
   "cell_type": "code",
   "execution_count": 1,
   "metadata": {},
   "outputs": [],
   "source": [
    "import random\n",
    "import numpy as np\n",
    "import pandas as pd\n",
    "import xgboost as xgb\n",
    "from sklearn.pipeline import Pipeline\n",
    "\n",
    "import raimitigations.dataprocessing as dp\n",
    "from raimitigations.cohort import CohortDefinition, CohortManager\n",
    "\n",
    "SEED = 42"
   ]
  },
  {
   "cell_type": "markdown",
   "metadata": {},
   "source": [
    "## Toy dataset\n",
    "\n",
    "Next, we'll create a toy dataset so we can showcase how the ``CohortManager`` operates."
   ]
  },
  {
   "cell_type": "code",
   "execution_count": 2,
   "metadata": {},
   "outputs": [],
   "source": [
    "def create_df(with_null: bool = True):\n",
    "    np.random.seed(SEED)\n",
    "    random.seed(SEED)\n",
    "    def add_nan(vec, pct):\n",
    "        vec = list(vec)\n",
    "        nan_index = random.sample(range(len(vec)), int(pct * len(vec)))\n",
    "        for index in nan_index:\n",
    "            vec[index] = np.nan\n",
    "        return vec\n",
    "\n",
    "    df = dp.create_dummy_dataset(\n",
    "        samples=1000,\n",
    "        n_features=2,\n",
    "        n_num_num=0,\n",
    "        n_cat_num=2,\n",
    "        n_cat_cat=0,\n",
    "        num_num_noise=[0.01, 0.05],\n",
    "        pct_change=[0.05, 0.1],\n",
    "    )\n",
    "    if with_null:\n",
    "        col_with_nan = [\"num_0\", \"num_1\"]\n",
    "        for col in col_with_nan:\n",
    "            if col != \"label\":\n",
    "                df[col] = add_nan(df[col], 0.1)\n",
    "\n",
    "    X = df.drop(columns=[\"label\"])\n",
    "    y = df[[\"label\"]]\n",
    "\n",
    "    return X, y\n",
    "\n",
    "# -----------------------------------\n",
    "def get_model():\n",
    "    model = xgb.XGBClassifier(\n",
    "            objective=\"binary:logistic\",\n",
    "            learning_rate=0.1,\n",
    "            n_estimators=30,\n",
    "            max_depth=10,\n",
    "            colsample_bytree=0.7,\n",
    "            alpha=0.0,\n",
    "            reg_lambda=10.0,\n",
    "            nthreads=4,\n",
    "            verbosity=0,\n",
    "            use_label_encoder=False,\n",
    "        )\n",
    "    return model"
   ]
  },
  {
   "cell_type": "code",
   "execution_count": 3,
   "metadata": {},
   "outputs": [
    {
     "data": {
      "text/html": [
       "<div>\n",
       "<style scoped>\n",
       "    .dataframe tbody tr th:only-of-type {\n",
       "        vertical-align: middle;\n",
       "    }\n",
       "\n",
       "    .dataframe tbody tr th {\n",
       "        vertical-align: top;\n",
       "    }\n",
       "\n",
       "    .dataframe thead th {\n",
       "        text-align: right;\n",
       "    }\n",
       "</style>\n",
       "<table border=\"1\" class=\"dataframe\">\n",
       "  <thead>\n",
       "    <tr style=\"text-align: right;\">\n",
       "      <th></th>\n",
       "      <th>num_0</th>\n",
       "      <th>num_1</th>\n",
       "      <th>CN_0_num_0</th>\n",
       "      <th>CN_1_num_1</th>\n",
       "    </tr>\n",
       "  </thead>\n",
       "  <tbody>\n",
       "    <tr>\n",
       "      <th>0</th>\n",
       "      <td>1.601034</td>\n",
       "      <td>2.535353</td>\n",
       "      <td>val0_0</td>\n",
       "      <td>val1_3</td>\n",
       "    </tr>\n",
       "    <tr>\n",
       "      <th>1</th>\n",
       "      <td>1.755945</td>\n",
       "      <td>-2.172352</td>\n",
       "      <td>val0_1</td>\n",
       "      <td>val1_0</td>\n",
       "    </tr>\n",
       "    <tr>\n",
       "      <th>2</th>\n",
       "      <td>2.354479</td>\n",
       "      <td>NaN</td>\n",
       "      <td>val0_0</td>\n",
       "      <td>val1_0</td>\n",
       "    </tr>\n",
       "    <tr>\n",
       "      <th>3</th>\n",
       "      <td>4.103090</td>\n",
       "      <td>-0.766515</td>\n",
       "      <td>val0_1</td>\n",
       "      <td>val1_2</td>\n",
       "    </tr>\n",
       "    <tr>\n",
       "      <th>4</th>\n",
       "      <td>1.753178</td>\n",
       "      <td>1.787514</td>\n",
       "      <td>val0_0</td>\n",
       "      <td>val1_1</td>\n",
       "    </tr>\n",
       "    <tr>\n",
       "      <th>...</th>\n",
       "      <td>...</td>\n",
       "      <td>...</td>\n",
       "      <td>...</td>\n",
       "      <td>...</td>\n",
       "    </tr>\n",
       "    <tr>\n",
       "      <th>995</th>\n",
       "      <td>2.713939</td>\n",
       "      <td>1.451639</td>\n",
       "      <td>val0_1</td>\n",
       "      <td>val1_2</td>\n",
       "    </tr>\n",
       "    <tr>\n",
       "      <th>996</th>\n",
       "      <td>1.420812</td>\n",
       "      <td>2.535627</td>\n",
       "      <td>val0_0</td>\n",
       "      <td>val1_3</td>\n",
       "    </tr>\n",
       "    <tr>\n",
       "      <th>997</th>\n",
       "      <td>3.844315</td>\n",
       "      <td>1.211294</td>\n",
       "      <td>val0_1</td>\n",
       "      <td>val1_2</td>\n",
       "    </tr>\n",
       "    <tr>\n",
       "      <th>998</th>\n",
       "      <td>0.974124</td>\n",
       "      <td>2.619258</td>\n",
       "      <td>val0_0</td>\n",
       "      <td>val1_3</td>\n",
       "    </tr>\n",
       "    <tr>\n",
       "      <th>999</th>\n",
       "      <td>4.641478</td>\n",
       "      <td>-0.243075</td>\n",
       "      <td>val0_1</td>\n",
       "      <td>val1_1</td>\n",
       "    </tr>\n",
       "  </tbody>\n",
       "</table>\n",
       "<p>1000 rows × 4 columns</p>\n",
       "</div>"
      ],
      "text/plain": [
       "        num_0     num_1 CN_0_num_0 CN_1_num_1\n",
       "0    1.601034  2.535353     val0_0     val1_3\n",
       "1    1.755945 -2.172352     val0_1     val1_0\n",
       "2    2.354479       NaN     val0_0     val1_0\n",
       "3    4.103090 -0.766515     val0_1     val1_2\n",
       "4    1.753178  1.787514     val0_0     val1_1\n",
       "..        ...       ...        ...        ...\n",
       "995  2.713939  1.451639     val0_1     val1_2\n",
       "996  1.420812  2.535627     val0_0     val1_3\n",
       "997  3.844315  1.211294     val0_1     val1_2\n",
       "998  0.974124  2.619258     val0_0     val1_3\n",
       "999  4.641478 -0.243075     val0_1     val1_1\n",
       "\n",
       "[1000 rows x 4 columns]"
      ]
     },
     "execution_count": 3,
     "metadata": {},
     "output_type": "execute_result"
    }
   ],
   "source": [
    "X, y = create_df()\n",
    "X"
   ]
  },
  {
   "cell_type": "markdown",
   "metadata": {},
   "source": [
    "## Basic scenario\n",
    "\n",
    "Next, we'll explore a basic scenario where the ``CohortManager`` can prove its usefulness. In this scenario, we want to apply an imputation, followed by a min max scaler over each cohort separately. Once again: this is useful when each cohort has different behaviors or distributions for a particular column, so applying an imputation based on the mean value of the column over each cohort separately will make more sense than using the mean of the column of the entire dataset, for example.\n",
    "\n",
    "The `CohortManager` requires two main parameters: a transformation pipeline and a list of cohort definitions. The latter is already explored and explained in the notebook showcasing the `CohortDefinition` class (which is used internally by the `CohortManager`). The former is simply a list of objects that implement the `fit()`, `transform()`, `predict()` paradigm, or the `fit_resample()` method (for rebalancing classes, such as the `Rebalance` class from the `dataprocessing` module, or the rebalance classes from the `imblearn` library).\n",
    "\n",
    "There are two constraints when defining the cohorts:\n",
    "1. The definitions must not allow any instance to belong to more than 1 cohort. If that happens, an error is raised;\n",
    "2. The definitions must include all instances (without repetition due to the previous constraint). Since in some cases it is difficult to define a set of conditions for the last cohort such that it includes all instances not belonging to any of the previous cohorts, we created an easier way to accomplish this: the condition list for the last cohort is allowed to be `None`. When this happens, this cohort is understood as being the one with all the remaining instances that don't belong to any of the other cohorts.\n",
    "\n",
    "Once we instantiate the `CohortManager` object, we can treat it similarly to other classes from the `dataprocessing` module: call the `fit()` and `transform()` methods. Internally, what will happen is the following: \n",
    "1. the cohort pipeline will be duplicated, such that we'll have one pipeline for each cohort, with different objects instantiation;\n",
    "2. during the `fit()` method, we'll cycle through all cohorts, and for each cohort:\n",
    "    * we'll first filter the dataset provided (in this case, `X` and `y`) so that it includes only instances that belong to the current cohort;\n",
    "    * with the subset of the current cohort, we'll call the `fit()` method for all the transformations in the cohort's pipeline (in the order in which they appear) using the subset dataset as input;\n",
    "4. during the ``transform()`` method, we'll use a similar approach, but instead of calling the `fit()` method for the transformers in each cohort's pipeline, this time we'll call the `transform()` method;\n",
    "    * if all cohorts are compatible with each other, that is, have the same columns after applying all transforms, then all subsets are concatenated together. The full dataset is then returned. If there are any inconsistencies between the cohorts, then we'll just add each subset into a list of subsets, and the final variable returned in this case is a list of subsets (we'll explore some examples ahead)."
   ]
  },
  {
   "cell_type": "code",
   "execution_count": 4,
   "metadata": {},
   "outputs": [
    {
     "data": {
      "text/html": [
       "<div>\n",
       "<style scoped>\n",
       "    .dataframe tbody tr th:only-of-type {\n",
       "        vertical-align: middle;\n",
       "    }\n",
       "\n",
       "    .dataframe tbody tr th {\n",
       "        vertical-align: top;\n",
       "    }\n",
       "\n",
       "    .dataframe thead th {\n",
       "        text-align: right;\n",
       "    }\n",
       "</style>\n",
       "<table border=\"1\" class=\"dataframe\">\n",
       "  <thead>\n",
       "    <tr style=\"text-align: right;\">\n",
       "      <th></th>\n",
       "      <th>num_0</th>\n",
       "      <th>num_1</th>\n",
       "      <th>CN_0_num_0</th>\n",
       "      <th>CN_1_num_1</th>\n",
       "    </tr>\n",
       "  </thead>\n",
       "  <tbody>\n",
       "    <tr>\n",
       "      <th>0</th>\n",
       "      <td>0.616278</td>\n",
       "      <td>0.790075</td>\n",
       "      <td>val0_0</td>\n",
       "      <td>val1_3</td>\n",
       "    </tr>\n",
       "    <tr>\n",
       "      <th>1</th>\n",
       "      <td>0.340936</td>\n",
       "      <td>0.040024</td>\n",
       "      <td>val0_1</td>\n",
       "      <td>val1_0</td>\n",
       "    </tr>\n",
       "    <tr>\n",
       "      <th>2</th>\n",
       "      <td>0.910331</td>\n",
       "      <td>0.660560</td>\n",
       "      <td>val0_0</td>\n",
       "      <td>val1_0</td>\n",
       "    </tr>\n",
       "    <tr>\n",
       "      <th>3</th>\n",
       "      <td>0.816398</td>\n",
       "      <td>0.284064</td>\n",
       "      <td>val0_1</td>\n",
       "      <td>val1_2</td>\n",
       "    </tr>\n",
       "    <tr>\n",
       "      <th>4</th>\n",
       "      <td>0.675657</td>\n",
       "      <td>0.688320</td>\n",
       "      <td>val0_0</td>\n",
       "      <td>val1_1</td>\n",
       "    </tr>\n",
       "    <tr>\n",
       "      <th>...</th>\n",
       "      <td>...</td>\n",
       "      <td>...</td>\n",
       "      <td>...</td>\n",
       "      <td>...</td>\n",
       "    </tr>\n",
       "    <tr>\n",
       "      <th>995</th>\n",
       "      <td>0.534997</td>\n",
       "      <td>0.669115</td>\n",
       "      <td>val0_1</td>\n",
       "      <td>val1_2</td>\n",
       "    </tr>\n",
       "    <tr>\n",
       "      <th>996</th>\n",
       "      <td>0.545942</td>\n",
       "      <td>0.790112</td>\n",
       "      <td>val0_0</td>\n",
       "      <td>val1_3</td>\n",
       "    </tr>\n",
       "    <tr>\n",
       "      <th>997</th>\n",
       "      <td>0.763978</td>\n",
       "      <td>0.627393</td>\n",
       "      <td>val0_1</td>\n",
       "      <td>val1_2</td>\n",
       "    </tr>\n",
       "    <tr>\n",
       "      <th>998</th>\n",
       "      <td>0.371610</td>\n",
       "      <td>0.801491</td>\n",
       "      <td>val0_0</td>\n",
       "      <td>val1_3</td>\n",
       "    </tr>\n",
       "    <tr>\n",
       "      <th>999</th>\n",
       "      <td>0.925459</td>\n",
       "      <td>0.374928</td>\n",
       "      <td>val0_1</td>\n",
       "      <td>val1_1</td>\n",
       "    </tr>\n",
       "  </tbody>\n",
       "</table>\n",
       "<p>1000 rows × 4 columns</p>\n",
       "</div>"
      ],
      "text/plain": [
       "        num_0     num_1 CN_0_num_0 CN_1_num_1\n",
       "0    0.616278  0.790075     val0_0     val1_3\n",
       "1    0.340936  0.040024     val0_1     val1_0\n",
       "2    0.910331  0.660560     val0_0     val1_0\n",
       "3    0.816398  0.284064     val0_1     val1_2\n",
       "4    0.675657  0.688320     val0_0     val1_1\n",
       "..        ...       ...        ...        ...\n",
       "995  0.534997  0.669115     val0_1     val1_2\n",
       "996  0.545942  0.790112     val0_0     val1_3\n",
       "997  0.763978  0.627393     val0_1     val1_2\n",
       "998  0.371610  0.801491     val0_0     val1_3\n",
       "999  0.925459  0.374928     val0_1     val1_1\n",
       "\n",
       "[1000 rows x 4 columns]"
      ]
     },
     "execution_count": 4,
     "metadata": {},
     "output_type": "execute_result"
    }
   ],
   "source": [
    "cohort_pipeline = [\n",
    "    dp.BasicImputer(verbose=False),\n",
    "    dp.DataMinMaxScaler(verbose=False),\n",
    "]\n",
    "\n",
    "c1 = [ ['CN_0_num_0', '==', 'val0_1'], 'and', ['num_0', '>', 0.0] ]\n",
    "c2 = [ ['CN_0_num_0', '==', 'val0_0'], 'and', ['num_0', '>', 0.0] ]\n",
    "c3 = None\n",
    "\n",
    "cohort_set = CohortManager(\n",
    "    transform_pipe=cohort_pipeline,\n",
    "    cohort_def=[c1, c2, c3]\n",
    ")\n",
    "cohort_set.fit(X=X, y=y)\n",
    "new_X = cohort_set.transform(X)\n",
    "new_X"
   ]
  },
  {
   "cell_type": "markdown",
   "metadata": {},
   "source": [
    "## Pipelines that result in incompatible cohorts\n",
    "\n",
    "As previously mentioned, in some cases, the pipeline associated with one or more cohorts may result in a cohort incompatible with at least one of the other cohorts. For example, consider the case where we add a one-hot encoding transformation in the pipeline. This will probably result in each cohort having different columns, which are the columns created by the one-hot encoder (for example, in case one of the cohorts doesn't have all existing values in a categorical column that is being encoded). \n",
    "\n",
    "This is also valid for any other encoder method since categorical encoders require a list of all valid categorical values in the column before creating the encoding. However, for the ordinal encoder, for example, it is not easy to automatically identify an incompatibility between the cohorts, since the ordinal encoder doesn't change the number of columns. To remedy this (at least for the mitigations from the `dataprocessing` module), we implemented a way for the `CohortManager` to query if a given class results in incompatible cohorts or not. Therefore, if we use the `EncoderOrdinal` from the ``dataprocessing`` module in the pipeline, we'll be able to automatically identify that each cohort will be incompatible between each other, and thus, the ``transform()`` method will return a dictionary of subsets instead of a single dataset. This dictionary will have a key assigned to each of the cohorts' names."
   ]
  },
  {
   "cell_type": "code",
   "execution_count": 5,
   "metadata": {},
   "outputs": [
    {
     "name": "stdout",
     "output_type": "stream",
     "text": [
      "WARNING: the transformations used over the cohorts resulted in each cohort having different columns. The transform() method will return a list of transformed subsets (one for each cohort).\n"
     ]
    },
    {
     "data": {
      "text/plain": [
       "dict_keys(['cohort_0', 'cohort_1', 'cohort_2'])"
      ]
     },
     "execution_count": 5,
     "metadata": {},
     "output_type": "execute_result"
    }
   ],
   "source": [
    "cohort_pipeline = [\n",
    "    dp.BasicImputer(verbose=False),\n",
    "    dp.DataMinMaxScaler(verbose=False),\n",
    "    dp.EncoderOrdinal(verbose=False)\n",
    "]\n",
    "\n",
    "cohort_set = CohortManager(\n",
    "    transform_pipe=cohort_pipeline,\n",
    "    cohort_def=[c1, c2, c3]\n",
    ")\n",
    "cohort_set.fit(X=X, y=y)\n",
    "subset_dict = cohort_set.transform(X)\n",
    "subset_dict.keys()"
   ]
  },
  {
   "cell_type": "code",
   "execution_count": 6,
   "metadata": {},
   "outputs": [
    {
     "data": {
      "text/html": [
       "<div>\n",
       "<style scoped>\n",
       "    .dataframe tbody tr th:only-of-type {\n",
       "        vertical-align: middle;\n",
       "    }\n",
       "\n",
       "    .dataframe tbody tr th {\n",
       "        vertical-align: top;\n",
       "    }\n",
       "\n",
       "    .dataframe thead th {\n",
       "        text-align: right;\n",
       "    }\n",
       "</style>\n",
       "<table border=\"1\" class=\"dataframe\">\n",
       "  <thead>\n",
       "    <tr style=\"text-align: right;\">\n",
       "      <th></th>\n",
       "      <th>num_0</th>\n",
       "      <th>num_1</th>\n",
       "      <th>CN_0_num_0</th>\n",
       "      <th>CN_1_num_1</th>\n",
       "    </tr>\n",
       "  </thead>\n",
       "  <tbody>\n",
       "    <tr>\n",
       "      <th>1</th>\n",
       "      <td>0.340936</td>\n",
       "      <td>0.040024</td>\n",
       "      <td>0</td>\n",
       "      <td>0</td>\n",
       "    </tr>\n",
       "    <tr>\n",
       "      <th>3</th>\n",
       "      <td>0.816398</td>\n",
       "      <td>0.284064</td>\n",
       "      <td>0</td>\n",
       "      <td>2</td>\n",
       "    </tr>\n",
       "    <tr>\n",
       "      <th>5</th>\n",
       "      <td>0.402537</td>\n",
       "      <td>0.692783</td>\n",
       "      <td>0</td>\n",
       "      <td>3</td>\n",
       "    </tr>\n",
       "    <tr>\n",
       "      <th>8</th>\n",
       "      <td>0.299020</td>\n",
       "      <td>0.843083</td>\n",
       "      <td>0</td>\n",
       "      <td>1</td>\n",
       "    </tr>\n",
       "    <tr>\n",
       "      <th>10</th>\n",
       "      <td>0.626370</td>\n",
       "      <td>0.180212</td>\n",
       "      <td>0</td>\n",
       "      <td>2</td>\n",
       "    </tr>\n",
       "    <tr>\n",
       "      <th>...</th>\n",
       "      <td>...</td>\n",
       "      <td>...</td>\n",
       "      <td>...</td>\n",
       "      <td>...</td>\n",
       "    </tr>\n",
       "    <tr>\n",
       "      <th>990</th>\n",
       "      <td>0.371002</td>\n",
       "      <td>0.696937</td>\n",
       "      <td>0</td>\n",
       "      <td>2</td>\n",
       "    </tr>\n",
       "    <tr>\n",
       "      <th>991</th>\n",
       "      <td>0.358171</td>\n",
       "      <td>0.089578</td>\n",
       "      <td>0</td>\n",
       "      <td>0</td>\n",
       "    </tr>\n",
       "    <tr>\n",
       "      <th>995</th>\n",
       "      <td>0.534997</td>\n",
       "      <td>0.669115</td>\n",
       "      <td>0</td>\n",
       "      <td>2</td>\n",
       "    </tr>\n",
       "    <tr>\n",
       "      <th>997</th>\n",
       "      <td>0.763978</td>\n",
       "      <td>0.627393</td>\n",
       "      <td>0</td>\n",
       "      <td>2</td>\n",
       "    </tr>\n",
       "    <tr>\n",
       "      <th>999</th>\n",
       "      <td>0.925459</td>\n",
       "      <td>0.374928</td>\n",
       "      <td>0</td>\n",
       "      <td>1</td>\n",
       "    </tr>\n",
       "  </tbody>\n",
       "</table>\n",
       "<p>542 rows × 4 columns</p>\n",
       "</div>"
      ],
      "text/plain": [
       "        num_0     num_1  CN_0_num_0  CN_1_num_1\n",
       "1    0.340936  0.040024           0           0\n",
       "3    0.816398  0.284064           0           2\n",
       "5    0.402537  0.692783           0           3\n",
       "8    0.299020  0.843083           0           1\n",
       "10   0.626370  0.180212           0           2\n",
       "..        ...       ...         ...         ...\n",
       "990  0.371002  0.696937           0           2\n",
       "991  0.358171  0.089578           0           0\n",
       "995  0.534997  0.669115           0           2\n",
       "997  0.763978  0.627393           0           2\n",
       "999  0.925459  0.374928           0           1\n",
       "\n",
       "[542 rows x 4 columns]"
      ]
     },
     "execution_count": 6,
     "metadata": {},
     "output_type": "execute_result"
    }
   ],
   "source": [
    "subset_dict['cohort_0']"
   ]
  },
  {
   "cell_type": "markdown",
   "metadata": {},
   "source": [
    "## Adding estimators to the pipeline\n",
    "\n",
    "The pipelines are not limited to having only transformers, as we can also add estimators to them. Some considerations when adding an estimator into the pipeline:\n",
    "1. The estimator must be the last object in the pipeline (this implies that we can only have 1 estimator in each pipeline);\n",
    "2. The estimator must implement at least the `predict()` method. It can also implement the `predict_proba()` method, but the latter is not mandatory;\n",
    "3. If the pipeline is comprised of a set of transformers (that implement the `transform()` method) and the estimator (that is, the pipeline doesn't contain *only* the estimator), then the cohort manager object will be allowed to call the `transform()` and `predict()` methods (and the `predict_proba()` as well, but only if the estimator implements this method)\n",
    "    * in this case, the `transform()` method will call only the `transform()` methods of the transformers up until the estimator, since this latter doesn't have a `transform()` method"
   ]
  },
  {
   "cell_type": "code",
   "execution_count": 7,
   "metadata": {},
   "outputs": [
    {
     "data": {
      "text/plain": [
       "<raimitigations.cohort.cohort_manager.CohortManager at 0x7f7514e2a3d0>"
      ]
     },
     "execution_count": 7,
     "metadata": {},
     "output_type": "execute_result"
    }
   ],
   "source": [
    "cohort_pipeline = [\n",
    "    dp.BasicImputer(verbose=False),\n",
    "    dp.DataMinMaxScaler(verbose=False),\n",
    "    dp.EncoderOrdinal(verbose=False),\n",
    "    get_model()\n",
    "]\n",
    "\n",
    "cohort_set = CohortManager(\n",
    "    transform_pipe=cohort_pipeline,\n",
    "    cohort_def=[c1, c2, c3]\n",
    ")\n",
    "cohort_set.fit(X=X, y=y)"
   ]
  },
  {
   "cell_type": "markdown",
   "metadata": {},
   "source": [
    "When calling the ``transform()`` method, it will return a list of subsets, since the ``EncoderOrdinal`` results in incompatible cohorts (as previously mentioned). The ``transform()`` method will run the ``transform()`` of all transformers up until we get to the model."
   ]
  },
  {
   "cell_type": "code",
   "execution_count": 8,
   "metadata": {},
   "outputs": [
    {
     "name": "stdout",
     "output_type": "stream",
     "text": [
      "WARNING: the transformations used over the cohorts resulted in each cohort having different columns. The transform() method will return a list of transformed subsets (one for each cohort).\n"
     ]
    },
    {
     "data": {
      "text/html": [
       "<div>\n",
       "<style scoped>\n",
       "    .dataframe tbody tr th:only-of-type {\n",
       "        vertical-align: middle;\n",
       "    }\n",
       "\n",
       "    .dataframe tbody tr th {\n",
       "        vertical-align: top;\n",
       "    }\n",
       "\n",
       "    .dataframe thead th {\n",
       "        text-align: right;\n",
       "    }\n",
       "</style>\n",
       "<table border=\"1\" class=\"dataframe\">\n",
       "  <thead>\n",
       "    <tr style=\"text-align: right;\">\n",
       "      <th></th>\n",
       "      <th>num_0</th>\n",
       "      <th>num_1</th>\n",
       "      <th>CN_0_num_0</th>\n",
       "      <th>CN_1_num_1</th>\n",
       "    </tr>\n",
       "  </thead>\n",
       "  <tbody>\n",
       "    <tr>\n",
       "      <th>1</th>\n",
       "      <td>0.340936</td>\n",
       "      <td>0.040024</td>\n",
       "      <td>0</td>\n",
       "      <td>0</td>\n",
       "    </tr>\n",
       "    <tr>\n",
       "      <th>3</th>\n",
       "      <td>0.816398</td>\n",
       "      <td>0.284064</td>\n",
       "      <td>0</td>\n",
       "      <td>2</td>\n",
       "    </tr>\n",
       "    <tr>\n",
       "      <th>5</th>\n",
       "      <td>0.402537</td>\n",
       "      <td>0.692783</td>\n",
       "      <td>0</td>\n",
       "      <td>3</td>\n",
       "    </tr>\n",
       "    <tr>\n",
       "      <th>8</th>\n",
       "      <td>0.299020</td>\n",
       "      <td>0.843083</td>\n",
       "      <td>0</td>\n",
       "      <td>1</td>\n",
       "    </tr>\n",
       "    <tr>\n",
       "      <th>10</th>\n",
       "      <td>0.626370</td>\n",
       "      <td>0.180212</td>\n",
       "      <td>0</td>\n",
       "      <td>2</td>\n",
       "    </tr>\n",
       "    <tr>\n",
       "      <th>...</th>\n",
       "      <td>...</td>\n",
       "      <td>...</td>\n",
       "      <td>...</td>\n",
       "      <td>...</td>\n",
       "    </tr>\n",
       "    <tr>\n",
       "      <th>990</th>\n",
       "      <td>0.371002</td>\n",
       "      <td>0.696937</td>\n",
       "      <td>0</td>\n",
       "      <td>2</td>\n",
       "    </tr>\n",
       "    <tr>\n",
       "      <th>991</th>\n",
       "      <td>0.358171</td>\n",
       "      <td>0.089578</td>\n",
       "      <td>0</td>\n",
       "      <td>0</td>\n",
       "    </tr>\n",
       "    <tr>\n",
       "      <th>995</th>\n",
       "      <td>0.534997</td>\n",
       "      <td>0.669115</td>\n",
       "      <td>0</td>\n",
       "      <td>2</td>\n",
       "    </tr>\n",
       "    <tr>\n",
       "      <th>997</th>\n",
       "      <td>0.763978</td>\n",
       "      <td>0.627393</td>\n",
       "      <td>0</td>\n",
       "      <td>2</td>\n",
       "    </tr>\n",
       "    <tr>\n",
       "      <th>999</th>\n",
       "      <td>0.925459</td>\n",
       "      <td>0.374928</td>\n",
       "      <td>0</td>\n",
       "      <td>1</td>\n",
       "    </tr>\n",
       "  </tbody>\n",
       "</table>\n",
       "<p>542 rows × 4 columns</p>\n",
       "</div>"
      ],
      "text/plain": [
       "        num_0     num_1  CN_0_num_0  CN_1_num_1\n",
       "1    0.340936  0.040024           0           0\n",
       "3    0.816398  0.284064           0           2\n",
       "5    0.402537  0.692783           0           3\n",
       "8    0.299020  0.843083           0           1\n",
       "10   0.626370  0.180212           0           2\n",
       "..        ...       ...         ...         ...\n",
       "990  0.371002  0.696937           0           2\n",
       "991  0.358171  0.089578           0           0\n",
       "995  0.534997  0.669115           0           2\n",
       "997  0.763978  0.627393           0           2\n",
       "999  0.925459  0.374928           0           1\n",
       "\n",
       "[542 rows x 4 columns]"
      ]
     },
     "execution_count": 8,
     "metadata": {},
     "output_type": "execute_result"
    }
   ],
   "source": [
    "subset_dict = cohort_set.transform(X)\n",
    "subset_dict['cohort_0']"
   ]
  },
  {
   "cell_type": "markdown",
   "metadata": {},
   "source": [
    "We can then call the ``predict()`` method, which will also return a list of predictions, since the ``EncoderOrdinal`` results in incompatible cohorts."
   ]
  },
  {
   "cell_type": "code",
   "execution_count": 9,
   "metadata": {},
   "outputs": [
    {
     "name": "stdout",
     "output_type": "stream",
     "text": [
      "cohort_0: (542,)\n",
      "cohort_1: (341,)\n",
      "cohort_2: (117,)\n"
     ]
    }
   ],
   "source": [
    "pred_dict = cohort_set.predict(X)\n",
    "for cohort_name in pred_dict.keys():\n",
    "    print(f\"{cohort_name}: {pred_dict[cohort_name].shape}\")"
   ]
  },
  {
   "cell_type": "markdown",
   "metadata": {},
   "source": [
    "Similarly, we can also call the ``predict_proba()`` method."
   ]
  },
  {
   "cell_type": "code",
   "execution_count": 10,
   "metadata": {},
   "outputs": [
    {
     "name": "stdout",
     "output_type": "stream",
     "text": [
      "cohort_0: (542, 2)\n",
      "cohort_1: (341, 2)\n",
      "cohort_2: (117, 2)\n"
     ]
    }
   ],
   "source": [
    "pred_dict = cohort_set.predict_proba(X)\n",
    "for cohort_name in pred_dict.keys():\n",
    "    print(f\"{cohort_name}: {pred_dict[cohort_name].shape}\")"
   ]
  },
  {
   "cell_type": "markdown",
   "metadata": {},
   "source": [
    "Note that if none of the transformers in the pipeline result in incompatible cohorts, then the `predict()` method will return a single array of predictions, just like a regular estimator. To demonstrate this, let's remove the categorical columns of the dataset (so that the estimator works without an encoder). Let's also redefine our cohorts so that we don't reference any of the categorical columns removed.\n",
    "\n",
    "When calling the ``transform()`` method in this scenario, it will return a single dataset, as previously shown."
   ]
  },
  {
   "cell_type": "code",
   "execution_count": 11,
   "metadata": {},
   "outputs": [
    {
     "data": {
      "text/html": [
       "<div>\n",
       "<style scoped>\n",
       "    .dataframe tbody tr th:only-of-type {\n",
       "        vertical-align: middle;\n",
       "    }\n",
       "\n",
       "    .dataframe tbody tr th {\n",
       "        vertical-align: top;\n",
       "    }\n",
       "\n",
       "    .dataframe thead th {\n",
       "        text-align: right;\n",
       "    }\n",
       "</style>\n",
       "<table border=\"1\" class=\"dataframe\">\n",
       "  <thead>\n",
       "    <tr style=\"text-align: right;\">\n",
       "      <th></th>\n",
       "      <th>num_0</th>\n",
       "      <th>num_1</th>\n",
       "    </tr>\n",
       "  </thead>\n",
       "  <tbody>\n",
       "    <tr>\n",
       "      <th>0</th>\n",
       "      <td>0.028385</td>\n",
       "      <td>0.891836</td>\n",
       "    </tr>\n",
       "    <tr>\n",
       "      <th>1</th>\n",
       "      <td>0.072545</td>\n",
       "      <td>0.048710</td>\n",
       "    </tr>\n",
       "    <tr>\n",
       "      <th>2</th>\n",
       "      <td>0.243165</td>\n",
       "      <td>0.623450</td>\n",
       "    </tr>\n",
       "    <tr>\n",
       "      <th>3</th>\n",
       "      <td>0.741629</td>\n",
       "      <td>0.300489</td>\n",
       "    </tr>\n",
       "    <tr>\n",
       "      <th>4</th>\n",
       "      <td>0.071756</td>\n",
       "      <td>0.757902</td>\n",
       "    </tr>\n",
       "    <tr>\n",
       "      <th>...</th>\n",
       "      <td>...</td>\n",
       "      <td>...</td>\n",
       "    </tr>\n",
       "    <tr>\n",
       "      <th>995</th>\n",
       "      <td>0.345633</td>\n",
       "      <td>0.697749</td>\n",
       "    </tr>\n",
       "    <tr>\n",
       "      <th>996</th>\n",
       "      <td>0.971967</td>\n",
       "      <td>0.781923</td>\n",
       "    </tr>\n",
       "    <tr>\n",
       "      <th>997</th>\n",
       "      <td>0.667862</td>\n",
       "      <td>0.654704</td>\n",
       "    </tr>\n",
       "    <tr>\n",
       "      <th>998</th>\n",
       "      <td>0.806418</td>\n",
       "      <td>0.792162</td>\n",
       "    </tr>\n",
       "    <tr>\n",
       "      <th>999</th>\n",
       "      <td>0.895103</td>\n",
       "      <td>0.394234</td>\n",
       "    </tr>\n",
       "  </tbody>\n",
       "</table>\n",
       "<p>1000 rows × 2 columns</p>\n",
       "</div>"
      ],
      "text/plain": [
       "        num_0     num_1\n",
       "0    0.028385  0.891836\n",
       "1    0.072545  0.048710\n",
       "2    0.243165  0.623450\n",
       "3    0.741629  0.300489\n",
       "4    0.071756  0.757902\n",
       "..        ...       ...\n",
       "995  0.345633  0.697749\n",
       "996  0.971967  0.781923\n",
       "997  0.667862  0.654704\n",
       "998  0.806418  0.792162\n",
       "999  0.895103  0.394234\n",
       "\n",
       "[1000 rows x 2 columns]"
      ]
     },
     "execution_count": 11,
     "metadata": {},
     "output_type": "execute_result"
    }
   ],
   "source": [
    "X_num = X.drop(columns=['CN_0_num_0', 'CN_1_num_1'])\n",
    "\n",
    "cohort_pipeline = [\n",
    "    dp.BasicImputer(verbose=False),\n",
    "    dp.DataMinMaxScaler(verbose=False),\n",
    "    get_model()\n",
    "]\n",
    "\n",
    "c1 = [ ['num_0', '>', 1.5] ]\n",
    "c2 = None\n",
    "\n",
    "cohort_set = CohortManager(\n",
    "    transform_pipe=cohort_pipeline,\n",
    "    cohort_def=[c1, c2]\n",
    ")\n",
    "cohort_set.fit(X=X_num, y=y)\n",
    "new_X = cohort_set.transform(X_num)\n",
    "new_X"
   ]
  },
  {
   "cell_type": "markdown",
   "metadata": {},
   "source": [
    "The same applies to the ``predict()`` method, where it will return a single array of predictions this time."
   ]
  },
  {
   "cell_type": "code",
   "execution_count": 12,
   "metadata": {},
   "outputs": [
    {
     "data": {
      "text/plain": [
       "(1000,)"
      ]
     },
     "execution_count": 12,
     "metadata": {},
     "output_type": "execute_result"
    }
   ],
   "source": [
    "pred = cohort_set.predict(X_num)\n",
    "pred.shape"
   ]
  },
  {
   "cell_type": "markdown",
   "metadata": {},
   "source": [
    "## Getting a list of subsets\n",
    "\n",
    "Sometimes we just want to break a new dataset into subsets, where we have one subset for each of the cohorts being used. We can do this using the ``get_subsets()`` method from the ``CohortManager`` class. This method accepts three parameters:\n",
    "1. A dataset that has at least the columns used by the cohorts' filters (this means that the dataset may also have other columns not used by the filters);\n",
    "2. A dataset containing only the label column (`y` dataset). This parameter is optional, and it is useful when we want to filter a feature dataset (`X`) and a label dataset (`y`), and get a list of subsets from ``X`` and ``y``;\n",
    "3. A boolean value indicating if we want to apply the transformations pipeline used for each cohort or not. If set to True, this method will behave similarly to the `transform()` method, with the main difference being that this method will always return a list of subsets, even if the cohorts are compatible with each other.\n",
    "\n",
    "The returned variable is a dictionary where the primary keys are the name of the cohorts, and the secondary keys are:\n",
    "* `X`: the subset of the features dataset;\n",
    "* `y`: the subset of the label dataset. This key will only be returned if the `y` dataset is passed in the method's call.\n",
    "\n",
    "The following cell shows an example of how to call this method without applying the transformations."
   ]
  },
  {
   "cell_type": "code",
   "execution_count": 13,
   "metadata": {},
   "outputs": [
    {
     "data": {
      "text/html": [
       "<div>\n",
       "<style scoped>\n",
       "    .dataframe tbody tr th:only-of-type {\n",
       "        vertical-align: middle;\n",
       "    }\n",
       "\n",
       "    .dataframe tbody tr th {\n",
       "        vertical-align: top;\n",
       "    }\n",
       "\n",
       "    .dataframe thead th {\n",
       "        text-align: right;\n",
       "    }\n",
       "</style>\n",
       "<table border=\"1\" class=\"dataframe\">\n",
       "  <thead>\n",
       "    <tr style=\"text-align: right;\">\n",
       "      <th></th>\n",
       "      <th>num_0</th>\n",
       "      <th>num_1</th>\n",
       "    </tr>\n",
       "  </thead>\n",
       "  <tbody>\n",
       "    <tr>\n",
       "      <th>0</th>\n",
       "      <td>1.601034</td>\n",
       "      <td>2.535353</td>\n",
       "    </tr>\n",
       "    <tr>\n",
       "      <th>1</th>\n",
       "      <td>1.755945</td>\n",
       "      <td>-2.172352</td>\n",
       "    </tr>\n",
       "    <tr>\n",
       "      <th>2</th>\n",
       "      <td>2.354479</td>\n",
       "      <td>NaN</td>\n",
       "    </tr>\n",
       "    <tr>\n",
       "      <th>3</th>\n",
       "      <td>4.103090</td>\n",
       "      <td>-0.766515</td>\n",
       "    </tr>\n",
       "    <tr>\n",
       "      <th>4</th>\n",
       "      <td>1.753178</td>\n",
       "      <td>1.787514</td>\n",
       "    </tr>\n",
       "    <tr>\n",
       "      <th>...</th>\n",
       "      <td>...</td>\n",
       "      <td>...</td>\n",
       "    </tr>\n",
       "    <tr>\n",
       "      <th>990</th>\n",
       "      <td>1.904364</td>\n",
       "      <td>1.611914</td>\n",
       "    </tr>\n",
       "    <tr>\n",
       "      <th>991</th>\n",
       "      <td>1.841023</td>\n",
       "      <td>-1.886888</td>\n",
       "    </tr>\n",
       "    <tr>\n",
       "      <th>995</th>\n",
       "      <td>2.713939</td>\n",
       "      <td>1.451639</td>\n",
       "    </tr>\n",
       "    <tr>\n",
       "      <th>997</th>\n",
       "      <td>3.844315</td>\n",
       "      <td>1.211294</td>\n",
       "    </tr>\n",
       "    <tr>\n",
       "      <th>999</th>\n",
       "      <td>4.641478</td>\n",
       "      <td>-0.243075</td>\n",
       "    </tr>\n",
       "  </tbody>\n",
       "</table>\n",
       "<p>637 rows × 2 columns</p>\n",
       "</div>"
      ],
      "text/plain": [
       "        num_0     num_1\n",
       "0    1.601034  2.535353\n",
       "1    1.755945 -2.172352\n",
       "2    2.354479       NaN\n",
       "3    4.103090 -0.766515\n",
       "4    1.753178  1.787514\n",
       "..        ...       ...\n",
       "990  1.904364  1.611914\n",
       "991  1.841023 -1.886888\n",
       "995  2.713939  1.451639\n",
       "997  3.844315  1.211294\n",
       "999  4.641478 -0.243075\n",
       "\n",
       "[637 rows x 2 columns]"
      ]
     },
     "execution_count": 13,
     "metadata": {},
     "output_type": "execute_result"
    }
   ],
   "source": [
    "subsets = cohort_set.get_subsets(X_num, apply_transform=False)\n",
    "subsets['cohort_0']['X']"
   ]
  },
  {
   "cell_type": "code",
   "execution_count": 14,
   "metadata": {},
   "outputs": [
    {
     "data": {
      "text/plain": [
       "dict_keys(['cohort_0', 'cohort_1'])"
      ]
     },
     "execution_count": 14,
     "metadata": {},
     "output_type": "execute_result"
    }
   ],
   "source": [
    "subsets.keys()"
   ]
  },
  {
   "cell_type": "markdown",
   "metadata": {},
   "source": [
    "Let's now compare the resulting subsets when setting the ``apply_transform`` to True:"
   ]
  },
  {
   "cell_type": "code",
   "execution_count": 15,
   "metadata": {},
   "outputs": [
    {
     "data": {
      "text/html": [
       "<div>\n",
       "<style scoped>\n",
       "    .dataframe tbody tr th:only-of-type {\n",
       "        vertical-align: middle;\n",
       "    }\n",
       "\n",
       "    .dataframe tbody tr th {\n",
       "        vertical-align: top;\n",
       "    }\n",
       "\n",
       "    .dataframe thead th {\n",
       "        text-align: right;\n",
       "    }\n",
       "</style>\n",
       "<table border=\"1\" class=\"dataframe\">\n",
       "  <thead>\n",
       "    <tr style=\"text-align: right;\">\n",
       "      <th></th>\n",
       "      <th>num_0</th>\n",
       "      <th>num_1</th>\n",
       "    </tr>\n",
       "  </thead>\n",
       "  <tbody>\n",
       "    <tr>\n",
       "      <th>0</th>\n",
       "      <td>0.028385</td>\n",
       "      <td>0.891836</td>\n",
       "    </tr>\n",
       "    <tr>\n",
       "      <th>1</th>\n",
       "      <td>0.072545</td>\n",
       "      <td>0.048710</td>\n",
       "    </tr>\n",
       "    <tr>\n",
       "      <th>2</th>\n",
       "      <td>0.243165</td>\n",
       "      <td>0.623450</td>\n",
       "    </tr>\n",
       "    <tr>\n",
       "      <th>3</th>\n",
       "      <td>0.741629</td>\n",
       "      <td>0.300489</td>\n",
       "    </tr>\n",
       "    <tr>\n",
       "      <th>4</th>\n",
       "      <td>0.071756</td>\n",
       "      <td>0.757902</td>\n",
       "    </tr>\n",
       "    <tr>\n",
       "      <th>...</th>\n",
       "      <td>...</td>\n",
       "      <td>...</td>\n",
       "    </tr>\n",
       "    <tr>\n",
       "      <th>990</th>\n",
       "      <td>0.114854</td>\n",
       "      <td>0.726453</td>\n",
       "    </tr>\n",
       "    <tr>\n",
       "      <th>991</th>\n",
       "      <td>0.096797</td>\n",
       "      <td>0.099836</td>\n",
       "    </tr>\n",
       "    <tr>\n",
       "      <th>995</th>\n",
       "      <td>0.345633</td>\n",
       "      <td>0.697749</td>\n",
       "    </tr>\n",
       "    <tr>\n",
       "      <th>997</th>\n",
       "      <td>0.667862</td>\n",
       "      <td>0.654704</td>\n",
       "    </tr>\n",
       "    <tr>\n",
       "      <th>999</th>\n",
       "      <td>0.895103</td>\n",
       "      <td>0.394234</td>\n",
       "    </tr>\n",
       "  </tbody>\n",
       "</table>\n",
       "<p>637 rows × 2 columns</p>\n",
       "</div>"
      ],
      "text/plain": [
       "        num_0     num_1\n",
       "0    0.028385  0.891836\n",
       "1    0.072545  0.048710\n",
       "2    0.243165  0.623450\n",
       "3    0.741629  0.300489\n",
       "4    0.071756  0.757902\n",
       "..        ...       ...\n",
       "990  0.114854  0.726453\n",
       "991  0.096797  0.099836\n",
       "995  0.345633  0.697749\n",
       "997  0.667862  0.654704\n",
       "999  0.895103  0.394234\n",
       "\n",
       "[637 rows x 2 columns]"
      ]
     },
     "execution_count": 15,
     "metadata": {},
     "output_type": "execute_result"
    }
   ],
   "source": [
    "subsets = cohort_set.get_subsets(X_num, apply_transform=True)\n",
    "subsets['cohort_0']['X']"
   ]
  },
  {
   "cell_type": "code",
   "execution_count": 16,
   "metadata": {},
   "outputs": [
    {
     "data": {
      "text/plain": [
       "dict_keys(['X'])"
      ]
     },
     "execution_count": 16,
     "metadata": {},
     "output_type": "execute_result"
    }
   ],
   "source": [
    "subsets['cohort_0'].keys()"
   ]
  },
  {
   "cell_type": "markdown",
   "metadata": {},
   "source": [
    "In the previous cell, we can see that we only have the `X` key for each cohort, since we didn't pass the `y` dataset as a parameter to the method. Let's now look at an example where we want the subsets of both the features and labels (X and y):"
   ]
  },
  {
   "cell_type": "code",
   "execution_count": 17,
   "metadata": {},
   "outputs": [
    {
     "data": {
      "text/plain": [
       "dict_keys(['X', 'y'])"
      ]
     },
     "execution_count": 17,
     "metadata": {},
     "output_type": "execute_result"
    }
   ],
   "source": [
    "subsets = cohort_set.get_subsets(X_num, y, apply_transform=True)\n",
    "subsets['cohort_0'].keys()"
   ]
  },
  {
   "cell_type": "code",
   "execution_count": 18,
   "metadata": {},
   "outputs": [
    {
     "name": "stdout",
     "output_type": "stream",
     "text": [
      "\n",
      "cohort_0\n",
      "(637, 2)\n",
      "(637, 1)\n",
      "\n",
      "cohort_1\n",
      "(363, 2)\n",
      "(363, 1)\n"
     ]
    }
   ],
   "source": [
    "for key in subsets.keys():\n",
    "    print(f\"\\n{key}\")\n",
    "    print(subsets[key][\"X\"].shape)\n",
    "    print(subsets[key][\"y\"].shape)"
   ]
  },
  {
   "cell_type": "markdown",
   "metadata": {},
   "source": [
    "## Naming the cohorts\n",
    "\n",
    "So far, we created a list of conditions for each cohort and passed that to the ``CohortManager`` without specifying the cohort's name. In that case, the cohorts will be named automatically. This name is later used in ​the subsets dictionary returned by the ``get_subsets()`` method, as we've shown in the previous subsection. We can provide a specific name to each cohort by passing a dictionary of condition lists to the ``CohortManager`` instead of passing a list of conditions. The following cell demonstrates this:"
   ]
  },
  {
   "cell_type": "code",
   "execution_count": 19,
   "metadata": {},
   "outputs": [
    {
     "data": {
      "text/plain": [
       "dict_keys(['Large num_0', 'Remaining'])"
      ]
     },
     "execution_count": 19,
     "metadata": {},
     "output_type": "execute_result"
    }
   ],
   "source": [
    "cohort_set = CohortManager(\n",
    "    transform_pipe=cohort_pipeline,\n",
    "    cohort_def={\"Large num_0\":c1, \"Remaining\":c2}\n",
    ")\n",
    "cohort_set.fit(X_num, y)\n",
    "subsets = cohort_set.get_subsets(X_num, y, apply_transform=True)\n",
    "subsets.keys()"
   ]
  },
  {
   "cell_type": "markdown",
   "metadata": {},
   "source": [
    "## Handling datasets without column names\n",
    "\n",
    "When handling a dataset without column names, we can use the column indices as the column identifier in the conditions list. However, the indices must be passed as a string, not a number. In the following cell, we demonstrate an example where we create a set of conditions using the column indices. Note that this approach will only work if the dataset doesn't have any column names. If the dataset has valid column names, then these names should be used instead of the indices.\n",
    "\n",
    "Note that in the following example, we are not passing a list of transformations to the ``transform_pipe`` parameter. Instead, we are passing a single transformer. This is also allowed, and what will happen in the background is that an empty list will be created for each cohort, and this transformer will be copied and added to each of these lists."
   ]
  },
  {
   "cell_type": "code",
   "execution_count": 20,
   "metadata": {},
   "outputs": [
    {
     "data": {
      "text/html": [
       "<div>\n",
       "<style scoped>\n",
       "    .dataframe tbody tr th:only-of-type {\n",
       "        vertical-align: middle;\n",
       "    }\n",
       "\n",
       "    .dataframe tbody tr th {\n",
       "        vertical-align: top;\n",
       "    }\n",
       "\n",
       "    .dataframe thead th {\n",
       "        text-align: right;\n",
       "    }\n",
       "</style>\n",
       "<table border=\"1\" class=\"dataframe\">\n",
       "  <thead>\n",
       "    <tr style=\"text-align: right;\">\n",
       "      <th></th>\n",
       "      <th>0</th>\n",
       "      <th>1</th>\n",
       "      <th>2</th>\n",
       "      <th>3</th>\n",
       "    </tr>\n",
       "  </thead>\n",
       "  <tbody>\n",
       "    <tr>\n",
       "      <th>0</th>\n",
       "      <td>0.616278</td>\n",
       "      <td>0.790075</td>\n",
       "      <td>val0_0</td>\n",
       "      <td>val1_3</td>\n",
       "    </tr>\n",
       "    <tr>\n",
       "      <th>1</th>\n",
       "      <td>0.340936</td>\n",
       "      <td>0.040024</td>\n",
       "      <td>val0_1</td>\n",
       "      <td>val1_0</td>\n",
       "    </tr>\n",
       "    <tr>\n",
       "      <th>2</th>\n",
       "      <td>0.910331</td>\n",
       "      <td>NaN</td>\n",
       "      <td>val0_0</td>\n",
       "      <td>val1_0</td>\n",
       "    </tr>\n",
       "    <tr>\n",
       "      <th>3</th>\n",
       "      <td>0.816398</td>\n",
       "      <td>0.284064</td>\n",
       "      <td>val0_1</td>\n",
       "      <td>val1_2</td>\n",
       "    </tr>\n",
       "    <tr>\n",
       "      <th>4</th>\n",
       "      <td>0.675657</td>\n",
       "      <td>0.688320</td>\n",
       "      <td>val0_0</td>\n",
       "      <td>val1_1</td>\n",
       "    </tr>\n",
       "    <tr>\n",
       "      <th>...</th>\n",
       "      <td>...</td>\n",
       "      <td>...</td>\n",
       "      <td>...</td>\n",
       "      <td>...</td>\n",
       "    </tr>\n",
       "    <tr>\n",
       "      <th>995</th>\n",
       "      <td>0.534997</td>\n",
       "      <td>0.669115</td>\n",
       "      <td>val0_1</td>\n",
       "      <td>val1_2</td>\n",
       "    </tr>\n",
       "    <tr>\n",
       "      <th>996</th>\n",
       "      <td>0.545942</td>\n",
       "      <td>0.790112</td>\n",
       "      <td>val0_0</td>\n",
       "      <td>val1_3</td>\n",
       "    </tr>\n",
       "    <tr>\n",
       "      <th>997</th>\n",
       "      <td>0.763978</td>\n",
       "      <td>0.627393</td>\n",
       "      <td>val0_1</td>\n",
       "      <td>val1_2</td>\n",
       "    </tr>\n",
       "    <tr>\n",
       "      <th>998</th>\n",
       "      <td>0.371610</td>\n",
       "      <td>0.801491</td>\n",
       "      <td>val0_0</td>\n",
       "      <td>val1_3</td>\n",
       "    </tr>\n",
       "    <tr>\n",
       "      <th>999</th>\n",
       "      <td>0.925459</td>\n",
       "      <td>0.374928</td>\n",
       "      <td>val0_1</td>\n",
       "      <td>val1_1</td>\n",
       "    </tr>\n",
       "  </tbody>\n",
       "</table>\n",
       "<p>1000 rows × 4 columns</p>\n",
       "</div>"
      ],
      "text/plain": [
       "            0         1       2       3\n",
       "0    0.616278  0.790075  val0_0  val1_3\n",
       "1    0.340936  0.040024  val0_1  val1_0\n",
       "2    0.910331       NaN  val0_0  val1_0\n",
       "3    0.816398  0.284064  val0_1  val1_2\n",
       "4    0.675657  0.688320  val0_0  val1_1\n",
       "..        ...       ...     ...     ...\n",
       "995  0.534997  0.669115  val0_1  val1_2\n",
       "996  0.545942  0.790112  val0_0  val1_3\n",
       "997  0.763978  0.627393  val0_1  val1_2\n",
       "998  0.371610  0.801491  val0_0  val1_3\n",
       "999  0.925459  0.374928  val0_1  val1_1\n",
       "\n",
       "[1000 rows x 4 columns]"
      ]
     },
     "execution_count": 20,
     "metadata": {},
     "output_type": "execute_result"
    }
   ],
   "source": [
    "new_X = X.copy()\n",
    "new_y = y.copy()\n",
    "new_X.columns = [i for i in range(new_X.shape[1])]\n",
    "new_y.columns = [i for i in range(new_y.shape[1])]\n",
    "\n",
    "c1 = [ ['2', '==', 'val0_1'], 'and', ['0', '>', 0.0] ]\n",
    "c2 = [ ['2', '==', 'val0_0'], 'and', ['0', '>', 0.0] ]\n",
    "c3 = None\n",
    "\n",
    "cohort_set = CohortManager(\n",
    "    transform_pipe=dp.DataMinMaxScaler(verbose=False),\n",
    "    cohort_def=[c1, c2, c3]\n",
    ")\n",
    "cohort_set.fit(X=new_X, y=new_y)\n",
    "new_X = cohort_set.transform(new_X)\n",
    "new_X"
   ]
  },
  {
   "cell_type": "markdown",
   "metadata": {},
   "source": [
    "## Using CohortManager with Sci-Kit Learn's Pipeline\n",
    "\n",
    "`scikit-learn`'s `Pipeline` class is a well-established approach for creating pipelines. Therefore, the ``CohortManager`` class was designed to work with ``Pipeline``, allowing users to create even more complex data processing pipelines.\n",
    "\n",
    "The following cell shows an example of how to create a ``Pipeline`` using an instance of the ``CohortManager`` class. The pipeline created in this example will do the following:\n",
    "1. Run the ``BasicImputer`` and ``DataMinMaxScaler`` (in that order) over each cohort separately. Notice that each cohort will have a separate object from these classes. Since these transformations result in compatible cohorts, the ``transform()`` method will return a single dataset;\n",
    "2. Run the ``EncoderOrdinal`` over the dataset returned by the ``CohortManager`` (that is, the encoding is done over the entire dataset, not over each cohort individually);\n",
    "3. Fit the model (an XGBoost in this case) over the dataset processed by the ``CohortManager`` and ``EncoderOrdinal``."
   ]
  },
  {
   "cell_type": "code",
   "execution_count": 21,
   "metadata": {},
   "outputs": [],
   "source": [
    "cohort_pipeline = [\n",
    "    dp.BasicImputer(verbose=False),\n",
    "    dp.DataMinMaxScaler(verbose=False),\n",
    "]\n",
    "\n",
    "c1 = [ ['CN_0_num_0', '==', 'val0_1'], 'and', ['num_0', '>', 0.0] ]\n",
    "c2 = [ ['CN_0_num_0', '==', 'val0_0'], 'and', ['num_0', '>', 0.0] ]\n",
    "c3 = None\n",
    "\n",
    "cohort_set = CohortManager(\n",
    "    transform_pipe=cohort_pipeline,\n",
    "    cohort_def=[c1, c2, c3]\n",
    ")\n",
    "\n",
    "skpipe = Pipeline([\n",
    "    (\"cohort_preprocess\", cohort_set),\n",
    "    (\"encoder\", dp.EncoderOrdinal(verbose=False)),\n",
    "    (\"model\", get_model())\n",
    "])\n",
    "skpipe.fit(X, y)\n",
    "pred = skpipe.predict_proba(X)\n",
    "pred = skpipe.predict(X)"
   ]
  },
  {
   "cell_type": "markdown",
   "metadata": {},
   "source": [
    "## Fetching the queries used for each cohort\n",
    "\n",
    "The ``get_queries()`` method returns a dictionary with the queries used for each cohort."
   ]
  },
  {
   "cell_type": "code",
   "execution_count": 22,
   "metadata": {},
   "outputs": [
    {
     "data": {
      "text/plain": [
       "{'cohort_0': \"(`CN_0_num_0` == 'val0_1') and (`num_0` > 0.0)\",\n",
       " 'cohort_1': \"(`CN_0_num_0` == 'val0_0') and (`num_0` > 0.0)\",\n",
       " 'cohort_2': None}"
      ]
     },
     "execution_count": 22,
     "metadata": {},
     "output_type": "execute_result"
    }
   ],
   "source": [
    "queries = cohort_set.get_queries()\n",
    "queries"
   ]
  },
  {
   "cell_type": "markdown",
   "metadata": {},
   "source": [
    "## Creating cohorts based on a set of columns\n",
    "\n",
    "In some cases, users might be interested in creating one cohort for each possible value in a given column (for example, if a dataset has a **gender** column, we might be interested in creating one cohort for each gender). To avoid the cumbersome task of creating one condition list for each value in a given column, we ``CohortManager`` use the ``cohort_col`` parameter instead of the ``cohort_def`` during the instantiation of the object. Here are more details about these two parameters:\n",
    "* ``cohort_def``: already explored in the previous subsections. Accepts a list of condition lists (one for each cohort), or a dictionary of condition lists;\n",
    "* ``cohort_col``: accepts a list of column names or indices, from which one cohort is created for each unique combination of values for these columns.\n",
    "\n",
    "In the following example, we show how to create a set of cohorts based on the ``CN_0_num_0`` column. We then use the ``get_queries()`` method to look at the cohorts created."
   ]
  },
  {
   "cell_type": "code",
   "execution_count": 23,
   "metadata": {},
   "outputs": [
    {
     "data": {
      "text/plain": [
       "{'cohort_0': \"(`CN_0_num_0` == 'val0_0')\",\n",
       " 'cohort_1': \"(`CN_0_num_0` == 'val0_1')\"}"
      ]
     },
     "execution_count": 23,
     "metadata": {},
     "output_type": "execute_result"
    }
   ],
   "source": [
    "cohort_set = CohortManager(\n",
    "    transform_pipe=dp.DataMinMaxScaler(verbose=False),\n",
    "    cohort_col=[\"CN_0_num_0\"]\n",
    ")\n",
    "cohort_set.fit(X, y)\n",
    "queries = cohort_set.get_queries()\n",
    "queries"
   ]
  },
  {
   "cell_type": "markdown",
   "metadata": {},
   "source": [
    "We can also use the column indices instead of their names:"
   ]
  },
  {
   "cell_type": "code",
   "execution_count": 24,
   "metadata": {},
   "outputs": [
    {
     "data": {
      "text/plain": [
       "{'cohort_0': \"(`CN_0_num_0` == 'val0_0')\",\n",
       " 'cohort_1': \"(`CN_0_num_0` == 'val0_1')\"}"
      ]
     },
     "execution_count": 24,
     "metadata": {},
     "output_type": "execute_result"
    }
   ],
   "source": [
    "cohort_set = CohortManager(\n",
    "    transform_pipe=dp.DataMinMaxScaler(verbose=False),\n",
    "    cohort_col=[2]\n",
    ")\n",
    "cohort_set.fit(X, y)\n",
    "queries = cohort_set.get_queries()\n",
    "queries"
   ]
  },
  {
   "cell_type": "markdown",
   "metadata": {},
   "source": [
    "Note that in both examples we had to call the ``fit()`` method before calling the ``get_queries()`` method. This is necessary because, when using the ``cohort_col`` parameter instead of the ``cohort_def``, the cohorts can only be created when a valid dataset is provided. Since we didn't provide a dataset in the constructor method, then the cohorts are only built when the fit method is called. In the following cell we provide the dataset in the constructor method just to show this:"
   ]
  },
  {
   "cell_type": "code",
   "execution_count": 25,
   "metadata": {},
   "outputs": [
    {
     "data": {
      "text/plain": [
       "{'cohort_0': \"(`CN_0_num_0` == 'val0_0')\",\n",
       " 'cohort_1': \"(`CN_0_num_0` == 'val0_1')\"}"
      ]
     },
     "execution_count": 25,
     "metadata": {},
     "output_type": "execute_result"
    }
   ],
   "source": [
    "cohort_set = CohortManager(\n",
    "    transform_pipe=dp.DataMinMaxScaler(verbose=False),\n",
    "    cohort_col=[2],\n",
    "    X=X, y=y\n",
    ")\n",
    "queries = cohort_set.get_queries()\n",
    "queries"
   ]
  },
  {
   "cell_type": "markdown",
   "metadata": {},
   "source": [
    "Just to better demonstrate this, let's now use the ``cohort_def`` parameter, while not providing the datasets in the constructor method. In this case, we can also call the ``get_queries()`` method before calling the ``fit()`` method."
   ]
  },
  {
   "cell_type": "code",
   "execution_count": 26,
   "metadata": {},
   "outputs": [
    {
     "data": {
      "text/plain": [
       "{'cohort_0': \"(`CN_0_num_0` == 'val0_1') and (`num_0` > 0.0)\",\n",
       " 'cohort_1': \"(`CN_0_num_0` == 'val0_0') and (`num_0` > 0.0)\",\n",
       " 'cohort_2': None}"
      ]
     },
     "execution_count": 26,
     "metadata": {},
     "output_type": "execute_result"
    }
   ],
   "source": [
    "cohort_set = CohortManager(\n",
    "    transform_pipe=dp.DataMinMaxScaler(verbose=False),\n",
    "    cohort_def=[c1, c2, c3]\n",
    ")\n",
    "queries = cohort_set.get_queries()\n",
    "queries"
   ]
  },
  {
   "cell_type": "markdown",
   "metadata": {},
   "source": [
    "As previously mentioned, the ``cohort_col`` parameter accepts a list of column names, not a single column. When more than one column is provided, we create one cohort for each combination of unique values in these columns:"
   ]
  },
  {
   "cell_type": "code",
   "execution_count": 27,
   "metadata": {},
   "outputs": [
    {
     "data": {
      "text/plain": [
       "{'cohort_0': \"(`CN_0_num_0` == 'val0_0') and (`CN_1_num_1` == 'val1_0')\",\n",
       " 'cohort_1': \"(`CN_0_num_0` == 'val0_0') and (`CN_1_num_1` == 'val1_1')\",\n",
       " 'cohort_2': \"(`CN_0_num_0` == 'val0_0') and (`CN_1_num_1` == 'val1_2')\",\n",
       " 'cohort_3': \"(`CN_0_num_0` == 'val0_0') and (`CN_1_num_1` == 'val1_3')\",\n",
       " 'cohort_4': \"(`CN_0_num_0` == 'val0_1') and (`CN_1_num_1` == 'val1_0')\",\n",
       " 'cohort_5': \"(`CN_0_num_0` == 'val0_1') and (`CN_1_num_1` == 'val1_1')\",\n",
       " 'cohort_6': \"(`CN_0_num_0` == 'val0_1') and (`CN_1_num_1` == 'val1_2')\",\n",
       " 'cohort_7': \"(`CN_0_num_0` == 'val0_1') and (`CN_1_num_1` == 'val1_3')\"}"
      ]
     },
     "execution_count": 27,
     "metadata": {},
     "output_type": "execute_result"
    }
   ],
   "source": [
    "cohort_set = CohortManager(\n",
    "    transform_pipe=dp.DataMinMaxScaler(verbose=False),\n",
    "    cohort_col=[\"CN_0_num_0\", \"CN_1_num_1\"]\n",
    ")\n",
    "cohort_set.fit(X=X, y=y)\n",
    "queries = cohort_set.get_queries()\n",
    "queries"
   ]
  },
  {
   "cell_type": "markdown",
   "metadata": {},
   "source": [
    "## Saving and loading the conditions used for the cohorts\n",
    "\n",
    "The ``save_conditions()`` method saves the list of conditions used by all cohorts into a JSON file. This way, users are able to then reuse these condition lists in another ``CohortManager`` object. The ``save_conditions()`` has the same conditions as the ``get_queries()`` method: if using ``cohort_col``, then we must either pass the datasets in the constructor method, or call the ``fit()`` method prior to calling the ``save_conditions()`` method."
   ]
  },
  {
   "cell_type": "code",
   "execution_count": 31,
   "metadata": {},
   "outputs": [],
   "source": [
    "cohort_set = CohortManager(\n",
    "    transform_pipe=dp.DataMinMaxScaler(verbose=False),\n",
    "    cohort_def=[c1, c2, c3]\n",
    ")\n",
    "cohort_set.fit(X=X, y=y)\n",
    "cohort_set.save_conditions(\"cohort.json\")"
   ]
  },
  {
   "cell_type": "markdown",
   "metadata": {},
   "source": [
    "The JSON file saved has the following structure:\n",
    "\n",
    "![cohort](./cohort.png)\n",
    "\n",
    "We can then create a new ``CohortManager`` object and pass the path to the JSON file containing the cohort definitions to the ``cohort_def`` parameter. After loading the cohort file, we can verify that the same conditions are being used."
   ]
  },
  {
   "cell_type": "code",
   "execution_count": 33,
   "metadata": {},
   "outputs": [
    {
     "data": {
      "text/plain": [
       "{'cohort_0': \"(`CN_0_num_0` == 'val0_0') and (`CN_1_num_1` == 'val1_3')\",\n",
       " 'cohort_1': \"(`CN_0_num_0` == 'val0_0') and (`CN_1_num_1` == 'val1_0')\",\n",
       " 'cohort_2': \"(`CN_0_num_0` == 'val0_0') and (`CN_1_num_1` == 'val1_2')\",\n",
       " 'cohort_3': \"(`CN_0_num_0` == 'val0_0') and (`CN_1_num_1` == 'val1_1')\",\n",
       " 'cohort_4': \"(`CN_0_num_0` == 'val0_1') and (`CN_1_num_1` == 'val1_3')\",\n",
       " 'cohort_5': \"(`CN_0_num_0` == 'val0_1') and (`CN_1_num_1` == 'val1_0')\",\n",
       " 'cohort_6': \"(`CN_0_num_0` == 'val0_1') and (`CN_1_num_1` == 'val1_2')\",\n",
       " 'cohort_7': \"(`CN_0_num_0` == 'val0_1') and (`CN_1_num_1` == 'val1_1')\"}"
      ]
     },
     "execution_count": 33,
     "metadata": {},
     "output_type": "execute_result"
    }
   ],
   "source": [
    "cohort_set = CohortManager(\n",
    "    transform_pipe=dp.BasicImputer(verbose=False),\n",
    "    cohort_def=\"cohort.json\"\n",
    ")\n",
    "cohort_set.fit(X=X, y=y)\n",
    "queries = cohort_set.get_queries()\n",
    "queries"
   ]
  },
  {
   "cell_type": "markdown",
   "metadata": {},
   "source": [
    "## Using different pipelines for each cohort\n",
    "\n",
    "So far, every time we created an instance of the ``CohortMManager`` class, the same pipeline was used over all cohorts (different instances of the same pipeline, given that the ``fit()`` must be called using only the subset associated to a given cohort). However, there might be some scenarios where we might be interested in using different transformations for each cohort. We won't cover here these scenarios. Instead, here we'll show how to create different pipelines for each cohort.\n",
    "\n",
    "There are four scenarios associated with the ``transform_pipe`` parameter:\n",
    "1. **An empty list or ``None`` is provided:** in this case, the ``CohortManager`` won't apply any transformations over the dataset. The ``transform()`` method will simply return the dataset provided;\n",
    "2. **A single transformer is provided:** in this case, this single transformer is placed in a list (a list with a single transformer), which is then replicated such that each cohort has its own list of transformations (pipeline);\n",
    "3. **A list of transformers is provided:** in this case, this pipeline is replicated for each cohort;\n",
    "4. **A list of pipelines is provided:** a list of pipelines is basically a list of lists of transformations. In this case, the list of pipelines should have one pipeline for each cohort created, that is, the length of the ``transform_pipe`` parameter should be the same as the number of cohorts created. The pipelines will be assigned to each cohort following the same order as the ``cohort_def`` parameter (depicted in the following example).\n",
    "\n",
    "In the following example, we'll create 3 cohorts and 3 pipelines: the first pipeline will contain only a ``DataMinMaxScaler`` transformer, the second pipeline contains only a ``DataPowerTransformer`` transformer, and the third pipeline is empty, that is, it doesn't apply any transformations over the data. These pipelines will be associated with cohorts ``c1``, ``c2``, and ``c3`` respectively."
   ]
  },
  {
   "cell_type": "code",
   "execution_count": 35,
   "metadata": {},
   "outputs": [
    {
     "data": {
      "text/html": [
       "<div>\n",
       "<style scoped>\n",
       "    .dataframe tbody tr th:only-of-type {\n",
       "        vertical-align: middle;\n",
       "    }\n",
       "\n",
       "    .dataframe tbody tr th {\n",
       "        vertical-align: top;\n",
       "    }\n",
       "\n",
       "    .dataframe thead th {\n",
       "        text-align: right;\n",
       "    }\n",
       "</style>\n",
       "<table border=\"1\" class=\"dataframe\">\n",
       "  <thead>\n",
       "    <tr style=\"text-align: right;\">\n",
       "      <th></th>\n",
       "      <th>num_0</th>\n",
       "      <th>num_1</th>\n",
       "      <th>CN_0_num_0</th>\n",
       "      <th>CN_1_num_1</th>\n",
       "    </tr>\n",
       "  </thead>\n",
       "  <tbody>\n",
       "    <tr>\n",
       "      <th>0</th>\n",
       "      <td>1.601034</td>\n",
       "      <td>2.535353</td>\n",
       "      <td>val0_0</td>\n",
       "      <td>val1_3</td>\n",
       "    </tr>\n",
       "    <tr>\n",
       "      <th>1</th>\n",
       "      <td>1.755945</td>\n",
       "      <td>-2.172352</td>\n",
       "      <td>val0_1</td>\n",
       "      <td>val1_0</td>\n",
       "    </tr>\n",
       "    <tr>\n",
       "      <th>2</th>\n",
       "      <td>2.354479</td>\n",
       "      <td>NaN</td>\n",
       "      <td>val0_0</td>\n",
       "      <td>val1_0</td>\n",
       "    </tr>\n",
       "    <tr>\n",
       "      <th>3</th>\n",
       "      <td>4.103090</td>\n",
       "      <td>-0.766515</td>\n",
       "      <td>val0_1</td>\n",
       "      <td>val1_2</td>\n",
       "    </tr>\n",
       "    <tr>\n",
       "      <th>4</th>\n",
       "      <td>1.753178</td>\n",
       "      <td>1.787514</td>\n",
       "      <td>val0_0</td>\n",
       "      <td>val1_1</td>\n",
       "    </tr>\n",
       "    <tr>\n",
       "      <th>...</th>\n",
       "      <td>...</td>\n",
       "      <td>...</td>\n",
       "      <td>...</td>\n",
       "      <td>...</td>\n",
       "    </tr>\n",
       "    <tr>\n",
       "      <th>995</th>\n",
       "      <td>2.713939</td>\n",
       "      <td>1.451639</td>\n",
       "      <td>val0_1</td>\n",
       "      <td>val1_2</td>\n",
       "    </tr>\n",
       "    <tr>\n",
       "      <th>996</th>\n",
       "      <td>1.420812</td>\n",
       "      <td>2.535627</td>\n",
       "      <td>val0_0</td>\n",
       "      <td>val1_3</td>\n",
       "    </tr>\n",
       "    <tr>\n",
       "      <th>997</th>\n",
       "      <td>3.844315</td>\n",
       "      <td>1.211294</td>\n",
       "      <td>val0_1</td>\n",
       "      <td>val1_2</td>\n",
       "    </tr>\n",
       "    <tr>\n",
       "      <th>998</th>\n",
       "      <td>0.974124</td>\n",
       "      <td>2.619258</td>\n",
       "      <td>val0_0</td>\n",
       "      <td>val1_3</td>\n",
       "    </tr>\n",
       "    <tr>\n",
       "      <th>999</th>\n",
       "      <td>4.641478</td>\n",
       "      <td>-0.243075</td>\n",
       "      <td>val0_1</td>\n",
       "      <td>val1_1</td>\n",
       "    </tr>\n",
       "  </tbody>\n",
       "</table>\n",
       "<p>1000 rows × 4 columns</p>\n",
       "</div>"
      ],
      "text/plain": [
       "        num_0     num_1 CN_0_num_0 CN_1_num_1\n",
       "0    1.601034  2.535353     val0_0     val1_3\n",
       "1    1.755945 -2.172352     val0_1     val1_0\n",
       "2    2.354479       NaN     val0_0     val1_0\n",
       "3    4.103090 -0.766515     val0_1     val1_2\n",
       "4    1.753178  1.787514     val0_0     val1_1\n",
       "..        ...       ...        ...        ...\n",
       "995  2.713939  1.451639     val0_1     val1_2\n",
       "996  1.420812  2.535627     val0_0     val1_3\n",
       "997  3.844315  1.211294     val0_1     val1_2\n",
       "998  0.974124  2.619258     val0_0     val1_3\n",
       "999  4.641478 -0.243075     val0_1     val1_1\n",
       "\n",
       "[1000 rows x 4 columns]"
      ]
     },
     "execution_count": 35,
     "metadata": {},
     "output_type": "execute_result"
    }
   ],
   "source": [
    "X"
   ]
  },
  {
   "cell_type": "code",
   "execution_count": 39,
   "metadata": {},
   "outputs": [
    {
     "name": "stdout",
     "output_type": "stream",
     "text": [
      "WARNING: a least one of the cohort pipelines doesn't have any transformations that have a transform() method\n"
     ]
    },
    {
     "data": {
      "text/html": [
       "<div>\n",
       "<style scoped>\n",
       "    .dataframe tbody tr th:only-of-type {\n",
       "        vertical-align: middle;\n",
       "    }\n",
       "\n",
       "    .dataframe tbody tr th {\n",
       "        vertical-align: top;\n",
       "    }\n",
       "\n",
       "    .dataframe thead th {\n",
       "        text-align: right;\n",
       "    }\n",
       "</style>\n",
       "<table border=\"1\" class=\"dataframe\">\n",
       "  <thead>\n",
       "    <tr style=\"text-align: right;\">\n",
       "      <th></th>\n",
       "      <th>num_0</th>\n",
       "      <th>num_1</th>\n",
       "      <th>CN_0_num_0</th>\n",
       "      <th>CN_1_num_1</th>\n",
       "    </tr>\n",
       "  </thead>\n",
       "  <tbody>\n",
       "    <tr>\n",
       "      <th>0</th>\n",
       "      <td>1.601034</td>\n",
       "      <td>2.535353</td>\n",
       "      <td>val0_0</td>\n",
       "      <td>val1_3</td>\n",
       "    </tr>\n",
       "    <tr>\n",
       "      <th>1</th>\n",
       "      <td>0.369841</td>\n",
       "      <td>0.231139</td>\n",
       "      <td>val0_1</td>\n",
       "      <td>val1_0</td>\n",
       "    </tr>\n",
       "    <tr>\n",
       "      <th>2</th>\n",
       "      <td>1.089526</td>\n",
       "      <td>NaN</td>\n",
       "      <td>val0_0</td>\n",
       "      <td>val1_0</td>\n",
       "    </tr>\n",
       "    <tr>\n",
       "      <th>3</th>\n",
       "      <td>4.103090</td>\n",
       "      <td>-0.766515</td>\n",
       "      <td>val0_1</td>\n",
       "      <td>val1_2</td>\n",
       "    </tr>\n",
       "    <tr>\n",
       "      <th>4</th>\n",
       "      <td>1.753178</td>\n",
       "      <td>1.787514</td>\n",
       "      <td>val0_0</td>\n",
       "      <td>val1_1</td>\n",
       "    </tr>\n",
       "    <tr>\n",
       "      <th>...</th>\n",
       "      <td>...</td>\n",
       "      <td>...</td>\n",
       "      <td>...</td>\n",
       "      <td>...</td>\n",
       "    </tr>\n",
       "    <tr>\n",
       "      <th>995</th>\n",
       "      <td>2.713939</td>\n",
       "      <td>1.451639</td>\n",
       "      <td>val0_1</td>\n",
       "      <td>val1_2</td>\n",
       "    </tr>\n",
       "    <tr>\n",
       "      <th>996</th>\n",
       "      <td>1.420812</td>\n",
       "      <td>2.535627</td>\n",
       "      <td>val0_0</td>\n",
       "      <td>val1_3</td>\n",
       "    </tr>\n",
       "    <tr>\n",
       "      <th>997</th>\n",
       "      <td>3.844315</td>\n",
       "      <td>1.211294</td>\n",
       "      <td>val0_1</td>\n",
       "      <td>val1_2</td>\n",
       "    </tr>\n",
       "    <tr>\n",
       "      <th>998</th>\n",
       "      <td>0.974124</td>\n",
       "      <td>2.619258</td>\n",
       "      <td>val0_0</td>\n",
       "      <td>val1_3</td>\n",
       "    </tr>\n",
       "    <tr>\n",
       "      <th>999</th>\n",
       "      <td>4.641478</td>\n",
       "      <td>-0.243075</td>\n",
       "      <td>val0_1</td>\n",
       "      <td>val1_1</td>\n",
       "    </tr>\n",
       "  </tbody>\n",
       "</table>\n",
       "<p>1000 rows × 4 columns</p>\n",
       "</div>"
      ],
      "text/plain": [
       "        num_0     num_1 CN_0_num_0 CN_1_num_1\n",
       "0    1.601034  2.535353     val0_0     val1_3\n",
       "1    0.369841  0.231139     val0_1     val1_0\n",
       "2    1.089526       NaN     val0_0     val1_0\n",
       "3    4.103090 -0.766515     val0_1     val1_2\n",
       "4    1.753178  1.787514     val0_0     val1_1\n",
       "..        ...       ...        ...        ...\n",
       "995  2.713939  1.451639     val0_1     val1_2\n",
       "996  1.420812  2.535627     val0_0     val1_3\n",
       "997  3.844315  1.211294     val0_1     val1_2\n",
       "998  0.974124  2.619258     val0_0     val1_3\n",
       "999  4.641478 -0.243075     val0_1     val1_1\n",
       "\n",
       "[1000 rows x 4 columns]"
      ]
     },
     "execution_count": 39,
     "metadata": {},
     "output_type": "execute_result"
    }
   ],
   "source": [
    "X, y = create_df()\n",
    "\n",
    "c1 = [ ['CN_1_num_1', '==', 'val1_3'] ]\n",
    "c2 = [ ['CN_1_num_1', '==', 'val1_0'] ]\n",
    "c3 = None\n",
    "\n",
    "c1_pipe = [dp.DataMinMaxScaler(verbose=False)]\n",
    "c2_pipe = [dp.DataPowerTransformer(verbose=False)]\n",
    "c3_pipe = []\n",
    "\n",
    "cohort_set = CohortManager(\n",
    "    transform_pipe=[c1_pipe, c2_pipe, c3_pipe],\n",
    "    cohort_def=[c1, c2, c3]\n",
    ")\n",
    "cohort_set.fit(X=X, y=y)\n",
    "new_X = cohort_set.transform(X)\n",
    "new_X"
   ]
  },
  {
   "cell_type": "markdown",
   "metadata": {},
   "source": [
    "## Use Rebalance over each cohort separately\n",
    "\n",
    "Rebalancing a dataset is not always a trivial task. In some cases, we might have a class imbalance in the whole dataset, but different cohorts of this dataset depict different imbalance distributions. In such a scenario, rebalancing the full dataset might result in an even greater imbalance for a set of cohorts, even though the full dataset is now balanced. Therefore, we might want to rebalance each cohort separately, in order to obtain a balanced dataset and balanced cohorts.\n",
    "\n",
    "In this subsection, we'll explore how the ``CohortManager`` can easily help us achieve this goal.\n",
    "\n",
    "First of all, let's start defining a function that plots a graph with the label distribution for the full dataset, as well as for each cohort."
   ]
  },
  {
   "cell_type": "code",
   "execution_count": 64,
   "metadata": {},
   "outputs": [],
   "source": [
    "import matplotlib.pyplot as plt\n",
    "import seaborn as sns\n",
    "\n",
    "def plot_value_counts_cohort(y_full, subsets, normalize = True):\n",
    "    plt.figure().clear()\n",
    "    plt.close()\n",
    "    plt.cla()\n",
    "    plt.clf()\n",
    "    fig = plt.gcf()\n",
    "    fig.set_size_inches(18, 10)\n",
    "    sns.set_theme(style=\"whitegrid\")\n",
    "    if normalize:\n",
    "        plt.ylim(0, 1)\n",
    "    #plt.legend(bbox_to_anchor=(1.02, 1), loc='upper left', borderaxespad=0, fontsize=23)\n",
    "\n",
    "    value_count = y_full.value_counts(normalize=normalize)\n",
    "\n",
    "    subsets_col = ['full df', 'full df']\n",
    "    counts_col = [value_count[0], value_count[1]]\n",
    "    label_col = [0, 1]\n",
    "\n",
    "    for key in subsets.keys():\n",
    "        value_count = subsets[key][\"y\"].value_counts(normalize=normalize)\n",
    "        subsets_col += [key, key]\n",
    "        counts_col += [value_count[0], value_count[1]]\n",
    "        label_col += [0, 1]\n",
    "\n",
    "    count_df = pd.DataFrame({\"subsets\":subsets_col, \"label\":label_col, \"counts\":counts_col})\n",
    "    \n",
    "    y_label = \"Occurrences\"\n",
    "    if normalize:\n",
    "        y_label = \"Fraction\"\n",
    "\n",
    "    ax = sns.barplot(x=\"subsets\", y=\"counts\", hue=\"label\", data=count_df)\n",
    "    ax.set_xlabel(\"Subsets\", fontsize=30)\n",
    "    ax.set_ylabel(y_label, fontsize=30)\n",
    "    #ax.tick_params(labelsize=15)\n",
    "    plt.show()"
   ]
  },
  {
   "cell_type": "markdown",
   "metadata": {},
   "source": [
    "Next, we'll create a ``CohortManager`` just to obtain the cohorts of interest and plot their distributions."
   ]
  },
  {
   "cell_type": "code",
   "execution_count": 65,
   "metadata": {},
   "outputs": [
    {
     "name": "stdout",
     "output_type": "stream",
     "text": [
      "label\n",
      "1        795\n",
      "0        205\n",
      "dtype: int64\n",
      "label\n",
      "0        119\n",
      "1         11\n",
      "dtype: int64\n",
      "label\n",
      "0        74\n",
      "1        31\n",
      "dtype: int64\n",
      "label\n",
      "1        495\n",
      "0          6\n",
      "dtype: int64\n",
      "label\n",
      "1        258\n",
      "0          6\n",
      "dtype: int64\n"
     ]
    },
    {
     "data": {
      "image/png": "[encoded data removed]",
      "text/plain": [
       "<Figure size 1296x720 with 1 Axes>"
      ]
     },
     "metadata": {},
     "output_type": "display_data"
    }
   ],
   "source": [
    "X, y = create_df(with_null=False)\n",
    "\n",
    "cohort_set = CohortManager(\n",
    "    cohort_col=[\"CN_1_num_1\"]\n",
    ")\n",
    "cohort_set.fit(X=X, y=y)\n",
    "subsets = cohort_set.get_subsets(X, y, apply_transform=False)\n",
    "\n",
    "print(y.value_counts())\n",
    "for key in subsets.keys():\n",
    "    print(subsets[key][\"y\"].value_counts())\n",
    "\n",
    "plot_value_counts_cohort(y, subsets, normalize=False)"
   ]
  },
  {
   "cell_type": "markdown",
   "metadata": {},
   "source": [
    "We can see that the full dataset has a great imbalance, where we have a considerably larger number of occurrences of the ``1`` class in relation to the ``0`` class. This imbalance is even greater for cohorts ``cohort_2`` and ``cohort_3``, while for cohorts ``cohort_0`` and ``cohort_1`` this imbalance is inverted: there are a lot more instances from the ``0`` class when compared to the ``1`` class.\n",
    "\n",
    "### Balancing the full dataset\n",
    "\n",
    "Let's now rebalance the full dataset. Here, We use the ``Rebalance`` class from the ``dataprocessing`` module. Afterward, we plot the label distributions once more to see if our problem is solved."
   ]
  },
  {
   "cell_type": "code",
   "execution_count": 66,
   "metadata": {},
   "outputs": [
    {
     "name": "stdout",
     "output_type": "stream",
     "text": [
      "label\n",
      "0        795\n",
      "1        795\n",
      "dtype: int64\n",
      "label\n",
      "0        463\n",
      "1         11\n",
      "dtype: int64\n",
      "label\n",
      "0        313\n",
      "1         31\n",
      "dtype: int64\n",
      "label\n",
      "1        495\n",
      "0          8\n",
      "dtype: int64\n",
      "label\n",
      "1        258\n",
      "0         11\n",
      "dtype: int64\n"
     ]
    },
    {
     "data": {
      "image/png": "[encoded data removed]",
      "text/plain": [
       "<Figure size 1296x720 with 1 Axes>"
      ]
     },
     "metadata": {},
     "output_type": "display_data"
    }
   ],
   "source": [
    "rebalance = dp.Rebalance(verbose=False)\n",
    "new_X, new_y = rebalance.fit_resample(X, y)\n",
    "\n",
    "cohort_set.fit(X=new_X, y=new_y)\n",
    "subsets = cohort_set.get_subsets(new_X, new_y, apply_transform=False)\n",
    "\n",
    "print(new_y.value_counts())\n",
    "for key in subsets.keys():\n",
    "    print(subsets[key][\"y\"].value_counts())\n",
    "\n",
    "plot_value_counts_cohort(new_y, subsets, normalize=False)"
   ]
  },
  {
   "cell_type": "markdown",
   "metadata": {},
   "source": [
    "As we can see, the full dataset is now balanced. However, looking at each cohort separately, we noticed that we only made matters worse: we now have an even greater label imbalance inside each cohort. If we think of these cohorts as sensitive groups, that is, groups separated by sensitive features, *e.g.* gender, race, and nationality, and that we don't want our models to perform differently in one group compared to another, then this imbalance between cohorts is a scenario that needs to be fixed.\n",
    "\n",
    "### Balancing each cohort separately\n",
    "\n",
    "We'll now use the ``Rebalance`` class over each cohort separately, in order to obtain a set of balanced cohorts. This might aid us in obtaining fair models, that is, models that perform equally through cohorts. To do this, we'll use the ``CohortManager``, and we'll pass the ``Rebalance`` object to the ``transform_pipe`` parameter. We'll then call the ``fit_resample()`` method, implemented by the ``Rebalance`` class. Note that when using a pipeline with an object that implements the ``fit_resample()`` class, there can't be any transformers that implement the ``transform()`` and ``predict()`` methods, since these transformations serve different purposes: the former is used for rebalancing, that is, creating new instances in the ``X`` and ``y`` datasets, while the latter require that the number of instances of the dataset is kept fixed between each transformation."
   ]
  },
  {
   "cell_type": "code",
   "execution_count": 68,
   "metadata": {},
   "outputs": [
    {
     "data": {
      "image/png": "[encoded data removed]",
      "text/plain": [
       "<Figure size 1296x720 with 1 Axes>"
      ]
     },
     "metadata": {},
     "output_type": "display_data"
    }
   ],
   "source": [
    "rebalance_cohort = CohortManager(\n",
    "    transform_pipe=dp.Rebalance(verbose=False),\n",
    "    cohort_col=[\"CN_1_num_1\"]\n",
    ")\n",
    "new_X, new_y = rebalance_cohort.fit_resample(X, y)\n",
    "\n",
    "subsets = rebalance_cohort.get_subsets(new_X, new_y, apply_transform=False)\n",
    "\n",
    "plot_value_counts_cohort(new_y, subsets, normalize=False)"
   ]
  },
  {
   "cell_type": "code",
   "execution_count": 69,
   "metadata": {},
   "outputs": [
    {
     "data": {
      "text/plain": [
       "0    946\n",
       "1    946\n",
       "Name: label, dtype: int64"
      ]
     },
     "execution_count": 69,
     "metadata": {},
     "output_type": "execute_result"
    }
   ],
   "source": [
    "new_y.value_counts()"
   ]
  },
  {
   "cell_type": "markdown",
   "metadata": {},
   "source": [
    "As we can see, we now have a balanced full dataset, while also having balanced cohorts."
   ]
  }
 ],
 "metadata": {
  "kernelspec": {
   "display_name": "Python 3.9.12 ('rai')",
   "language": "python",
   "name": "python3"
  },
  "language_info": {
   "codemirror_mode": {
    "name": "ipython",
    "version": 3
   },
   "file_extension": ".py",
   "mimetype": "text/x-python",
   "name": "python",
   "nbconvert_exporter": "python",
   "pygments_lexer": "ipython3",
   "version": "3.9.12"
  },
  "orig_nbformat": 4,
  "vscode": {
   "interpreter": {
    "hash": "5215fd1cce9b64233b490e6c4e868a314fa8a5a2b064fe0583fd0c29542af034"
   }
  }
 },
 "nbformat": 4,
 "nbformat_minor": 2
}
