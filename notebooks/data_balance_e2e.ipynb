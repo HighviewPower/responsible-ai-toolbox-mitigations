{
 "cells": [
  {
   "cell_type": "code",
   "execution_count": null,
   "metadata": {},
   "outputs": [],
   "source": [
    "import pandas as pd\n",
    "import sys\n",
    "sys.path.append('../../ResponsibleAIToolbox-Mitigation/')\n",
    "from imblearn.under_sampling import TomekLinks\n",
    "from imblearn.over_sampling import SMOTE\n",
    "from imblearn.combine import SMOTETomek\n",
    "\n",
    "from errorsmitigation.dataprocessing import DataRebalance\n",
    "from databalanceanalysis.databalanceanalysis.utils import undummify\n",
    "\n",
    "from IPython.core.interactiveshell import InteractiveShell\n",
    "InteractiveShell.ast_node_interactivity = \"all\""
   ]
  },
  {
   "cell_type": "code",
   "execution_count": null,
   "metadata": {},
   "outputs": [],
   "source": [
    "data_dir = '../datasets/hr_promotion'\n",
    "df =  pd.read_csv(data_dir + '/train.csv').drop(['employee_id'], axis=1)\n",
    "cols_of_interest = ['education', 'gender']\n",
    "label_col = 'is_promoted'\n",
    "seed = 42\n",
    "# handle duplicates\n",
    "df = df.drop_duplicates()\n",
    "df = df.dropna()\n",
    "df.head()\n",
    "df.shape"
   ]
  },
  {
   "cell_type": "code",
   "execution_count": null,
   "metadata": {},
   "outputs": [],
   "source": [
    "from databalanceanalysis.databalanceanalysis.feature_measures import FeatureBalanceMeasure\n",
    "\n",
    "feature_measures = FeatureBalanceMeasure( cols_of_interest, label_col)\n",
    "\n",
    "feat_measures1 = feature_measures.measures(df)\n",
    "feat_measures1"
   ]
  },
  {
   "cell_type": "code",
   "execution_count": null,
   "metadata": {},
   "outputs": [],
   "source": [
    "from databalanceanalysis.databalanceanalysis.distribution_measures import DistributionBalanceMeasure\n",
    "\n",
    "dist_measures = DistributionBalanceMeasure( cols_of_interest)\n",
    "dist_measures1 = dist_measures.measures(df)\n",
    "dist_measures1\n"
   ]
  },
  {
   "cell_type": "code",
   "execution_count": null,
   "metadata": {},
   "outputs": [],
   "source": [
    "from databalanceanalysis.databalanceanalysis.aggregate_measures import AggregateBalanceMeasure\n",
    "\n",
    "agg_measures = AggregateBalanceMeasure( cols_of_interest)\n",
    "agg_measures1 = agg_measures.measures(df)\n",
    "agg_measures1"
   ]
  },
  {
   "cell_type": "code",
   "execution_count": null,
   "metadata": {},
   "outputs": [],
   "source": [
    "smote_tomek = SMOTETomek()\n",
    "smote = SMOTE()\n",
    "tomek = TomekLinks()\n",
    "dummy_df = pd.get_dummies(df, prefix_sep = \"-\")\n",
    "dummy_df.head()"
   ]
  },
  {
   "cell_type": "code",
   "execution_count": null,
   "metadata": {},
   "outputs": [],
   "source": [
    "# undummify(dummy_df, prefix_sep = \"-\", col_list = ['race'])\n",
    "# undummify(dummy_df, prefix_sep=\"-\", col_list = ['sex'])\n",
    "# gender_df = undummify(dummy_df, prefix_sep = \"-\", col_list = ['gender'])\n",
    "gender_df = undummify(dummy_df, prefix_sep = \"-\", col = 'gender')\n",
    "gender_df"
   ]
  },
  {
   "cell_type": "code",
   "execution_count": null,
   "metadata": {},
   "outputs": [],
   "source": [
    "data_balance_smote =  DataRebalance(gender_df, 'gender', 'auto', 42, None, smote, None)\n",
    "\n",
    "print(gender_df.shape)\n",
    "smote_df = data_balance_smote.Rebalance()\n",
    "print(smote_df.shape)\n",
    "# smote_df\n",
    "# print(smote_df.head)\n"
   ]
  },
  {
   "cell_type": "code",
   "execution_count": null,
   "metadata": {},
   "outputs": [],
   "source": [
    "# print(smote_df.shape)\n",
    "# smote_df.head()\n",
    "# dummy_df = pd.get_dummies(smote_df, prefix_sep =\"-\") # not required\n",
    "# print(dummy_df.shape)\n",
    "# dummy_df.head()\n",
    "\n",
    "smote_df.head()\n",
    "education_df = undummify(smote_df, prefix_sep = \"-\", col = 'education')\n",
    "education_df.head()\n",
    "\n",
    "education_df['education'].value_counts()\n"
   ]
  },
  {
   "cell_type": "code",
   "execution_count": null,
   "metadata": {},
   "outputs": [],
   "source": [
    "data_balance_smote_2 =  DataRebalance(education_df, 'education', 'auto', 42, None, smote, None)\n",
    "\n",
    "print(education_df.shape)\n",
    "smote_df_2 = data_balance_smote_2.Rebalance()\n",
    "print(smote_df_2.shape)"
   ]
  },
  {
   "cell_type": "code",
   "execution_count": null,
   "metadata": {},
   "outputs": [],
   "source": [
    "education_df['education'].value_counts()"
   ]
  },
  {
   "cell_type": "code",
   "execution_count": null,
   "metadata": {},
   "outputs": [],
   "source": [
    "education_df.tail()"
   ]
  },
  {
   "cell_type": "code",
   "execution_count": null,
   "metadata": {},
   "outputs": [],
   "source": [
    "education_df['education'].value_counts()"
   ]
  },
  {
   "cell_type": "code",
   "execution_count": null,
   "metadata": {},
   "outputs": [],
   "source": [
    "education_df.head()"
   ]
  },
  {
   "cell_type": "code",
   "execution_count": null,
   "metadata": {},
   "outputs": [],
   "source": [
    "# new_df = undummify(smote_df, prefix_sep=\"-\")"
   ]
  },
  {
   "cell_type": "code",
   "execution_count": null,
   "metadata": {},
   "outputs": [],
   "source": [
    "feature_measures.measures(education_df)\n",
    "feat_measures1"
   ]
  },
  {
   "cell_type": "code",
   "execution_count": null,
   "metadata": {},
   "outputs": [],
   "source": [
    "dist_measures.measures(education_df)\n",
    "dist_measures1"
   ]
  },
  {
   "cell_type": "code",
   "execution_count": null,
   "metadata": {},
   "outputs": [],
   "source": [
    "agg_measures.measures(education_df)\n",
    "agg_measures1"
   ]
  },
  {
   "cell_type": "markdown",
   "metadata": {},
   "source": [
    "## IGNORE BELOW FOR NOW"
   ]
  },
  {
   "cell_type": "code",
   "execution_count": null,
   "metadata": {},
   "outputs": [],
   "source": [
    "race_df = undummify(dummy_df, prefix_sep = \"-\", col_list = ['race'])\n",
    "data_rebalance_smote =  DataRebalance(race_df, 'race', None, None, None, smote, None)\n",
    "data_rebalance_tomek = DataRebalance(race_df, 'race', None, None, None, None, None)\n",
    "data_rebalance_smote_tomek = DataRebalance(race_df, 'race', None, None, None, None, None)\n",
    "smote_df = data_rebalance_smote.Rebalance()\n",
    "tomek_df = data_rebalance_tomek.Rebalance()\n",
    "smote_tomek_df = data_rebalance_smote_tomek.Rebalance()\n"
   ]
  },
  {
   "cell_type": "code",
   "execution_count": null,
   "metadata": {},
   "outputs": [],
   "source": [
    "smote_df"
   ]
  },
  {
   "cell_type": "code",
   "execution_count": null,
   "metadata": {},
   "outputs": [],
   "source": [
    "# df = undummify(df, \"-\")\n",
    "# smote_df = undummify(smote_df, \"-\")\n",
    "# smote_tomek_df = undummify(smote_tomek_df, \"-\")\n",
    "# tomek_df = undummify(tomek_df, \"-\")"
   ]
  },
  {
   "cell_type": "code",
   "execution_count": null,
   "metadata": {},
   "outputs": [],
   "source": [
    "smote_sex_df = undummify( pd.get_dummies(smote_df, prefix_sep= \"-\"), prefix_sep = \"-\", col_list = [\"sex\"]) "
   ]
  },
  {
   "cell_type": "code",
   "execution_count": null,
   "metadata": {},
   "outputs": [],
   "source": [
    "tomek_sex_df = undummify( pd.get_dummies(tomek_df, prefix_sep= \"-\"), prefix_sep = \"-\", col_list = [\"sex\"]) \n",
    "smote_tomek_sex_df = undummify( pd.get_dummies(smote_tomek_df, prefix_sep= \"-\"), prefix_sep = \"-\", col_list = [\"sex\"]) "
   ]
  },
  {
   "cell_type": "code",
   "execution_count": null,
   "metadata": {},
   "outputs": [],
   "source": [
    "data_rebalance_smote =  DataRebalance(smote_sex_df, 'sex', None, None, None, smote, None)\n",
    "data_rebalance_tomek = DataRebalance(tomek_sex_df, 'sex', None, None, None, None, None)\n",
    "data_rebalance_smote_tomek = DataRebalance(smote_tomek_sex_df, 'sex', None, None, None, None, None)\n",
    "smote_df = data_rebalance_smote.Rebalance()\n",
    "tomek_df = data_rebalance_tomek.Rebalance()\n",
    "# smote_tomek_df = data_rebalance_smote_tomek.Rebalance()"
   ]
  },
  {
   "cell_type": "code",
   "execution_count": null,
   "metadata": {},
   "outputs": [],
   "source": [
    "smote_df = undummify()\n",
    "tomek_df = undummify()\n",
    "# smote_tomek_df = undummify()"
   ]
  },
  {
   "cell_type": "code",
   "execution_count": null,
   "metadata": {},
   "outputs": [],
   "source": [
    "from databalanceanalysis.databalanceanalysis.feature_measures import FeatureBalanceMeasure\n",
    "feat_measures = feature_measures.measures(df)"
   ]
  },
  {
   "cell_type": "markdown",
   "metadata": {},
   "source": [
    "First look at the feature balance measures for the dataset without applying SMOTE or TOMEK"
   ]
  },
  {
   "cell_type": "code",
   "execution_count": null,
   "metadata": {},
   "outputs": [],
   "source": [
    "feat_measures"
   ]
  },
  {
   "cell_type": "markdown",
   "metadata": {},
   "source": [
    "After applying SMOTE method, these are the feature balance measures"
   ]
  },
  {
   "cell_type": "code",
   "execution_count": null,
   "metadata": {},
   "outputs": [],
   "source": [
    "feature_measures.measures(smote_df)"
   ]
  },
  {
   "cell_type": "markdown",
   "metadata": {},
   "source": [
    "Applying applying the SMOTE-Tomek Method these are the feature balance measures."
   ]
  },
  {
   "cell_type": "code",
   "execution_count": null,
   "metadata": {},
   "outputs": [],
   "source": [
    "feature_measures.measures(smote_tomek_df)"
   ]
  },
  {
   "cell_type": "markdown",
   "metadata": {},
   "source": [
    "After appying the Tomek Method"
   ]
  },
  {
   "cell_type": "code",
   "execution_count": null,
   "metadata": {},
   "outputs": [],
   "source": [
    "feature_measures.measures(tomek_df)"
   ]
  },
  {
   "cell_type": "code",
   "execution_count": null,
   "metadata": {},
   "outputs": [],
   "source": [
    "from databalanceanalysis.databalanceanalysis.distribution_measures import DistributionBalanceMeasure\n",
    "dist_measures = DistributionBalanceMeasure(cols_of_interest)\n",
    "dist_measures.measures(df)\n"
   ]
  },
  {
   "cell_type": "code",
   "execution_count": null,
   "metadata": {},
   "outputs": [],
   "source": [
    "dist_measures.measures(smote_df)"
   ]
  },
  {
   "cell_type": "code",
   "execution_count": null,
   "metadata": {},
   "outputs": [],
   "source": [
    "dist_measures.measures(smote_tomek_df)"
   ]
  },
  {
   "cell_type": "code",
   "execution_count": null,
   "metadata": {},
   "outputs": [],
   "source": [
    "dist_measures.measures(tomek_df)"
   ]
  },
  {
   "cell_type": "code",
   "execution_count": null,
   "metadata": {},
   "outputs": [],
   "source": [
    "from databalanceanalysis.databalanceanalysis.aggregate_measures import AggregateBalanceMeasure\n",
    "agg_measures = AggregateBalanceMeasure(cols_of_interest)\n",
    "agg_measures.measures(df)"
   ]
  },
  {
   "cell_type": "code",
   "execution_count": null,
   "metadata": {},
   "outputs": [],
   "source": [
    "agg_measures.measures(smote_df)"
   ]
  },
  {
   "cell_type": "code",
   "execution_count": null,
   "metadata": {},
   "outputs": [],
   "source": [
    "agg_measures.measures(smote_tomek_df)"
   ]
  },
  {
   "cell_type": "code",
   "execution_count": null,
   "metadata": {},
   "outputs": [],
   "source": [
    "agg_measures.measures(tomek_df)"
   ]
  }
 ],
 "metadata": {
  "interpreter": {
   "hash": "25553ff2aeabf811aa6253044d4e27aa04c210fdd185f9aa4a44c307365de193"
  },
  "kernelspec": {
   "display_name": "Python 3 (ipykernel)",
   "language": "python",
   "name": "python3"
  },
  "language_info": {
   "codemirror_mode": {
    "name": "ipython",
    "version": 3
   },
   "file_extension": ".py",
   "mimetype": "text/x-python",
   "name": "python",
   "nbconvert_exporter": "python",
   "pygments_lexer": "ipython3",
   "version": "3.8.11"
  }
 },
 "nbformat": 4,
 "nbformat_minor": 2
}
