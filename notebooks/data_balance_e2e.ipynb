{
 "cells": [
  {
   "cell_type": "markdown",
   "metadata": {},
   "source": [
    "# End to End Data Balance and Error Mitigation\n",
    "This Notebook will demonstrate how to use both the Data Balance Analysis capabilities and error mitigation functions together using an example HR dataset which is a tabular dataset with a label column that indicates whether or not a person is promoted based on attributes such as education, gender, number of trainings, and other factors. \n",
    "The steps that we will take in this notebook are \n",
    "1. We will first conduct an analysis on how balanced the data is. \n",
    "2. We will train an example model to see how it performs on the data. \n",
    "3. We will try to balance the data to mitigate biases that may have resulted from unbalanced data\n",
    "4. We will then compare model performance and data balance metrics before and after rebalancing the data"
   ]
  },
  {
   "cell_type": "markdown",
   "metadata": {},
   "source": [
    "First we import all the dependencies needed in our analysis. This includes the classes to produce the data balance metrics, the sklearn functions to see the model performance and the error mitigation steps like DataRebalance and DataSplit that we apply to the dataset itself. "
   ]
  },
  {
   "cell_type": "code",
   "execution_count": 6,
   "metadata": {
    "collapsed": true
   },
   "outputs": [
    {
     "name": "stdout",
     "output_type": "stream",
     "text": [
      "Obtaining file:///C:/Users/Akshara/Desktop/RAI/responsible-ai-mitigations\n",
      "Requirement already satisfied: pandas in c:\\users\\akshara\\anaconda3\\envs\\databalancedev2\\lib\\site-packages (from raimitigations==0.0.1) (1.3.5)\n",
      "Requirement already satisfied: numpy in c:\\users\\akshara\\anaconda3\\envs\\databalancedev2\\lib\\site-packages (from raimitigations==0.0.1) (1.22.1)\n",
      "Requirement already satisfied: wheel in c:\\users\\akshara\\anaconda3\\envs\\databalancedev2\\lib\\site-packages (from raimitigations==0.0.1) (0.37.1)\n",
      "Requirement already satisfied: scipy in c:\\users\\akshara\\anaconda3\\envs\\databalancedev2\\lib\\site-packages (from raimitigations==0.0.1) (1.7.3)\n",
      "Requirement already satisfied: scikit-learn in c:\\users\\akshara\\anaconda3\\envs\\databalancedev2\\lib\\site-packages (from raimitigations==0.0.1) (1.0.2)\n",
      "Requirement already satisfied: imbalanced-learn in c:\\users\\akshara\\anaconda3\\envs\\databalancedev2\\lib\\site-packages (from raimitigations==0.0.1) (0.9.0)\n",
      "Requirement already satisfied: threadpoolctl>=2.0.0 in c:\\users\\akshara\\anaconda3\\envs\\databalancedev2\\lib\\site-packages (from imbalanced-learn->raimitigations==0.0.1) (3.0.0)\n",
      "Requirement already satisfied: joblib>=0.11 in c:\\users\\akshara\\anaconda3\\envs\\databalancedev2\\lib\\site-packages (from imbalanced-learn->raimitigations==0.0.1) (1.1.0)\n",
      "Requirement already satisfied: pytz>=2017.3 in c:\\users\\akshara\\anaconda3\\envs\\databalancedev2\\lib\\site-packages (from pandas->raimitigations==0.0.1) (2021.3)\n",
      "Requirement already satisfied: python-dateutil>=2.7.3 in c:\\users\\akshara\\anaconda3\\envs\\databalancedev2\\lib\\site-packages (from pandas->raimitigations==0.0.1) (2.8.2)\n",
      "Requirement already satisfied: six>=1.5 in c:\\users\\akshara\\anaconda3\\envs\\databalancedev2\\lib\\site-packages (from python-dateutil>=2.7.3->pandas->raimitigations==0.0.1) (1.16.0)\n",
      "Installing collected packages: raimitigations\n",
      "  Attempting uninstall: raimitigations\n",
      "    Found existing installation: raimitigations 0.0.1\n",
      "    Uninstalling raimitigations-0.0.1:\n",
      "      Successfully uninstalled raimitigations-0.0.1\n",
      "  Running setup.py develop for raimitigations\n",
      "Successfully installed raimitigations-0.0.1\n"
     ]
    }
   ],
   "source": [
    "!pip install -e ../../responsible-ai-mitigations"
   ]
  },
  {
   "cell_type": "code",
   "execution_count": 7,
   "metadata": {},
   "outputs": [],
   "source": [
    "import pandas as pd\n",
    "import matplotlib.pyplot as plt\n",
    "import numpy as np\n",
    "\n",
    "from imblearn.over_sampling import SMOTE\n",
    "\n",
    "from raimitigations.dataprocessing import Rebalance, Split\n",
    "\n",
    "from raimitigations.databalanceanalysis import FeatureBalanceMeasure, AggregateBalanceMeasure, DistributionBalanceMeasure\n",
    "\n",
    "from lightgbm import LGBMClassifier\n",
    "\n",
    "from sklearn import metrics\n",
    "from sklearn.model_selection import train_test_split\n",
    "from sklearn.metrics import confusion_matrix, classification_report\n",
    "from sklearn.preprocessing import OrdinalEncoder"
   ]
  },
  {
   "cell_type": "markdown",
   "metadata": {},
   "source": [
    "### Train LightGBM Model\n",
    "Now we import the tabular dataset that we will look at in the example, we load it into a pandas dataframe that we can then modify and use for all the other steps. For the data balance analysis portion we need our label columns and a list of sensitive columns that are interested in checking for balance. "
   ]
  },
  {
   "cell_type": "code",
   "execution_count": 8,
   "metadata": {},
   "outputs": [],
   "source": [
    "from urllib.request import urlretrieve\n",
    "import zipfile\n",
    "import pandas as pd\n",
    "\n",
    "outdirname = 'mitigations-datasets.2.22.2022'\n",
    "zipfilename = outdirname + '.zip'\n",
    "urlretrieve('https://publictestdatasets.blob.core.windows.net/data/' + zipfilename, zipfilename)\n",
    "with zipfile.ZipFile(zipfilename, 'r') as unzip:\n",
    "    unzip.extractall('.')\n",
    "df = pd.read_csv('./' + outdirname + '/hr_promotion/train.csv')"
   ]
  },
  {
   "cell_type": "markdown",
   "metadata": {},
   "source": [
    "We do some data transformation on the categorical columns in order to make the training data input in the format that the lightGBM model expects. Although lightGBM can internally deal with categorical columns that the user specifies, we need to encode those categories into integers before we are able to train the lightGBM model on it. "
   ]
  },
  {
   "cell_type": "code",
   "execution_count": 9,
   "metadata": {},
   "outputs": [
    {
     "data": {
      "text/html": [
       "<div>\n",
       "<style scoped>\n",
       "    .dataframe tbody tr th:only-of-type {\n",
       "        vertical-align: middle;\n",
       "    }\n",
       "\n",
       "    .dataframe tbody tr th {\n",
       "        vertical-align: top;\n",
       "    }\n",
       "\n",
       "    .dataframe thead th {\n",
       "        text-align: right;\n",
       "    }\n",
       "</style>\n",
       "<table border=\"1\" class=\"dataframe\">\n",
       "  <thead>\n",
       "    <tr style=\"text-align: right;\">\n",
       "      <th></th>\n",
       "      <th>department</th>\n",
       "      <th>region</th>\n",
       "      <th>education</th>\n",
       "      <th>gender</th>\n",
       "      <th>recruitment_channel</th>\n",
       "      <th>no_of_trainings</th>\n",
       "      <th>age</th>\n",
       "      <th>previous_year_rating</th>\n",
       "      <th>length_of_service</th>\n",
       "      <th>KPIs_met &gt;80%</th>\n",
       "      <th>awards_won?</th>\n",
       "      <th>avg_training_score</th>\n",
       "      <th>is_promoted</th>\n",
       "    </tr>\n",
       "  </thead>\n",
       "  <tbody>\n",
       "    <tr>\n",
       "      <th>0</th>\n",
       "      <td>7</td>\n",
       "      <td>31</td>\n",
       "      <td>2</td>\n",
       "      <td>0</td>\n",
       "      <td>2</td>\n",
       "      <td>1</td>\n",
       "      <td>35</td>\n",
       "      <td>5.0</td>\n",
       "      <td>8</td>\n",
       "      <td>1</td>\n",
       "      <td>0</td>\n",
       "      <td>49</td>\n",
       "      <td>0</td>\n",
       "    </tr>\n",
       "    <tr>\n",
       "      <th>1</th>\n",
       "      <td>4</td>\n",
       "      <td>14</td>\n",
       "      <td>0</td>\n",
       "      <td>1</td>\n",
       "      <td>0</td>\n",
       "      <td>1</td>\n",
       "      <td>30</td>\n",
       "      <td>5.0</td>\n",
       "      <td>4</td>\n",
       "      <td>0</td>\n",
       "      <td>0</td>\n",
       "      <td>60</td>\n",
       "      <td>0</td>\n",
       "    </tr>\n",
       "    <tr>\n",
       "      <th>2</th>\n",
       "      <td>7</td>\n",
       "      <td>10</td>\n",
       "      <td>0</td>\n",
       "      <td>1</td>\n",
       "      <td>2</td>\n",
       "      <td>1</td>\n",
       "      <td>34</td>\n",
       "      <td>3.0</td>\n",
       "      <td>7</td>\n",
       "      <td>0</td>\n",
       "      <td>0</td>\n",
       "      <td>50</td>\n",
       "      <td>0</td>\n",
       "    </tr>\n",
       "    <tr>\n",
       "      <th>3</th>\n",
       "      <td>7</td>\n",
       "      <td>15</td>\n",
       "      <td>0</td>\n",
       "      <td>1</td>\n",
       "      <td>0</td>\n",
       "      <td>2</td>\n",
       "      <td>39</td>\n",
       "      <td>1.0</td>\n",
       "      <td>10</td>\n",
       "      <td>0</td>\n",
       "      <td>0</td>\n",
       "      <td>50</td>\n",
       "      <td>0</td>\n",
       "    </tr>\n",
       "    <tr>\n",
       "      <th>4</th>\n",
       "      <td>8</td>\n",
       "      <td>18</td>\n",
       "      <td>0</td>\n",
       "      <td>1</td>\n",
       "      <td>0</td>\n",
       "      <td>1</td>\n",
       "      <td>45</td>\n",
       "      <td>3.0</td>\n",
       "      <td>2</td>\n",
       "      <td>0</td>\n",
       "      <td>0</td>\n",
       "      <td>73</td>\n",
       "      <td>0</td>\n",
       "    </tr>\n",
       "  </tbody>\n",
       "</table>\n",
       "</div>"
      ],
      "text/plain": [
       "   department  region  education  gender  recruitment_channel  \\\n",
       "0           7      31          2       0                    2   \n",
       "1           4      14          0       1                    0   \n",
       "2           7      10          0       1                    2   \n",
       "3           7      15          0       1                    0   \n",
       "4           8      18          0       1                    0   \n",
       "\n",
       "   no_of_trainings  age  previous_year_rating  length_of_service  \\\n",
       "0                1   35                   5.0                  8   \n",
       "1                1   30                   5.0                  4   \n",
       "2                1   34                   3.0                  7   \n",
       "3                2   39                   1.0                 10   \n",
       "4                1   45                   3.0                  2   \n",
       "\n",
       "   KPIs_met >80%  awards_won?  avg_training_score  is_promoted  \n",
       "0              1            0                  49            0  \n",
       "1              0            0                  60            0  \n",
       "2              0            0                  50            0  \n",
       "3              0            0                  50            0  \n",
       "4              0            0                  73            0  "
      ]
     },
     "execution_count": 9,
     "metadata": {},
     "output_type": "execute_result"
    }
   ],
   "source": [
    "cols_of_interest = ['education', 'recruitment_channel']\n",
    "categorical_cols = [\"department\", \"gender\", \"education\", \"region\", \"recruitment_channel\" ]\n",
    "label_col = 'is_promoted'\n",
    "seed = 42\n",
    "# handle duplicates\n",
    "df = df.drop_duplicates().drop([\"employee_id\"], axis = 1)\n",
    "df = df.dropna()\n",
    "ord_enc = OrdinalEncoder(dtype = int)\n",
    "df[categorical_cols] = ord_enc.fit_transform(df[categorical_cols])\n",
    "df.head()"
   ]
  },
  {
   "cell_type": "markdown",
   "metadata": {},
   "source": [
    "Here we do a split on the data, train a LightGBM model, and see how this model does on some test data. After this processing, we train the model and we can see that the model does well on false values, getting 97.3% of them correct, but the model does a lot worse on the true values, only identifying approximately a third of the true positives correctly. "
   ]
  },
  {
   "cell_type": "code",
   "execution_count": 10,
   "metadata": {},
   "outputs": [
    {
     "name": "stderr",
     "output_type": "stream",
     "text": [
      "Using categorical_feature in Dataset.\n"
     ]
    },
    {
     "name": "stdout",
     "output_type": "stream",
     "text": [
      "number of errors on test dataset: 283\n",
      "                  Pred 1              Pred 0\n",
      "True   TP = 146 (34.52%)   FN = 277 (65.48%)\n",
      "False     FP = 6 (0.14%)  TN = 4437 (99.86%)\n",
      "              precision    recall  f1-score   support\n",
      "\n",
      "           0       0.94      1.00      0.97      4443\n",
      "           1       0.96      0.35      0.51       423\n",
      "\n",
      "    accuracy                           0.94      4866\n",
      "   macro avg       0.95      0.67      0.74      4866\n",
      "weighted avg       0.94      0.94      0.93      4866\n",
      "\n"
     ]
    }
   ],
   "source": [
    "## Train a model and get accuracy numbers\n",
    "\n",
    "# data prep\n",
    "def split_label(dataset):\n",
    "    x = dataset.drop(['is_promoted'], axis=1)\n",
    "    y = dataset['is_promoted']\n",
    "    return x, y\n",
    "\n",
    "dataset = df\n",
    "target_index = dataset.columns.get_loc('is_promoted')\n",
    "data_split =  Split(dataset,target_index , 0.9, 42, False, False, False, True)\n",
    "train_data, test_data = data_split.split()\n",
    "# splitting the training data\n",
    "x_train, y_train = split_label(train_data)\n",
    "# splitting the test data\n",
    "x_test, y_test = split_label(test_data)\n",
    "\n",
    "# LGBMClassifier Model\n",
    "clf = LGBMClassifier(n_estimators=50, )\n",
    "model = clf.fit(x_train, y_train, categorical_feature = categorical_cols)\n",
    "\n",
    "pred = model.predict(x_test)\n",
    "\n",
    "def conf_matrix(y,pred):\n",
    "    ((tn, fp), (fn, tp)) = metrics.confusion_matrix(y, pred)\n",
    "    ((tnr,fpr),(fnr,tpr))= metrics.confusion_matrix(y, pred, normalize='true')\n",
    "    return pd.DataFrame([[f'TP = {tp} ({tpr:1.2%})', f'FN = {fn} ({fnr:1.2%})'], \n",
    "                         [f'FP = {fp} ({fpr:1.2%})', f'TN = {tn} ({tnr:1.2%})']],\n",
    "                        index=['True', 'False'], \n",
    "                        columns=['Pred 1', 'Pred 0'])\n",
    "\n",
    "print(\"number of errors on test dataset: \" + str(sum(pred != y_test)))\n",
    "\n",
    "print(conf_matrix(y_test,pred))\n",
    "\n",
    "print(classification_report(y_test, pred)) \n"
   ]
  },
  {
   "cell_type": "code",
   "execution_count": null,
   "metadata": {},
   "outputs": [],
   "source": []
  },
  {
   "cell_type": "markdown",
   "metadata": {},
   "source": [
    "### Error Analysis on Baseline Model\n",
    "Now that we have a baseline model to work with, we can see how this model is doing overall on the data and see if there are any cohorts within the data that it performs worse on. We use the [Error Analysis Dashboard](https://erroranalysis.ai/) to determine which cohorts of data this model performs worse on. Since the error analysis dashboard is interactive and too large to render on Github, we will include screenshots from our analysis. From these screenshots we can see that if we zoom in on certain cohorts that the model is getting more errors on, that region, department and education are all attributes that are involved in those cohorts. For the purpose of this example, we chose remove some of the other columns like KPIs_met from the error analysis since we want to focus on attributes that may lead to biases rather than more measurable attributes. We will focus on analyzing and mitigating errors within the department and education columns for the rest of the analysis. "
   ]
  },
  {
   "cell_type": "code",
   "execution_count": 35,
   "metadata": {},
   "outputs": [],
   "source": [
    "from raiwidgets import ErrorAnalysisDashboard\n",
    "predictions = model.predict(x_test)\n",
    "#ErrorAnalysisDashboard(dataset=x_test, true_y=y_test, features=x_test.columns, pred_y=predictions, categorical_features = categorical_cols)\n"
   ]
  },
  {
   "cell_type": "markdown",
   "metadata": {},
   "source": [
    "![error_analysis1](images/error_analysis1.png)"
   ]
  },
  {
   "cell_type": "markdown",
   "metadata": {},
   "source": [
    "### Data Balance Analysis\n",
    "First we can take a look at the feature balance measures. These measures indicate the difference in the label column amongst different feature values. For example the first row here indicates if people with the \"Masters & above\" education has a different proportion of people receiving the promoted outcome than those that have a Bachelor's. Lower values of these measures indicates that the amounts of people with class A vs versus those with class B with a label of 1 is similar. The t-test value can also tell us if the difference we see is statistically significant."
   ]
  },
  {
   "cell_type": "code",
   "execution_count": 12,
   "metadata": {},
   "outputs": [],
   "source": [
    "train_df = train_data\n",
    "train_df[categorical_cols ] = ord_enc.inverse_transform(train_df[categorical_cols])"
   ]
  },
  {
   "cell_type": "code",
   "execution_count": 13,
   "metadata": {},
   "outputs": [
    {
     "data": {
      "text/html": [
       "<div>\n",
       "<style scoped>\n",
       "    .dataframe tbody tr th:only-of-type {\n",
       "        vertical-align: middle;\n",
       "    }\n",
       "\n",
       "    .dataframe tbody tr th {\n",
       "        vertical-align: top;\n",
       "    }\n",
       "\n",
       "    .dataframe thead th {\n",
       "        text-align: right;\n",
       "    }\n",
       "</style>\n",
       "<table border=\"1\" class=\"dataframe\">\n",
       "  <thead>\n",
       "    <tr style=\"text-align: right;\">\n",
       "      <th></th>\n",
       "      <th>ClassA</th>\n",
       "      <th>ClassB</th>\n",
       "      <th>FeatureName</th>\n",
       "      <th>dp</th>\n",
       "      <th>pmi</th>\n",
       "      <th>sdc</th>\n",
       "      <th>ji</th>\n",
       "      <th>krc</th>\n",
       "      <th>llr</th>\n",
       "      <th>t_test</th>\n",
       "      <th>ttest_pvalue</th>\n",
       "    </tr>\n",
       "  </thead>\n",
       "  <tbody>\n",
       "    <tr>\n",
       "      <th>0</th>\n",
       "      <td>Bachelor's</td>\n",
       "      <td>Master's &amp; above</td>\n",
       "      <td>education</td>\n",
       "      <td>-0.016964</td>\n",
       "      <td>-0.188396</td>\n",
       "      <td>-0.004202</td>\n",
       "      <td>-0.004908</td>\n",
       "      <td>-4.957166</td>\n",
       "      <td>0.625158</td>\n",
       "      <td>-0.260358</td>\n",
       "      <td>0.409471</td>\n",
       "    </tr>\n",
       "    <tr>\n",
       "      <th>1</th>\n",
       "      <td>Bachelor's</td>\n",
       "      <td>Below Secondary</td>\n",
       "      <td>education</td>\n",
       "      <td>0.001259</td>\n",
       "      <td>0.015504</td>\n",
       "      <td>0.064587</td>\n",
       "      <td>0.070209</td>\n",
       "      <td>-31.829677</td>\n",
       "      <td>4.281150</td>\n",
       "      <td>-2.863668</td>\n",
       "      <td>0.051688</td>\n",
       "    </tr>\n",
       "    <tr>\n",
       "      <th>2</th>\n",
       "      <td>Master's &amp; above</td>\n",
       "      <td>Below Secondary</td>\n",
       "      <td>education</td>\n",
       "      <td>0.018223</td>\n",
       "      <td>0.203900</td>\n",
       "      <td>0.068788</td>\n",
       "      <td>0.075116</td>\n",
       "      <td>-26.872510</td>\n",
       "      <td>3.655992</td>\n",
       "      <td>-2.603310</td>\n",
       "      <td>0.060643</td>\n",
       "    </tr>\n",
       "    <tr>\n",
       "      <th>0</th>\n",
       "      <td>sourcing</td>\n",
       "      <td>other</td>\n",
       "      <td>recruitment_channel</td>\n",
       "      <td>0.003066</td>\n",
       "      <td>0.035499</td>\n",
       "      <td>-0.000410</td>\n",
       "      <td>-0.000477</td>\n",
       "      <td>1.576541</td>\n",
       "      <td>-0.234355</td>\n",
       "      <td>0.084912</td>\n",
       "      <td>0.470033</td>\n",
       "    </tr>\n",
       "    <tr>\n",
       "      <th>1</th>\n",
       "      <td>sourcing</td>\n",
       "      <td>referred</td>\n",
       "      <td>recruitment_channel</td>\n",
       "      <td>-0.035991</td>\n",
       "      <td>-0.343135</td>\n",
       "      <td>0.048845</td>\n",
       "      <td>0.053990</td>\n",
       "      <td>-18.710400</td>\n",
       "      <td>2.661363</td>\n",
       "      <td>-1.731014</td>\n",
       "      <td>0.112794</td>\n",
       "    </tr>\n",
       "  </tbody>\n",
       "</table>\n",
       "</div>"
      ],
      "text/plain": [
       "             ClassA            ClassB          FeatureName        dp  \\\n",
       "0        Bachelor's  Master's & above            education -0.016964   \n",
       "1        Bachelor's   Below Secondary            education  0.001259   \n",
       "2  Master's & above   Below Secondary            education  0.018223   \n",
       "0          sourcing             other  recruitment_channel  0.003066   \n",
       "1          sourcing          referred  recruitment_channel -0.035991   \n",
       "\n",
       "        pmi       sdc        ji        krc       llr    t_test  ttest_pvalue  \n",
       "0 -0.188396 -0.004202 -0.004908  -4.957166  0.625158 -0.260358      0.409471  \n",
       "1  0.015504  0.064587  0.070209 -31.829677  4.281150 -2.863668      0.051688  \n",
       "2  0.203900  0.068788  0.075116 -26.872510  3.655992 -2.603310      0.060643  \n",
       "0  0.035499 -0.000410 -0.000477   1.576541 -0.234355  0.084912      0.470033  \n",
       "1 -0.343135  0.048845  0.053990 -18.710400  2.661363 -1.731014      0.112794  "
      ]
     },
     "execution_count": 13,
     "metadata": {},
     "output_type": "execute_result"
    }
   ],
   "source": [
    "feature_measures = FeatureBalanceMeasure( cols_of_interest, label_col)\n",
    "\n",
    "feat_measures1 = feature_measures.measures(train_df)\n",
    "feat_measures1.head()"
   ]
  },
  {
   "cell_type": "code",
   "execution_count": 14,
   "metadata": {
    "scrolled": true
   },
   "outputs": [
    {
     "data": {
      "image/png": "[encoded data removed]",
      "text/plain": [
       "<Figure size 432x288 with 2 Axes>"
      ]
     },
     "metadata": {
      "needs_background": "light"
     },
     "output_type": "display_data"
    }
   ],
   "source": [
    " %matplotlib inline \n",
    "educations = train_df['education'].unique()\n",
    "education_dp_values = feat_measures1[feat_measures1[\"FeatureName\"] == 'education'][[\"ClassA\", \"ClassB\", \"pmi\"]]\n",
    "education_dp_array = np.zeros((len(educations), len(educations)))\n",
    "\n",
    "for idx, row in education_dp_values.iterrows():\n",
    "    class_a = row[0]\n",
    "    class_b = row[1]\n",
    "    dp_value = row[2]\n",
    "    i, j = np.where(educations==class_a)[0][0], np.where(educations == class_b)\n",
    "    dp_value = round(dp_value, 2)\n",
    "    education_dp_array[i, j] = dp_value\n",
    "    education_dp_array[j, i] = -1 * dp_value\n",
    "\n",
    "colormap = \"RdBu\"\n",
    "dp_min, dp_max = -1.0, 1.0\n",
    "\n",
    "fig, ax = plt.subplots()\n",
    "im = ax.imshow(education_dp_array, vmin=dp_min, vmax=dp_max, cmap=colormap)\n",
    "\n",
    "cbar = ax.figure.colorbar(im, ax=ax)\n",
    "cbar.ax.set_ylabel(\"Point Mutual Info\", rotation=-90, va=\"bottom\")\n",
    "\n",
    "ax.set_xticks(np.arange(len(educations)))\n",
    "ax.set_yticks(np.arange(len(educations)))\n",
    "ax.set_xticklabels(educations)\n",
    "ax.set_yticklabels(educations)\n",
    "\n",
    "plt.setp(ax.get_xticklabels(), rotation=45, ha=\"right\", rotation_mode=\"anchor\")\n",
    "\n",
    "for i in range(len(educations)):\n",
    "    for j in range(len(educations)):\n",
    "        text = ax.text(j, i, education_dp_array[i, j], ha=\"center\", va=\"center\", color=\"k\")\n",
    "    \n",
    "ax.set_title(\"PMI of education in HR Dataset\")\n",
    "fig.tight_layout()\n",
    "plt.show()"
   ]
  },
  {
   "cell_type": "markdown",
   "metadata": {},
   "source": [
    "Next we can take a look at the distribution balance measures. These measures each of the columns of interest that we selected to the uniform distribution of those values. Values that are closer to zero indicate that the difference between the actual distribution of the data and the uniform distribution of values."
   ]
  },
  {
   "cell_type": "code",
   "execution_count": 15,
   "metadata": {},
   "outputs": [
    {
     "data": {
      "text/html": [
       "<div>\n",
       "<style scoped>\n",
       "    .dataframe tbody tr th:only-of-type {\n",
       "        vertical-align: middle;\n",
       "    }\n",
       "\n",
       "    .dataframe tbody tr th {\n",
       "        vertical-align: top;\n",
       "    }\n",
       "\n",
       "    .dataframe thead th {\n",
       "        text-align: right;\n",
       "    }\n",
       "</style>\n",
       "<table border=\"1\" class=\"dataframe\">\n",
       "  <thead>\n",
       "    <tr style=\"text-align: right;\">\n",
       "      <th></th>\n",
       "      <th>FeatureName</th>\n",
       "      <th>kl_divergence</th>\n",
       "      <th>js_dist</th>\n",
       "      <th>wasserstein_dist</th>\n",
       "      <th>inf_norm_dist</th>\n",
       "      <th>total_variation_dist</th>\n",
       "      <th>chi_sq_p_value</th>\n",
       "      <th>chi_sq_stat</th>\n",
       "    </tr>\n",
       "  </thead>\n",
       "  <tbody>\n",
       "    <tr>\n",
       "      <th>0</th>\n",
       "      <td>education</td>\n",
       "      <td>0.433445</td>\n",
       "      <td>0.358342</td>\n",
       "      <td>0.235238</td>\n",
       "      <td>0.352857</td>\n",
       "      <td>0.352857</td>\n",
       "      <td>0.0</td>\n",
       "      <td>30235.985340</td>\n",
       "    </tr>\n",
       "    <tr>\n",
       "      <th>1</th>\n",
       "      <td>recruitment_channel</td>\n",
       "      <td>0.326923</td>\n",
       "      <td>0.315666</td>\n",
       "      <td>0.208217</td>\n",
       "      <td>0.312326</td>\n",
       "      <td>0.312326</td>\n",
       "      <td>0.0</td>\n",
       "      <td>20356.403343</td>\n",
       "    </tr>\n",
       "  </tbody>\n",
       "</table>\n",
       "</div>"
      ],
      "text/plain": [
       "           FeatureName  kl_divergence   js_dist  wasserstein_dist  \\\n",
       "0            education       0.433445  0.358342          0.235238   \n",
       "1  recruitment_channel       0.326923  0.315666          0.208217   \n",
       "\n",
       "   inf_norm_dist  total_variation_dist  chi_sq_p_value   chi_sq_stat  \n",
       "0       0.352857              0.352857             0.0  30235.985340  \n",
       "1       0.312326              0.312326             0.0  20356.403343  "
      ]
     },
     "execution_count": 15,
     "metadata": {},
     "output_type": "execute_result"
    }
   ],
   "source": [
    "dist_measures = DistributionBalanceMeasure( cols_of_interest)\n",
    "dist_measures1 = dist_measures.measures(train_df)\n",
    "dist_measures1\n"
   ]
  },
  {
   "cell_type": "code",
   "execution_count": 16,
   "metadata": {},
   "outputs": [
    {
     "data": {
      "image/png": "[encoded data removed]",
      "text/plain": [
       "<Figure size 432x288 with 1 Axes>"
      ]
     },
     "metadata": {
      "needs_background": "light"
     },
     "output_type": "display_data"
    }
   ],
   "source": [
    " %matplotlib inline \n",
    "measures_of_interest = [\"kl_divergence\", \"js_dist\", \"inf_norm_dist\", \"total_variation_dist\", \"wasserstein_dist\"]\n",
    "education_measures = dist_measures1[dist_measures1['FeatureName'] == 'education'].iloc[0]\n",
    "department_measures = dist_measures1[dist_measures1['FeatureName'] == 'recruitment_channel'].iloc[0]\n",
    "education_array = [round(education_measures[measure], 4) for measure in measures_of_interest]\n",
    "department_array = [round(department_measures[measure], 4) for measure in measures_of_interest]\n",
    "\n",
    "x = np.arange(len(measures_of_interest))\n",
    "width = 0.35\n",
    "\n",
    "fig, ax = plt.subplots()\n",
    "rects1 = ax.bar(x - width/2, education_array, width, label=\"education\")\n",
    "rects2 = ax.bar(x + width/2, department_array, width, label=\"recruitment channel\")\n",
    "\n",
    "ax.set_xlabel(\"Measure\")\n",
    "ax.set_ylabel(\"Value\")\n",
    "ax.set_title(\"Distribution Balance Measures of Education and Recruitment Channel in Adult Dataset\")\n",
    "ax.set_xticks(x)\n",
    "ax.set_xticklabels(measures_of_interest)\n",
    "ax.legend()\n",
    "\n",
    "plt.setp(ax.get_xticklabels(), rotation=20, ha=\"right\", rotation_mode=\"default\")\n",
    "\n",
    "def autolabel(rects):\n",
    "    for rect in rects:\n",
    "        height = rect.get_height()\n",
    "        ax.annotate('{}'.format(height),\n",
    "                    xy=(rect.get_x() + rect.get_width() / 2, height),\n",
    "                    xytext=(0, 1),  # 1 point vertical offset\n",
    "                    textcoords=\"offset points\",\n",
    "                    ha='center', va='bottom')\n",
    "\n",
    "autolabel(rects1)\n",
    "autolabel(rects2)\n",
    "\n",
    "fig.tight_layout()\n",
    "\n",
    "plt.show()"
   ]
  },
  {
   "cell_type": "markdown",
   "metadata": {},
   "source": [
    "We can also look at aggregate balance measures which indicate a notion of overall inequality in the data. We can see that the Atkinson Index is 0.79. This means that in order to create a perfectly balanced dataset over these measures we would need to forgo 79.9% of the data. "
   ]
  },
  {
   "cell_type": "code",
   "execution_count": 17,
   "metadata": {},
   "outputs": [
    {
     "data": {
      "text/html": [
       "<div>\n",
       "<style scoped>\n",
       "    .dataframe tbody tr th:only-of-type {\n",
       "        vertical-align: middle;\n",
       "    }\n",
       "\n",
       "    .dataframe tbody tr th {\n",
       "        vertical-align: top;\n",
       "    }\n",
       "\n",
       "    .dataframe thead th {\n",
       "        text-align: right;\n",
       "    }\n",
       "</style>\n",
       "<table border=\"1\" class=\"dataframe\">\n",
       "  <thead>\n",
       "    <tr style=\"text-align: right;\">\n",
       "      <th></th>\n",
       "      <th>theil_l_index</th>\n",
       "      <th>theil_t_index</th>\n",
       "      <th>atkinson_index</th>\n",
       "    </tr>\n",
       "  </thead>\n",
       "  <tbody>\n",
       "    <tr>\n",
       "      <th>0</th>\n",
       "      <td>1.60865</td>\n",
       "      <td>0.760961</td>\n",
       "      <td>0.799842</td>\n",
       "    </tr>\n",
       "  </tbody>\n",
       "</table>\n",
       "</div>"
      ],
      "text/plain": [
       "   theil_l_index  theil_t_index  atkinson_index\n",
       "0        1.60865       0.760961        0.799842"
      ]
     },
     "execution_count": 17,
     "metadata": {},
     "output_type": "execute_result"
    }
   ],
   "source": [
    "agg_measures = AggregateBalanceMeasure( cols_of_interest)\n",
    "agg_measures1 = agg_measures.measures(train_df)\n",
    "agg_measures1"
   ]
  },
  {
   "cell_type": "markdown",
   "metadata": {},
   "source": [
    "### Error Mitigation: Rebalancing dataset\n",
    "In order to rebalance the data we can choose from three different methods of under or oversampling. These are SMOTE, Tomek and SMOTE-Tomek. SMOTE is a oversampling technique for the less represented class. Tomek is an undersampling technique that would be applied to the more represented class. Smote-Tomek is when both of these methods are applied in conjunction on the dataset. In this example, we will choose to use the SMOTE sampling technique on the columns of interest. The Rebalance function can only be applied on one column at a time so in order to apply this rebalancing technique on a cohort of two sensitive columns instead of an individual column, we combine these two columns into a single column that can be balanced. "
   ]
  },
  {
   "cell_type": "code",
   "execution_count": 18,
   "metadata": {},
   "outputs": [],
   "source": [
    "smote = SMOTE()\n",
    "# these are the other balance algorithm objects we could use but\n",
    "#  we are using the SMOTE resampling technique in this example\n",
    "# smote_tomek = SMOTETomek()\n",
    "# tomek = TomekLinks()\n",
    "\n",
    "def combine_cols(df):\n",
    "    return str(df[0]) + \" * \" + str(df[1])\n",
    "\n",
    "train_df2 = train_df\n",
    "train_df2[categorical_cols] = ord_enc.transform(train_df[categorical_cols])\n",
    "train_df2[\"education_recruitment_cohort\"] = df[[\"education\", \"recruitment_channel\"]].apply(combine_cols, axis=1)\n",
    "train_df2 = train_df2.drop([\"education\", \"recruitment_channel\"], axis=1)"
   ]
  },
  {
   "cell_type": "code",
   "execution_count": 19,
   "metadata": {},
   "outputs": [],
   "source": [
    "data_balance_smote = Rebalance(train_df2, 'education_recruitment_cohort', 'auto', 42, None, smote, None)\n",
    "\n",
    "smote_df = data_balance_smote.rebalance()\n",
    "smote_df['education'] = smote_df['education_recruitment_cohort'].apply(lambda x: int(x.split(\" * \")[0]))\n",
    "smote_df['recruitment_channel'] = smote_df['education_recruitment_cohort'].apply(lambda x: int(x.split(\" * \")[1]))\n",
    "smote_df = smote_df.drop([\"education_recruitment_cohort\"], axis=1)"
   ]
  },
  {
   "cell_type": "markdown",
   "metadata": {},
   "source": [
    "TODO size of dataset"
   ]
  },
  {
   "cell_type": "markdown",
   "metadata": {},
   "source": [
    "### New Model on Rebalanced Datasets\n",
    "After applying the SMOTE Method on the data, we can then train a new lightGBM model on this newly balanced data and see if there are differences in model performance based on this balancing. We compare the results below and find that the new model trained on the data post rebalancing does a better job predicting true positives than the original model and thus has greater recall and overall precision. So not only does data rebalancing help with making sure a model is less biased, it also helps the model actually fit and be able to predict the data outcomes more accurately. "
   ]
  },
  {
   "cell_type": "code",
   "execution_count": 20,
   "metadata": {},
   "outputs": [
    {
     "name": "stderr",
     "output_type": "stream",
     "text": [
      "Using categorical_feature in Dataset.\n"
     ]
    }
   ],
   "source": [
    "target_index = smote_df.columns.get_loc('is_promoted')\n",
    "data_split =  Split(smote_df,target_index , 0.9, 42, False, False, False, True)\n",
    "train_data, test_data = data_split.split()\n",
    "# splitting the training data\n",
    "x_train2, y_train2 = split_label(train_data)\n",
    "# splitting the test data\n",
    "x_test2, y_test2 = split_label(test_data)\n",
    "\n",
    "# LGBMClassifier Model\n",
    "clf2 = LGBMClassifier(n_estimators=50)\n",
    "model2 = clf2.fit(x_train2, y_train2, categorical_feature = categorical_cols)\n",
    "\n",
    "pred2 = model2.predict(x_test2)\n",
    "# reorders the columns to fit the second model since there is some rearranging\n",
    "pred_model1 = model.predict(x_test2.reindex(columns = x_test.columns))\n",
    "\n",
    "def conf_matrix(y,pred):\n",
    "    ((tn, fp), (fn, tp)) = metrics.confusion_matrix(y, pred)\n",
    "    ((tnr,fpr),(fnr,tpr))= metrics.confusion_matrix(y, pred, normalize='true')\n",
    "    return pd.DataFrame([[f'TP = {tp} ({tpr:1.2%})', f'FN = {fn} ({fnr:1.2%})'], \n",
    "                         [f'FP = {fp} ({fpr:1.2%})', f'TN = {tn} ({tnr:1.2%})']],\n",
    "                        index=['True', 'False'], \n",
    "                        columns=['Pred 1', 'Pred 0'])\n"
   ]
  },
  {
   "cell_type": "markdown",
   "metadata": {},
   "source": [
    "We compare the number of error that the model 1 that was trained before rebalancing and model 2 that was trained after rebalancing have and we find that overall there are less errors with model 2. "
   ]
  },
  {
   "cell_type": "code",
   "execution_count": 21,
   "metadata": {},
   "outputs": [
    {
     "name": "stdout",
     "output_type": "stream",
     "text": [
      "\n",
      "\u001b[95m\u001b[1mBEFORE: \u001b[0mnumber of test dataset instances: \u001b[1m\u001b[92m14923\u001b[0m\n",
      "      : number of errors on test dataset: \u001b[1m\u001b[91m628\u001b[0m\n",
      "\n",
      "\u001b[95m\u001b[1mAFTER:  \u001b[0mnumber of test dataset instances: \u001b[1m\u001b[92m14923\u001b[0m\n",
      "     :  number of errors on test dataset: \u001b[1m\u001b[91m367\u001b[0m\n",
      "\n"
     ]
    }
   ],
   "source": [
    "# Compare Results\n",
    "class color:\n",
    "   PURPLE = '\\033[95m'\n",
    "   CYAN = '\\033[96m'\n",
    "   DARKCYAN = '\\033[36m'\n",
    "   BLUE = '\\033[94m'\n",
    "   GREEN = '\\033[92m'\n",
    "   YELLOW = '\\033[93m'\n",
    "   RED = '\\033[91m'\n",
    "   BOLD = '\\033[1m'\n",
    "   UNDERLINE = '\\033[4m'\n",
    "   END = '\\033[0m'\n",
    "\n",
    "\n",
    "print('')\n",
    "print(color.PURPLE + color.BOLD + \"BEFORE: \" + color.END + \"number of test dataset instances: \" + color.BOLD   + color.GREEN + str(len(y_test2)) + color.END)\n",
    "print(\"      : number of errors on test dataset: \" + color.BOLD   + color.RED + str(sum(pred_model1 != y_test2)) + color.END)\n",
    "print('')\n",
    "print(color.PURPLE + color.BOLD + \"AFTER:  \" + color.END + \"number of test dataset instances: \" + color.BOLD   + color.GREEN + str(len(y_test2)) + color.END)\n",
    "print(\"     :  number of errors on test dataset: \" + color.BOLD  + color.RED + str(sum(pred2 != y_test2)) + color.END)\n",
    "print('')"
   ]
  },
  {
   "cell_type": "code",
   "execution_count": 22,
   "metadata": {},
   "outputs": [
    {
     "name": "stdout",
     "output_type": "stream",
     "text": [
      "-----------------------------------------------------------------------\n",
      "\n",
      "\u001b[94m\u001b[1mBEFORE: conf_matrix:\u001b[0m\n",
      "--------------------\n",
      "                  Pred 1               Pred 0\n",
      "True   TP = 250 (43.40%)    FN = 326 (56.60%)\n",
      "False   FP = 302 (2.10%)  TN = 14045 (97.90%)\n",
      "\n",
      "\u001b[94m\u001b[1mAFTER: conf_matrix:\u001b[0m\n",
      "-------------------\n",
      "                  Pred 1               Pred 0\n",
      "True   TP = 235 (40.80%)    FN = 341 (59.20%)\n",
      "False    FP = 26 (0.18%)  TN = 14321 (99.82%)\n",
      "-----------------------------------------------------------------------\n",
      "-----------------------------------------------------------------------\n",
      "\n"
     ]
    }
   ],
   "source": [
    "# compare conf matrices\n",
    "print(\"-----------------------------------------------------------------------\")\n",
    "print('')\n",
    "print(color.BLUE + color.BOLD +\"BEFORE: conf_matrix:\" + color.END)\n",
    "print(\"--------------------\")\n",
    "print(conf_matrix(y_test2,pred_model1) )\n",
    "print('')\n",
    "print(color.BLUE + color.BOLD +\"AFTER: conf_matrix:\" + color.END)\n",
    "print(\"-------------------\")\n",
    "print(conf_matrix(y_test2,pred2))\n",
    "print(\"-----------------------------------------------------------------------\")\n",
    "print(\"-----------------------------------------------------------------------\")\n",
    "print('')"
   ]
  },
  {
   "cell_type": "markdown",
   "metadata": {},
   "source": [
    "TODO call out which improved"
   ]
  },
  {
   "cell_type": "code",
   "execution_count": 23,
   "metadata": {},
   "outputs": [
    {
     "name": "stdout",
     "output_type": "stream",
     "text": [
      "\u001b[93m\u001b[1mBEFORE: classification_report:\u001b[0m\n",
      "--------------------------------\n",
      "              precision    recall  f1-score   support\n",
      "\n",
      "           0       0.98      0.98      0.98     14347\n",
      "           1       0.45      0.43      0.44       576\n",
      "\n",
      "    accuracy                           0.96     14923\n",
      "   macro avg       0.72      0.71      0.71     14923\n",
      "weighted avg       0.96      0.96      0.96     14923\n",
      "\n",
      "\u001b[93m\u001b[1mAFTER: classification_report:\u001b[0m\n",
      "--------------------------------\n",
      "              precision    recall  f1-score   support\n",
      "\n",
      "           0       0.98      1.00      0.99     14347\n",
      "           1       0.90      0.41      0.56       576\n",
      "\n",
      "    accuracy                           0.98     14923\n",
      "   macro avg       0.94      0.70      0.77     14923\n",
      "weighted avg       0.97      0.98      0.97     14923\n",
      "\n"
     ]
    }
   ],
   "source": [
    "# compare classification report\n",
    "print(color.YELLOW + color.BOLD +\"BEFORE: classification_report:\" + color.END)\n",
    "print(\"--------------------------------\")\n",
    "print(classification_report(y_test2, pred_model1)) \n",
    "print(color.YELLOW + color.BOLD +\"AFTER: classification_report:\" + color.END)\n",
    "print(\"--------------------------------\")\n",
    "print(classification_report(y_test2, pred2)) "
   ]
  },
  {
   "cell_type": "markdown",
   "metadata": {},
   "source": [
    "We return the dataframe columns to their original form after rebalancing the data. We no longer encode  We want to be able to run the data balance analysis again on the newly rebalanced data and see what the difference is from before applying SMOTE and after."
   ]
  },
  {
   "cell_type": "code",
   "execution_count": 24,
   "metadata": {},
   "outputs": [],
   "source": [
    "smote_df[categorical_cols] = ord_enc.inverse_transform(smote_df[categorical_cols]) "
   ]
  },
  {
   "cell_type": "markdown",
   "metadata": {},
   "source": [
    "The feature value measures before rebalancing don't indicate a lot of discrepancy in the outcome within specific features within a class since the values such as demographic parity which is on a 0 to 1 scale are very close to zero. After rebalancing, we still have similarly low values of these measures but there is not a significant improvement since they already started low."
   ]
  },
  {
   "cell_type": "markdown",
   "metadata": {},
   "source": [
    "todo feat balance comparison"
   ]
  },
  {
   "cell_type": "code",
   "execution_count": 25,
   "metadata": {},
   "outputs": [
    {
     "data": {
      "text/html": [
       "<div>\n",
       "<style scoped>\n",
       "    .dataframe tbody tr th:only-of-type {\n",
       "        vertical-align: middle;\n",
       "    }\n",
       "\n",
       "    .dataframe tbody tr th {\n",
       "        vertical-align: top;\n",
       "    }\n",
       "\n",
       "    .dataframe thead th {\n",
       "        text-align: right;\n",
       "    }\n",
       "</style>\n",
       "<table border=\"1\" class=\"dataframe\">\n",
       "  <thead>\n",
       "    <tr style=\"text-align: right;\">\n",
       "      <th></th>\n",
       "      <th>ClassA</th>\n",
       "      <th>ClassB</th>\n",
       "      <th>FeatureName</th>\n",
       "      <th>dp</th>\n",
       "      <th>pmi</th>\n",
       "      <th>sdc</th>\n",
       "      <th>ji</th>\n",
       "      <th>krc</th>\n",
       "      <th>llr</th>\n",
       "      <th>t_test</th>\n",
       "      <th>ttest_pvalue</th>\n",
       "    </tr>\n",
       "  </thead>\n",
       "  <tbody>\n",
       "    <tr>\n",
       "      <th>0</th>\n",
       "      <td>Bachelor's</td>\n",
       "      <td>Master's &amp; above</td>\n",
       "      <td>education</td>\n",
       "      <td>-0.016964</td>\n",
       "      <td>-0.188396</td>\n",
       "      <td>-0.004202</td>\n",
       "      <td>-0.004908</td>\n",
       "      <td>-4.957166</td>\n",
       "      <td>0.625158</td>\n",
       "      <td>-0.260358</td>\n",
       "      <td>0.409471</td>\n",
       "    </tr>\n",
       "    <tr>\n",
       "      <th>1</th>\n",
       "      <td>Bachelor's</td>\n",
       "      <td>Below Secondary</td>\n",
       "      <td>education</td>\n",
       "      <td>0.001259</td>\n",
       "      <td>0.015504</td>\n",
       "      <td>0.064587</td>\n",
       "      <td>0.070209</td>\n",
       "      <td>-31.829677</td>\n",
       "      <td>4.281150</td>\n",
       "      <td>-2.863668</td>\n",
       "      <td>0.051688</td>\n",
       "    </tr>\n",
       "    <tr>\n",
       "      <th>2</th>\n",
       "      <td>Master's &amp; above</td>\n",
       "      <td>Below Secondary</td>\n",
       "      <td>education</td>\n",
       "      <td>0.018223</td>\n",
       "      <td>0.203900</td>\n",
       "      <td>0.068788</td>\n",
       "      <td>0.075116</td>\n",
       "      <td>-26.872510</td>\n",
       "      <td>3.655992</td>\n",
       "      <td>-2.603310</td>\n",
       "      <td>0.060643</td>\n",
       "    </tr>\n",
       "    <tr>\n",
       "      <th>0</th>\n",
       "      <td>sourcing</td>\n",
       "      <td>other</td>\n",
       "      <td>recruitment_channel</td>\n",
       "      <td>0.003066</td>\n",
       "      <td>0.035499</td>\n",
       "      <td>-0.000410</td>\n",
       "      <td>-0.000477</td>\n",
       "      <td>1.576541</td>\n",
       "      <td>-0.234355</td>\n",
       "      <td>0.084912</td>\n",
       "      <td>0.470033</td>\n",
       "    </tr>\n",
       "    <tr>\n",
       "      <th>1</th>\n",
       "      <td>sourcing</td>\n",
       "      <td>referred</td>\n",
       "      <td>recruitment_channel</td>\n",
       "      <td>-0.035991</td>\n",
       "      <td>-0.343135</td>\n",
       "      <td>0.048845</td>\n",
       "      <td>0.053990</td>\n",
       "      <td>-18.710400</td>\n",
       "      <td>2.661363</td>\n",
       "      <td>-1.731014</td>\n",
       "      <td>0.112794</td>\n",
       "    </tr>\n",
       "  </tbody>\n",
       "</table>\n",
       "</div>"
      ],
      "text/plain": [
       "             ClassA            ClassB          FeatureName        dp  \\\n",
       "0        Bachelor's  Master's & above            education -0.016964   \n",
       "1        Bachelor's   Below Secondary            education  0.001259   \n",
       "2  Master's & above   Below Secondary            education  0.018223   \n",
       "0          sourcing             other  recruitment_channel  0.003066   \n",
       "1          sourcing          referred  recruitment_channel -0.035991   \n",
       "\n",
       "        pmi       sdc        ji        krc       llr    t_test  ttest_pvalue  \n",
       "0 -0.188396 -0.004202 -0.004908  -4.957166  0.625158 -0.260358      0.409471  \n",
       "1  0.015504  0.064587  0.070209 -31.829677  4.281150 -2.863668      0.051688  \n",
       "2  0.203900  0.068788  0.075116 -26.872510  3.655992 -2.603310      0.060643  \n",
       "0  0.035499 -0.000410 -0.000477   1.576541 -0.234355  0.084912      0.470033  \n",
       "1 -0.343135  0.048845  0.053990 -18.710400  2.661363 -1.731014      0.112794  "
      ]
     },
     "execution_count": 25,
     "metadata": {},
     "output_type": "execute_result"
    }
   ],
   "source": [
    "feat_measures1.head()"
   ]
  },
  {
   "cell_type": "code",
   "execution_count": 26,
   "metadata": {
    "scrolled": true
   },
   "outputs": [
    {
     "data": {
      "text/html": [
       "<div>\n",
       "<style scoped>\n",
       "    .dataframe tbody tr th:only-of-type {\n",
       "        vertical-align: middle;\n",
       "    }\n",
       "\n",
       "    .dataframe tbody tr th {\n",
       "        vertical-align: top;\n",
       "    }\n",
       "\n",
       "    .dataframe thead th {\n",
       "        text-align: right;\n",
       "    }\n",
       "</style>\n",
       "<table border=\"1\" class=\"dataframe\">\n",
       "  <thead>\n",
       "    <tr style=\"text-align: right;\">\n",
       "      <th></th>\n",
       "      <th>ClassA</th>\n",
       "      <th>ClassB</th>\n",
       "      <th>FeatureName</th>\n",
       "      <th>dp</th>\n",
       "      <th>pmi</th>\n",
       "      <th>sdc</th>\n",
       "      <th>ji</th>\n",
       "      <th>krc</th>\n",
       "      <th>llr</th>\n",
       "      <th>t_test</th>\n",
       "      <th>ttest_pvalue</th>\n",
       "    </tr>\n",
       "  </thead>\n",
       "  <tbody>\n",
       "    <tr>\n",
       "      <th>0</th>\n",
       "      <td>Bachelor's</td>\n",
       "      <td>Master's &amp; above</td>\n",
       "      <td>education</td>\n",
       "      <td>0.015560</td>\n",
       "      <td>0.298522</td>\n",
       "      <td>0.013946</td>\n",
       "      <td>0.015359</td>\n",
       "      <td>0.114227</td>\n",
       "      <td>0.298522</td>\n",
       "      <td>0.0</td>\n",
       "      <td>0.5</td>\n",
       "    </tr>\n",
       "    <tr>\n",
       "      <th>1</th>\n",
       "      <td>Bachelor's</td>\n",
       "      <td>Below Secondary</td>\n",
       "      <td>education</td>\n",
       "      <td>0.049595</td>\n",
       "      <td>1.729391</td>\n",
       "      <td>0.044451</td>\n",
       "      <td>0.047445</td>\n",
       "      <td>0.364080</td>\n",
       "      <td>1.729391</td>\n",
       "      <td>0.0</td>\n",
       "      <td>0.5</td>\n",
       "    </tr>\n",
       "    <tr>\n",
       "      <th>2</th>\n",
       "      <td>Master's &amp; above</td>\n",
       "      <td>Below Secondary</td>\n",
       "      <td>education</td>\n",
       "      <td>0.034035</td>\n",
       "      <td>1.430869</td>\n",
       "      <td>0.030505</td>\n",
       "      <td>0.032087</td>\n",
       "      <td>0.249853</td>\n",
       "      <td>1.430869</td>\n",
       "      <td>0.0</td>\n",
       "      <td>0.5</td>\n",
       "    </tr>\n",
       "    <tr>\n",
       "      <th>0</th>\n",
       "      <td>sourcing</td>\n",
       "      <td>other</td>\n",
       "      <td>recruitment_channel</td>\n",
       "      <td>0.002674</td>\n",
       "      <td>0.056768</td>\n",
       "      <td>0.002396</td>\n",
       "      <td>0.002612</td>\n",
       "      <td>0.019628</td>\n",
       "      <td>0.056768</td>\n",
       "      <td>0.0</td>\n",
       "      <td>0.5</td>\n",
       "    </tr>\n",
       "    <tr>\n",
       "      <th>1</th>\n",
       "      <td>sourcing</td>\n",
       "      <td>referred</td>\n",
       "      <td>recruitment_channel</td>\n",
       "      <td>0.026959</td>\n",
       "      <td>0.812903</td>\n",
       "      <td>0.024163</td>\n",
       "      <td>0.025756</td>\n",
       "      <td>0.197905</td>\n",
       "      <td>0.812903</td>\n",
       "      <td>0.0</td>\n",
       "      <td>0.5</td>\n",
       "    </tr>\n",
       "  </tbody>\n",
       "</table>\n",
       "</div>"
      ],
      "text/plain": [
       "             ClassA            ClassB          FeatureName        dp  \\\n",
       "0        Bachelor's  Master's & above            education  0.015560   \n",
       "1        Bachelor's   Below Secondary            education  0.049595   \n",
       "2  Master's & above   Below Secondary            education  0.034035   \n",
       "0          sourcing             other  recruitment_channel  0.002674   \n",
       "1          sourcing          referred  recruitment_channel  0.026959   \n",
       "\n",
       "        pmi       sdc        ji       krc       llr  t_test  ttest_pvalue  \n",
       "0  0.298522  0.013946  0.015359  0.114227  0.298522     0.0           0.5  \n",
       "1  1.729391  0.044451  0.047445  0.364080  1.729391     0.0           0.5  \n",
       "2  1.430869  0.030505  0.032087  0.249853  1.430869     0.0           0.5  \n",
       "0  0.056768  0.002396  0.002612  0.019628  0.056768     0.0           0.5  \n",
       "1  0.812903  0.024163  0.025756  0.197905  0.812903     0.0           0.5  "
      ]
     },
     "execution_count": 26,
     "metadata": {},
     "output_type": "execute_result"
    }
   ],
   "source": [
    "feature_measures.measures(smote_df).head()"
   ]
  },
  {
   "cell_type": "markdown",
   "metadata": {},
   "source": [
    "When we compare the distribution measures before and after rebalancing, we find that the data is much more evenly distributed (close to the uniform distribution) for the two columns of interest after rebalancing the data using the SMOTE algorithm"
   ]
  },
  {
   "cell_type": "code",
   "execution_count": 27,
   "metadata": {
    "scrolled": true
   },
   "outputs": [
    {
     "data": {
      "text/html": [
       "<div>\n",
       "<style scoped>\n",
       "    .dataframe tbody tr th:only-of-type {\n",
       "        vertical-align: middle;\n",
       "    }\n",
       "\n",
       "    .dataframe tbody tr th {\n",
       "        vertical-align: top;\n",
       "    }\n",
       "\n",
       "    .dataframe thead th {\n",
       "        text-align: right;\n",
       "    }\n",
       "</style>\n",
       "<table border=\"1\" class=\"dataframe\">\n",
       "  <thead>\n",
       "    <tr style=\"text-align: right;\">\n",
       "      <th></th>\n",
       "      <th>FeatureName</th>\n",
       "      <th>kl_divergence</th>\n",
       "      <th>js_dist</th>\n",
       "      <th>wasserstein_dist</th>\n",
       "      <th>inf_norm_dist</th>\n",
       "      <th>total_variation_dist</th>\n",
       "      <th>chi_sq_p_value</th>\n",
       "      <th>chi_sq_stat</th>\n",
       "    </tr>\n",
       "  </thead>\n",
       "  <tbody>\n",
       "    <tr>\n",
       "      <th>0</th>\n",
       "      <td>education</td>\n",
       "      <td>0.433445</td>\n",
       "      <td>0.358342</td>\n",
       "      <td>0.235238</td>\n",
       "      <td>0.352857</td>\n",
       "      <td>0.352857</td>\n",
       "      <td>0.0</td>\n",
       "      <td>30235.985340</td>\n",
       "    </tr>\n",
       "    <tr>\n",
       "      <th>1</th>\n",
       "      <td>recruitment_channel</td>\n",
       "      <td>0.326923</td>\n",
       "      <td>0.315666</td>\n",
       "      <td>0.208217</td>\n",
       "      <td>0.312326</td>\n",
       "      <td>0.312326</td>\n",
       "      <td>0.0</td>\n",
       "      <td>20356.403343</td>\n",
       "    </tr>\n",
       "  </tbody>\n",
       "</table>\n",
       "</div>"
      ],
      "text/plain": [
       "           FeatureName  kl_divergence   js_dist  wasserstein_dist  \\\n",
       "0            education       0.433445  0.358342          0.235238   \n",
       "1  recruitment_channel       0.326923  0.315666          0.208217   \n",
       "\n",
       "   inf_norm_dist  total_variation_dist  chi_sq_p_value   chi_sq_stat  \n",
       "0       0.352857              0.352857             0.0  30235.985340  \n",
       "1       0.312326              0.312326             0.0  20356.403343  "
      ]
     },
     "execution_count": 27,
     "metadata": {},
     "output_type": "execute_result"
    }
   ],
   "source": [
    "#before\n",
    "dist_measures1"
   ]
  },
  {
   "cell_type": "code",
   "execution_count": 28,
   "metadata": {
    "scrolled": true
   },
   "outputs": [
    {
     "data": {
      "text/html": [
       "<div>\n",
       "<style scoped>\n",
       "    .dataframe tbody tr th:only-of-type {\n",
       "        vertical-align: middle;\n",
       "    }\n",
       "\n",
       "    .dataframe tbody tr th {\n",
       "        vertical-align: top;\n",
       "    }\n",
       "\n",
       "    .dataframe thead th {\n",
       "        text-align: right;\n",
       "    }\n",
       "</style>\n",
       "<table border=\"1\" class=\"dataframe\">\n",
       "  <thead>\n",
       "    <tr style=\"text-align: right;\">\n",
       "      <th></th>\n",
       "      <th>FeatureName</th>\n",
       "      <th>kl_divergence</th>\n",
       "      <th>js_dist</th>\n",
       "      <th>wasserstein_dist</th>\n",
       "      <th>inf_norm_dist</th>\n",
       "      <th>total_variation_dist</th>\n",
       "      <th>chi_sq_p_value</th>\n",
       "      <th>chi_sq_stat</th>\n",
       "    </tr>\n",
       "  </thead>\n",
       "  <tbody>\n",
       "    <tr>\n",
       "      <th>0</th>\n",
       "      <td>education</td>\n",
       "      <td>0.0</td>\n",
       "      <td>0.0</td>\n",
       "      <td>0.0</td>\n",
       "      <td>0.0</td>\n",
       "      <td>0.0</td>\n",
       "      <td>1.0</td>\n",
       "      <td>0.0</td>\n",
       "    </tr>\n",
       "    <tr>\n",
       "      <th>1</th>\n",
       "      <td>recruitment_channel</td>\n",
       "      <td>0.0</td>\n",
       "      <td>0.0</td>\n",
       "      <td>0.0</td>\n",
       "      <td>0.0</td>\n",
       "      <td>0.0</td>\n",
       "      <td>1.0</td>\n",
       "      <td>0.0</td>\n",
       "    </tr>\n",
       "  </tbody>\n",
       "</table>\n",
       "</div>"
      ],
      "text/plain": [
       "           FeatureName  kl_divergence  js_dist  wasserstein_dist  \\\n",
       "0            education            0.0      0.0               0.0   \n",
       "1  recruitment_channel            0.0      0.0               0.0   \n",
       "\n",
       "   inf_norm_dist  total_variation_dist  chi_sq_p_value  chi_sq_stat  \n",
       "0            0.0                   0.0             1.0          0.0  \n",
       "1            0.0                   0.0             1.0          0.0  "
      ]
     },
     "execution_count": 28,
     "metadata": {},
     "output_type": "execute_result"
    }
   ],
   "source": [
    "#after\n",
    "dist_measures.measures(smote_df)\n"
   ]
  },
  {
   "cell_type": "markdown",
   "metadata": {},
   "source": [
    "The Atkinson index which gives us the overall notion of inequality before and after rebalancing shows us that in order to get a perfectly balanced dataset, we no longer need to forgo any of the data."
   ]
  },
  {
   "cell_type": "code",
   "execution_count": 29,
   "metadata": {},
   "outputs": [
    {
     "data": {
      "text/html": [
       "<div>\n",
       "<style scoped>\n",
       "    .dataframe tbody tr th:only-of-type {\n",
       "        vertical-align: middle;\n",
       "    }\n",
       "\n",
       "    .dataframe tbody tr th {\n",
       "        vertical-align: top;\n",
       "    }\n",
       "\n",
       "    .dataframe thead th {\n",
       "        text-align: right;\n",
       "    }\n",
       "</style>\n",
       "<table border=\"1\" class=\"dataframe\">\n",
       "  <thead>\n",
       "    <tr style=\"text-align: right;\">\n",
       "      <th></th>\n",
       "      <th>theil_l_index</th>\n",
       "      <th>theil_t_index</th>\n",
       "      <th>atkinson_index</th>\n",
       "    </tr>\n",
       "  </thead>\n",
       "  <tbody>\n",
       "    <tr>\n",
       "      <th>0</th>\n",
       "      <td>1.60865</td>\n",
       "      <td>0.760961</td>\n",
       "      <td>0.799842</td>\n",
       "    </tr>\n",
       "  </tbody>\n",
       "</table>\n",
       "</div>"
      ],
      "text/plain": [
       "   theil_l_index  theil_t_index  atkinson_index\n",
       "0        1.60865       0.760961        0.799842"
      ]
     },
     "execution_count": 29,
     "metadata": {},
     "output_type": "execute_result"
    }
   ],
   "source": [
    "#before\n",
    "agg_measures1"
   ]
  },
  {
   "cell_type": "code",
   "execution_count": 30,
   "metadata": {},
   "outputs": [
    {
     "data": {
      "text/html": [
       "<div>\n",
       "<style scoped>\n",
       "    .dataframe tbody tr th:only-of-type {\n",
       "        vertical-align: middle;\n",
       "    }\n",
       "\n",
       "    .dataframe tbody tr th {\n",
       "        vertical-align: top;\n",
       "    }\n",
       "\n",
       "    .dataframe thead th {\n",
       "        text-align: right;\n",
       "    }\n",
       "</style>\n",
       "<table border=\"1\" class=\"dataframe\">\n",
       "  <thead>\n",
       "    <tr style=\"text-align: right;\">\n",
       "      <th></th>\n",
       "      <th>theil_l_index</th>\n",
       "      <th>theil_t_index</th>\n",
       "      <th>atkinson_index</th>\n",
       "    </tr>\n",
       "  </thead>\n",
       "  <tbody>\n",
       "    <tr>\n",
       "      <th>0</th>\n",
       "      <td>0.0</td>\n",
       "      <td>0.0</td>\n",
       "      <td>0.0</td>\n",
       "    </tr>\n",
       "  </tbody>\n",
       "</table>\n",
       "</div>"
      ],
      "text/plain": [
       "   theil_l_index  theil_t_index  atkinson_index\n",
       "0            0.0            0.0             0.0"
      ]
     },
     "execution_count": 30,
     "metadata": {},
     "output_type": "execute_result"
    }
   ],
   "source": [
    "#after\n",
    "agg_measures.measures(smote_df)"
   ]
  },
  {
   "cell_type": "code",
   "execution_count": 34,
   "metadata": {},
   "outputs": [],
   "source": [
    "model2 = clf.fit(x_train, y_train)\n",
    "predictions2 = model2.predict(x_test)\n",
    "#ErrorAnalysisDashboard(dataset=x_test, true_y=y_test, features=x_test.columns, pred_y=predictions2, categorical_features = categorical_cols)"
   ]
  },
  {
   "cell_type": "markdown",
   "metadata": {},
   "source": [
    "label the top as before and the bottom as after\n",
    "highlight underneath the cohort\n",
    "lower fill (meaning )"
   ]
  },
  {
   "cell_type": "markdown",
   "metadata": {},
   "source": [
    "![error_analysis2](images/error_analysis2.png)"
   ]
  },
  {
   "cell_type": "markdown",
   "metadata": {},
   "source": []
  }
 ],
 "metadata": {
  "interpreter": {
   "hash": "25553ff2aeabf811aa6253044d4e27aa04c210fdd185f9aa4a44c307365de193"
  },
  "kernelspec": {
   "display_name": "Python 3",
   "language": "python",
   "name": "python3"
  },
  "language_info": {
   "codemirror_mode": {
    "name": "ipython",
    "version": 3
   },
   "file_extension": ".py",
   "mimetype": "text/x-python",
   "name": "python",
   "nbconvert_exporter": "python",
   "pygments_lexer": "ipython3",
   "version": "3.8.12"
  }
 },
 "nbformat": 4,
 "nbformat_minor": 2
}
