{
 "cells": [
  {
   "cell_type": "code",
   "execution_count": null,
   "id": "7e797012",
   "metadata": {},
   "outputs": [],
   "source": [
    "import sys\n",
    "sys.path.append('../../ErrorsMitigationAPI/')\n",
    "\n",
    "import numpy as np\n",
    "import pandas as pd\n",
    "from errorsmitigation.dataprocessing import DataSample\n",
    "\n",
    "from IPython.core.interactiveshell import InteractiveShell\n",
    "InteractiveShell.ast_node_interactivity = \"all\""
   ]
  },
  {
   "cell_type": "code",
   "execution_count": null,
   "id": "3b1d4475",
   "metadata": {},
   "outputs": [],
   "source": [
    "data_dir = '../datasets/hr_promotion'\n",
    "dataset =  pd.read_csv(data_dir + '/train.csv').drop(['employee_id'], axis=1)\n",
    "dataset.head()\n",
    "dataset.shape"
   ]
  },
  {
   "cell_type": "code",
   "execution_count": null,
   "id": "12d21c35",
   "metadata": {},
   "outputs": [],
   "source": [
    "# # Parameters\n",
    "\n",
    "#         dataset - Panda Data Frame. \n",
    "#         target - The target column name or index (zero base)\n",
    "#         sample_size – The data sample  size\n",
    "#         categorical_features \n",
    "#         drop_null\n",
    "#         drop_duplicates\n",
    "#         stratify - array-like, default=None.  If not None, data is split in a stratified fashion, using this as the class labels.\n",
    "    \n",
    "# data_sample =  DataSample(dataset, 'is_promoted', 0.2, True)\n",
    "\n",
    "target_index = dataset.columns.get_loc('is_promoted')\n",
    "data_sample =  DataSample(dataset, target_index, 0.2, False, False, False, True)\n",
    "\n",
    "random_sample = data_sample.RandomSample()\n",
    "random_sample.shape\n",
    "random_sample.head()\n"
   ]
  },
  {
   "cell_type": "code",
   "execution_count": null,
   "id": "c5b04d55",
   "metadata": {},
   "outputs": [],
   "source": [
    "# stratify ON\n",
    "print('Stratify ON')\n",
    "\n",
    "data_sample =  DataSample(dataset,target_index, 0.2, False, False, False, True)\n",
    "random_sample = data_sample.RandomSample()\n",
    "\n",
    "df_random = pd.DataFrame(random_sample)\n",
    "print('Random data sample % of target (1 over 0): ' + str(df_random.is_promoted.value_counts()[1] /\n",
    "df_random.is_promoted.value_counts()[0]))\n",
    "\n",
    "df = pd.DataFrame(dataset)\n",
    "print('Test dataset % of target (1 over 0): ' + str(df.is_promoted.value_counts()[1] /\n",
    "df.is_promoted.value_counts()[0]))\n"
   ]
  },
  {
   "cell_type": "code",
   "execution_count": null,
   "id": "865a8228",
   "metadata": {},
   "outputs": [],
   "source": [
    "# stratify OFF\n",
    "print('Stratify OFF')\n",
    "\n",
    "data_sample =  DataSample(dataset, target_index, 0.2, False, False, False, False)\n",
    "random_sample = data_sample.RandomSample()\n",
    "\n",
    "df_random = pd.DataFrame(random_sample)\n",
    "print('Random data sample % of target (1 over 0): ' + str(df_random.is_promoted.value_counts()[1] /\n",
    "df_random.is_promoted.value_counts()[0]))\n",
    "\n",
    "df = pd.DataFrame(dataset)\n",
    "print('Test dataset % of target (1 over 0): ' + str(df.is_promoted.value_counts()[1] /\n",
    "df.is_promoted.value_counts()[0]))\n",
    "\n"
   ]
  },
  {
   "cell_type": "code",
   "execution_count": null,
   "id": "c0476be2",
   "metadata": {},
   "outputs": [],
   "source": []
  }
 ],
 "metadata": {
  "kernelspec": {
   "display_name": "Python 3 (ipykernel)",
   "language": "python",
   "name": "python3"
  },
  "language_info": {
   "codemirror_mode": {
    "name": "ipython",
    "version": 3
   },
   "file_extension": ".py",
   "mimetype": "text/x-python",
   "name": "python",
   "nbconvert_exporter": "python",
   "pygments_lexer": "ipython3",
   "version": "3.8.11"
  }
 },
 "nbformat": 4,
 "nbformat_minor": 5
}
