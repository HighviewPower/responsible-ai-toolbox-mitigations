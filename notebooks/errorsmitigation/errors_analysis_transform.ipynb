{
 "cells": [
  {
   "cell_type": "code",
   "execution_count": null,
   "id": "4e3bee79",
   "metadata": {},
   "outputs": [
    {
     "ename": "ModuleNotFoundError",
     "evalue": "No module named 'imblearn'",
     "output_type": "error",
     "traceback": [
      "\u001b[1;31m---------------------------------------------------------------------------\u001b[0m",
      "\u001b[1;31mModuleNotFoundError\u001b[0m                       Traceback (most recent call last)",
      "\u001b[1;32m~\\AppData\\Local\\Temp/ipykernel_22464/9092854.py\u001b[0m in \u001b[0;36m<module>\u001b[1;34m\u001b[0m\n\u001b[0;32m      3\u001b[0m \u001b[1;33m\u001b[0m\u001b[0m\n\u001b[0;32m      4\u001b[0m \u001b[1;32mimport\u001b[0m \u001b[0mpandas\u001b[0m \u001b[1;32mas\u001b[0m \u001b[0mpd\u001b[0m\u001b[1;33m\u001b[0m\u001b[1;33m\u001b[0m\u001b[0m\n\u001b[1;32m----> 5\u001b[1;33m \u001b[1;32mfrom\u001b[0m \u001b[0merrorsmitigation\u001b[0m\u001b[1;33m.\u001b[0m\u001b[0mdataprocessing\u001b[0m \u001b[1;32mimport\u001b[0m \u001b[0mDataTransformer\u001b[0m\u001b[1;33m\u001b[0m\u001b[1;33m\u001b[0m\u001b[0m\n\u001b[0m\u001b[0;32m      6\u001b[0m \u001b[1;33m\u001b[0m\u001b[0m\n\u001b[0;32m      7\u001b[0m \u001b[1;31m# from IPython.core.interactiveshell import InteractiveShell\u001b[0m\u001b[1;33m\u001b[0m\u001b[1;33m\u001b[0m\u001b[1;33m\u001b[0m\u001b[0m\n",
      "\u001b[1;32mc:\\Users\\Akshara\\Desktop\\RAI\\ResponsibleAIToolbox-Mitigation\\errorsmitigation\\dataprocessing\\__init__.py\u001b[0m in \u001b[0;36m<module>\u001b[1;34m\u001b[0m\n\u001b[0;32m      6\u001b[0m \u001b[1;32mfrom\u001b[0m \u001b[1;33m.\u001b[0m\u001b[0m_data_random_sample\u001b[0m \u001b[1;32mimport\u001b[0m \u001b[0mDataSample\u001b[0m\u001b[1;33m\u001b[0m\u001b[1;33m\u001b[0m\u001b[0m\n\u001b[0;32m      7\u001b[0m \u001b[1;32mfrom\u001b[0m \u001b[1;33m.\u001b[0m\u001b[0m_data_transformer\u001b[0m \u001b[1;32mimport\u001b[0m \u001b[0mDataTransformer\u001b[0m\u001b[1;33m\u001b[0m\u001b[1;33m\u001b[0m\u001b[0m\n\u001b[1;32m----> 8\u001b[1;33m \u001b[1;32mfrom\u001b[0m \u001b[1;33m.\u001b[0m\u001b[0m_data_rebalance\u001b[0m \u001b[1;32mimport\u001b[0m \u001b[0mDataRebalance\u001b[0m\u001b[1;33m\u001b[0m\u001b[1;33m\u001b[0m\u001b[0m\n\u001b[0m\u001b[0;32m      9\u001b[0m \u001b[1;33m\u001b[0m\u001b[0m\n\u001b[0;32m     10\u001b[0m \u001b[0m__all__\u001b[0m \u001b[1;33m=\u001b[0m \u001b[1;33m[\u001b[0m\u001b[1;34m\"DataSplit\"\u001b[0m\u001b[1;33m,\u001b[0m \u001b[1;34m\"DataSample\"\u001b[0m\u001b[1;33m,\u001b[0m \u001b[1;34m\"DataTransformer\"\u001b[0m\u001b[1;33m,\u001b[0m \u001b[1;34m\"DataRebalance\"\u001b[0m\u001b[1;33m]\u001b[0m\u001b[1;33m\u001b[0m\u001b[1;33m\u001b[0m\u001b[0m\n",
      "\u001b[1;32mc:\\Users\\Akshara\\Desktop\\RAI\\ResponsibleAIToolbox-Mitigation\\errorsmitigation\\dataprocessing\\_data_rebalance.py\u001b[0m in \u001b[0;36m<module>\u001b[1;34m\u001b[0m\n\u001b[0;32m      3\u001b[0m \u001b[1;33m\u001b[0m\u001b[0m\n\u001b[0;32m      4\u001b[0m \u001b[1;32mimport\u001b[0m \u001b[0mnumpy\u001b[0m \u001b[1;32mas\u001b[0m \u001b[0mnp\u001b[0m\u001b[1;33m\u001b[0m\u001b[1;33m\u001b[0m\u001b[0m\n\u001b[1;32m----> 5\u001b[1;33m \u001b[1;32mfrom\u001b[0m \u001b[0mimblearn\u001b[0m\u001b[1;33m.\u001b[0m\u001b[0mcombine\u001b[0m \u001b[1;32mimport\u001b[0m \u001b[0mSMOTETomek\u001b[0m\u001b[1;33m\u001b[0m\u001b[1;33m\u001b[0m\u001b[0m\n\u001b[0m\u001b[0;32m      6\u001b[0m \u001b[1;32mfrom\u001b[0m \u001b[0mimblearn\u001b[0m\u001b[1;33m.\u001b[0m\u001b[0mover_sampling\u001b[0m \u001b[1;32mimport\u001b[0m \u001b[0mSMOTE\u001b[0m\u001b[1;33m\u001b[0m\u001b[1;33m\u001b[0m\u001b[0m\n\u001b[0;32m      7\u001b[0m \u001b[1;32mfrom\u001b[0m \u001b[0msklearn\u001b[0m\u001b[1;33m.\u001b[0m\u001b[0mneighbors\u001b[0m \u001b[1;32mimport\u001b[0m \u001b[0mNearestNeighbors\u001b[0m\u001b[1;33m\u001b[0m\u001b[1;33m\u001b[0m\u001b[0m\n",
      "\u001b[1;31mModuleNotFoundError\u001b[0m: No module named 'imblearn'"
     ]
    }
   ],
   "source": [
    "import sys\n",
    "sys.path.append('../../../ResponsibleAIToolbox-Mitigation/')\n",
    "\n",
    "import pandas as pd\n",
    "from errorsmitigation.dataprocessing import DataTransformer\n",
    "\n",
    "# from IPython.core.interactiveshell import InteractiveShell\n",
    "# InteractiveShell.ast_node_interactivity = \"all\"\n",
    "\n",
    "# print(__doc__)"
   ]
  },
  {
   "cell_type": "code",
   "execution_count": null,
   "id": "fc85b7e4",
   "metadata": {},
   "outputs": [],
   "source": [
    "data_dir = '../datasets/hr_promotion'\n",
    "dataset =  pd.read_csv(data_dir + '/train.csv').drop(['employee_id'], axis=1)\n",
    "seed =42\n",
    "\n",
    "dataset.head()"
   ]
  },
  {
   "cell_type": "code",
   "execution_count": null,
   "id": "b7b70702",
   "metadata": {
    "scrolled": false
   },
   "outputs": [],
   "source": [
    "# # Parameters\n",
    "\n",
    "# dataset - A Panda Data Frame representing the data to transform. \n",
    "# target – A string representing the name of the label column, or the label column integer index (zero base)\n",
    "\n",
    "# transformer_type - Enum object for available transformations. \n",
    "    # StandardScaler: sklearn.preprocessing.StandardScaler  \n",
    "        # Standardize features by removing the mean and scaling to unit variance.   \n",
    "        # z = (x - u) / s (where u is the mean of the training samples or zero if with_mean=False, and s is the standard \n",
    "        # deviation of the training samples or one if with_std=False). \n",
    "    # MinMaxScaler: sklearn.preprocessing.MinMaxScaler \n",
    "        # Transform features by scaling each feature to a given range. This estimator scales and translates each feature \n",
    "        # individually such that it is in the given range on the training set, e.g. between zero and one.  \n",
    "    # RobustScaler: sklearn.preprocessing.RobustScaler \n",
    "        # Scale features using statistics that are robust to outliers. This Scaler removes the median and scales the data \n",
    "        # according to the quantile range (defaults to IQR: Interquartile Range). The IQR is the range between the 1st \n",
    "        # quartile (25th quantile) and the 3rd quartile (75th quantile).  \n",
    "    # PowerTransformer: sklearn.preprocessing.PowerTransformer \n",
    "        # Apply a power transform feature-wise to make data more Gaussian-like. This is useful for modeling issues related \n",
    "        # to heteroscedasticity (non-constant variance), or other situations where normality is desired. \n",
    "        # Box-Cox transform requires input data to be strictly positive, while Yeo-Johnson supports both positive and negative data.  \n",
    "    # QuantileTransformer: sklearn.preprocessing.QuantileTransformer \n",
    "        # Transform features using quantiles information. This method transforms the features to follow a uniform or a normal \n",
    "        # distribution. Therefore, for a given feature, this transformation tends to spread out the most frequent values. \n",
    "        # It also reduces the impact of (marginal) outliers: this is therefore a robust preprocessing scheme.  \n",
    "    # Normaliser: sklearn.preprocessing.Normalizer \n",
    "        # Normalize samples individually to unit norm. Each sample (i.e. each row of the data matrix) with at least one \n",
    "        # nonzero component is rescaled independently of other samples so that its norm (l1, l2 or inf) equals one. \n",
    "        \n",
    "#  – List of the features to transform. The list could be the indexes or the names of the features. \n",
    "\n",
    "# random_state - Control the randomization of the algorithm. \n",
    "    # ‘None’: the random number generator is the RandomState instance used by np.random.\n",
    "\n",
    "# method - {‘yeo-johnson’, ‘box-cox’}, default=’yeo-johnson’  \n",
    "\n",
    "# output_distribution - {‘uniform’, ‘normal’}, Marginal distribution for the transformed data. The choices are \n",
    "    # ‘uniform’ (default) or ‘normal’.\n",
    "    \n",
    "# transform_features = ['department', 'region', 'education','gender', 'recruitment_channel']\n",
    "# transform_features = [6,7,8]\n",
    "\n",
    "\n",
    "target_index = dataset.columns.get_loc('is_promoted')\n",
    "\n",
    "# standard_scaler =  DataTransformer(dataset, 'is_promoted',DataTransformer.TransformerType.StandardScaler, None, seed)\n",
    "standard_scaler =  DataTransformer(dataset, target_index, DataTransformer.TransformerType.StandardScaler, None, seed)\n",
    "standard_scaler.Transform()\n",
    "print('StandardScaler transformer')\n",
    "print('')\n",
    "\n",
    "minmax_scaler =  DataTransformer(dataset, 'is_promoted', DataTransformer.TransformerType.MinMaxScaler, None, seed)\n",
    "minmax_scaler.Transform()\n",
    "print('MinMaxScaler transformer')\n",
    "print('')\n",
    "\n",
    "robust_scaler =  DataTransformer(dataset, 'is_promoted', DataTransformer.TransformerType.RobustScaler, None, seed)\n",
    "robust_scaler.Transform()\n",
    "print('RobustScaler transformer')\n",
    "print('')\n",
    "\n",
    "power_transformer =  DataTransformer(dataset, 'is_promoted', DataTransformer.TransformerType.PowerTransformer, None, seed)\n",
    "power_transformer.Transform()\n",
    "print('PowerTransformer transformer')\n",
    "print('')\n",
    "\n",
    "quantile_transformer =  DataTransformer(dataset, 'is_promoted', DataTransformer.TransformerType.QuantileTransformer, None, seed)\n",
    "quantile_transformer.Transform()\n",
    "print('QuantileTransformer transformer')\n",
    "print('')\n",
    "\n",
    "normaliser =  DataTransformer(dataset, 'is_promoted', DataTransformer.TransformerType.Normalizer, None, seed)\n",
    "normaliser.Transform()\n",
    "print('Normalizer transformer')\n",
    "print('')\n"
   ]
  },
  {
   "cell_type": "code",
   "execution_count": null,
   "id": "43031c3a",
   "metadata": {},
   "outputs": [],
   "source": [
    "\n",
    "target_index = dataset.columns.get_loc('is_promoted')\n",
    "\n",
    "# transform all data\n",
    "standard_scaler =  DataTransformer(dataset, 'is_promoted',DataTransformer.TransformerType.StandardScaler, None, seed)\n",
    "standard_scaler.Transform()\n",
    "print('StandardScaler transformer')\n",
    "print('')\n",
    "\n",
    "# Transform specific features\n",
    "transform_features = ['department', 'region']\n",
    "# transform_features = [0,1]\n",
    "\n",
    "standard_scaler =  DataTransformer(dataset, target_index,DataTransformer.TransformerType.StandardScaler, transform_features, seed)\n",
    "standard_scaler.Transform()\n",
    "print('StandardScaler transformer for: ' + str(transform_features))\n",
    "print('')\n"
   ]
  },
  {
   "cell_type": "code",
   "execution_count": null,
   "id": "193967f5",
   "metadata": {},
   "outputs": [],
   "source": []
  }
 ],
 "metadata": {
  "kernelspec": {
   "display_name": "Python 3 (ipykernel)",
   "language": "python",
   "name": "python3"
  },
  "language_info": {
   "codemirror_mode": {
    "name": "ipython",
    "version": 3
   },
   "file_extension": ".py",
   "mimetype": "text/x-python",
   "name": "python",
   "nbconvert_exporter": "python",
   "pygments_lexer": "ipython3",
   "version": "3.8.5"
  }
 },
 "nbformat": 4,
 "nbformat_minor": 5
}
