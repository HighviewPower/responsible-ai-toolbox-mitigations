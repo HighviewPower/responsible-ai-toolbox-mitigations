{
 "cells": [
  {
   "cell_type": "markdown",
   "metadata": {},
   "source": [
    "## Python Data Balance Analysis"
   ]
  },
  {
   "cell_type": "markdown",
   "metadata": {},
   "source": [
    "## Context\n",
    "Data Balance Analysis is relevant for overall understanding of datasets, but it becomes essential when thinking about building Machine Learning models in a responsible way, especially in term of fairness. It is all too easy to build an ML Model that produced biased results for subsets of the population by training or testing the model of biased ground truth data. There are multiple case studies of biased models assisting in granting loans healthcare, recruitment opportunities and many other decision making tasks. In most of these examples, the data from which these models are trained was the common issue. These findings emphasize how important it is for model creators and auditors to analysis data balance: to measure training data across various sub-populations and ensure the data has good coverage and a balanced representation of labels across sensitive categories adn category combinations and to check that test data is representative of the target population\n",
    "\n",
    "In summary, Data Balance Analysis when used a step for building ML models has the following benefits: \n",
    "- reduces the risk of unbalanced models, ensuring service fairness and reducing the costs of ML building by identifying data representation gaps early on and prompting data scientists to seek mitigation steps before proceeding on the training portion of Machine Learning model development\n",
    "- Enables easy end-to-end debugging of ML systems in combination with Fairlearn by providing a clear view if an issue in a model is tied to the data or the model itself."
   ]
  },
  {
   "cell_type": "markdown",
   "metadata": {},
   "source": [
    "## Example Notebook\n",
    "[Adult Census Income Dataset] () "
   ]
  },
  {
   "cell_type": "markdown",
   "metadata": {},
   "source": [
    "## Usage \n",
    "Data Balance Analysis supports three different types of metrics. \n",
    "- FeatureMeasures - supervised (requires a label column)\n",
    "- DistributionMeasures - unsupervised (does not require a label column)\n",
    "- AggregateMeasures - unsupervised (does not require a label column)\n"
   ]
  },
  {
   "cell_type": "markdown",
   "metadata": {},
   "source": [
    "1. First we import all of the classes we are interested in."
   ]
  },
  {
   "cell_type": "code",
   "execution_count": 7,
   "metadata": {},
   "outputs": [],
   "source": [
    "sys.path.append('../../../ResponsibleAIToolbox-Mitigation/')\n",
    "from databalanceanalysis.databalanceanalysis.aggregate_measures import AggregateMeasures\n",
    "from databalanceanalysis.databalanceanalysis.feature_measures import FeatureMeasures\n",
    "from databalanceanalysis.databalanceanalysis.distribution_measures import DistributionMeasures"
   ]
  },
  {
   "cell_type": "markdown",
   "metadata": {},
   "source": [
    "2. Load the dataset, define the features of interest and ensure that the label column is binary. Currently, the FeatureBalance measure calculator only supports binary labels. \n",
    "\n",
    "For example:"
   ]
  },
  {
   "cell_type": "code",
   "execution_count": 8,
   "metadata": {},
   "outputs": [],
   "source": [
    "import pandas as pd\n",
    "sensitive_features = [\"Gender\", \"Race\"]\n",
    "\n",
    "df =  pd.read_csv('../../datasets/AdultCensusIncome.csv')\n",
    "\n",
    "# convert to 0 and 1 encoding\n",
    "df['income'] = df['income'].apply(lambda x: 0 if x == \"<=50K\" else 1)"
   ]
  },
  {
   "cell_type": "markdown",
   "metadata": {},
   "source": [
    "3. Create an instance of the FeatureMeasure class and set the sensitives to the column you are interested in seeing and the label column to the name of the column of interest.\n",
    "\n",
    "For example: "
   ]
  },
  {
   "cell_type": "code",
   "execution_count": 13,
   "metadata": {},
   "outputs": [
    {
     "data": {
      "text/html": [
       "<div>\n",
       "<style scoped>\n",
       "    .dataframe tbody tr th:only-of-type {\n",
       "        vertical-align: middle;\n",
       "    }\n",
       "\n",
       "    .dataframe tbody tr th {\n",
       "        vertical-align: top;\n",
       "    }\n",
       "\n",
       "    .dataframe thead th {\n",
       "        text-align: right;\n",
       "    }\n",
       "</style>\n",
       "<table border=\"1\" class=\"dataframe\">\n",
       "  <thead>\n",
       "    <tr style=\"text-align: right;\">\n",
       "      <th></th>\n",
       "      <th>classA</th>\n",
       "      <th>classB</th>\n",
       "      <th>Measures.DEMOGRAPHIC_PARITY</th>\n",
       "      <th>Measures.POINTWISE_MUTUAL_INFO</th>\n",
       "      <th>Measures.SD_COEF</th>\n",
       "      <th>Measures.JACCARD_INDEX</th>\n",
       "      <th>Measures.LOG_LIKELIHOOD</th>\n",
       "      <th>Measures.TTEST</th>\n",
       "    </tr>\n",
       "  </thead>\n",
       "  <tbody>\n",
       "    <tr>\n",
       "      <th>0</th>\n",
       "      <td>White</td>\n",
       "      <td>Black</td>\n",
       "      <td>0.131980</td>\n",
       "      <td>0.725320</td>\n",
       "      <td>0.164302</td>\n",
       "      <td>0.212784</td>\n",
       "      <td>2.911817</td>\n",
       "      <td>-1.354903</td>\n",
       "    </tr>\n",
       "    <tr>\n",
       "      <th>1</th>\n",
       "      <td>White</td>\n",
       "      <td>Asian-Pac-Islander</td>\n",
       "      <td>-0.009780</td>\n",
       "      <td>-0.037512</td>\n",
       "      <td>0.168515</td>\n",
       "      <td>0.217291</td>\n",
       "      <td>3.249841</td>\n",
       "      <td>-2.582092</td>\n",
       "    </tr>\n",
       "    <tr>\n",
       "      <th>2</th>\n",
       "      <td>White</td>\n",
       "      <td>Amer-Indian-Eskimo</td>\n",
       "      <td>0.140104</td>\n",
       "      <td>0.793149</td>\n",
       "      <td>0.195180</td>\n",
       "      <td>0.244934</td>\n",
       "      <td>5.286723</td>\n",
       "      <td>-4.895847</td>\n",
       "    </tr>\n",
       "    <tr>\n",
       "      <th>3</th>\n",
       "      <td>White</td>\n",
       "      <td>Other</td>\n",
       "      <td>0.163609</td>\n",
       "      <td>1.020118</td>\n",
       "      <td>0.196514</td>\n",
       "      <td>0.246278</td>\n",
       "      <td>5.651366</td>\n",
       "      <td>-5.256855</td>\n",
       "    </tr>\n",
       "    <tr>\n",
       "      <th>4</th>\n",
       "      <td>Black</td>\n",
       "      <td>Asian-Pac-Islander</td>\n",
       "      <td>-0.141760</td>\n",
       "      <td>-0.762832</td>\n",
       "      <td>0.004213</td>\n",
       "      <td>0.004507</td>\n",
       "      <td>0.338024</td>\n",
       "      <td>-1.227189</td>\n",
       "    </tr>\n",
       "    <tr>\n",
       "      <th>5</th>\n",
       "      <td>Black</td>\n",
       "      <td>Amer-Indian-Eskimo</td>\n",
       "      <td>0.008124</td>\n",
       "      <td>0.067829</td>\n",
       "      <td>0.030878</td>\n",
       "      <td>0.032150</td>\n",
       "      <td>2.374906</td>\n",
       "      <td>-3.540944</td>\n",
       "    </tr>\n",
       "    <tr>\n",
       "      <th>6</th>\n",
       "      <td>Black</td>\n",
       "      <td>Other</td>\n",
       "      <td>0.031629</td>\n",
       "      <td>0.294798</td>\n",
       "      <td>0.032212</td>\n",
       "      <td>0.033494</td>\n",
       "      <td>2.739549</td>\n",
       "      <td>-3.901952</td>\n",
       "    </tr>\n",
       "    <tr>\n",
       "      <th>7</th>\n",
       "      <td>Asian-Pac-Islander</td>\n",
       "      <td>Amer-Indian-Eskimo</td>\n",
       "      <td>0.149884</td>\n",
       "      <td>0.830661</td>\n",
       "      <td>0.026665</td>\n",
       "      <td>0.027642</td>\n",
       "      <td>2.036882</td>\n",
       "      <td>-2.313755</td>\n",
       "    </tr>\n",
       "    <tr>\n",
       "      <th>8</th>\n",
       "      <td>Asian-Pac-Islander</td>\n",
       "      <td>Other</td>\n",
       "      <td>0.173389</td>\n",
       "      <td>1.057630</td>\n",
       "      <td>0.027999</td>\n",
       "      <td>0.028987</td>\n",
       "      <td>2.401525</td>\n",
       "      <td>-2.674763</td>\n",
       "    </tr>\n",
       "    <tr>\n",
       "      <th>9</th>\n",
       "      <td>Amer-Indian-Eskimo</td>\n",
       "      <td>Other</td>\n",
       "      <td>0.023505</td>\n",
       "      <td>0.226969</td>\n",
       "      <td>0.001334</td>\n",
       "      <td>0.001344</td>\n",
       "      <td>0.364643</td>\n",
       "      <td>-0.361008</td>\n",
       "    </tr>\n",
       "  </tbody>\n",
       "</table>\n",
       "</div>"
      ],
      "text/plain": [
       "               classA              classB  Measures.DEMOGRAPHIC_PARITY  \\\n",
       "0               White               Black                     0.131980   \n",
       "1               White  Asian-Pac-Islander                    -0.009780   \n",
       "2               White  Amer-Indian-Eskimo                     0.140104   \n",
       "3               White               Other                     0.163609   \n",
       "4               Black  Asian-Pac-Islander                    -0.141760   \n",
       "5               Black  Amer-Indian-Eskimo                     0.008124   \n",
       "6               Black               Other                     0.031629   \n",
       "7  Asian-Pac-Islander  Amer-Indian-Eskimo                     0.149884   \n",
       "8  Asian-Pac-Islander               Other                     0.173389   \n",
       "9  Amer-Indian-Eskimo               Other                     0.023505   \n",
       "\n",
       "   Measures.POINTWISE_MUTUAL_INFO  Measures.SD_COEF  Measures.JACCARD_INDEX  \\\n",
       "0                        0.725320          0.164302                0.212784   \n",
       "1                       -0.037512          0.168515                0.217291   \n",
       "2                        0.793149          0.195180                0.244934   \n",
       "3                        1.020118          0.196514                0.246278   \n",
       "4                       -0.762832          0.004213                0.004507   \n",
       "5                        0.067829          0.030878                0.032150   \n",
       "6                        0.294798          0.032212                0.033494   \n",
       "7                        0.830661          0.026665                0.027642   \n",
       "8                        1.057630          0.027999                0.028987   \n",
       "9                        0.226969          0.001334                0.001344   \n",
       "\n",
       "   Measures.LOG_LIKELIHOOD  Measures.TTEST  \n",
       "0                 2.911817       -1.354903  \n",
       "1                 3.249841       -2.582092  \n",
       "2                 5.286723       -4.895847  \n",
       "3                 5.651366       -5.256855  \n",
       "4                 0.338024       -1.227189  \n",
       "5                 2.374906       -3.540944  \n",
       "6                 2.739549       -3.901952  \n",
       "7                 2.036882       -2.313755  \n",
       "8                 2.401525       -2.674763  \n",
       "9                 0.364643       -0.361008  "
      ]
     },
     "execution_count": 13,
     "metadata": {},
     "output_type": "execute_result"
    }
   ],
   "source": [
    "feature_measures = FeatureMeasures(df,['race'], 'income')\n",
    "feature_measures.measures['race']"
   ]
  },
  {
   "cell_type": "markdown",
   "metadata": {},
   "source": [
    "4. Create an instance of the DistributionMeasures class and set the sensitive columns to the columns you are interested in seeing. \n",
    "\n",
    "For example:"
   ]
  },
  {
   "cell_type": "code",
   "execution_count": 14,
   "metadata": {},
   "outputs": [
    {
     "data": {
      "text/plain": [
       "{<Measures.KL_DIVERGENCE: 'kl_divergence'>: 1.0557930821851598,\n",
       " <Measures.JS_DISTANCE: 'js_distance'>: 0.5103995242157859,\n",
       " <Measures.WS_DISTANCE: 'ws_distance'>: 0.2617094069592457,\n",
       " <Measures.INF_NORM_DISTANCE: 'inf_norm_distance'>: 0.6542735173981142,\n",
       " <Measures.CHISQ_PVALUE: 'chisq_pvalue'>: 0.0,\n",
       " <Measures.CHISQ: 'chisq'>: 87941.88919259237,\n",
       " <Measures.TOTAL_VARIANCE_DISTANCE: 'total_variance_distance'>: 0.6542735173981142}"
      ]
     },
     "execution_count": 14,
     "metadata": {},
     "output_type": "execute_result"
    }
   ],
   "source": [
    "distribution_measures = DistributionMeasures(df,['race'])\n",
    "distribution_measures.measures['race']"
   ]
  },
  {
   "cell_type": "markdown",
   "metadata": {},
   "source": [
    "5. Create an instance of the AggregateMeasures class and set the sensitive columns parameter to the columns of interest. "
   ]
  },
  {
   "cell_type": "code",
   "execution_count": 15,
   "metadata": {},
   "outputs": [
    {
     "data": {
      "text/plain": [
       "{'race': {<Measures.KL_DIVERGENCE: 'kl_divergence'>: 1.0557930821851598,\n",
       "  <Measures.JS_DISTANCE: 'js_distance'>: 0.5103995242157859,\n",
       "  <Measures.WS_DISTANCE: 'ws_distance'>: 0.2617094069592457,\n",
       "  <Measures.INF_NORM_DISTANCE: 'inf_norm_distance'>: 0.6542735173981142,\n",
       "  <Measures.CHISQ_PVALUE: 'chisq_pvalue'>: 0.0,\n",
       "  <Measures.CHISQ: 'chisq'>: 87941.88919259237,\n",
       "  <Measures.TOTAL_VARIANCE_DISTANCE: 'total_variance_distance'>: 0.6542735173981142}}"
      ]
     },
     "execution_count": 15,
     "metadata": {},
     "output_type": "execute_result"
    }
   ],
   "source": [
    "aggregate_measures = AggregateMeasures(df, ['race'])\n",
    "distribution_measures.measures"
   ]
  },
  {
   "cell_type": "markdown",
   "metadata": {},
   "source": [
    "## Explanations of Data Balance Measures\n",
    "### Feature Balance Measures\n",
    "Feature Balance Measures allow us to see whether each combination of sensitive feature is receiving the positive outcome (true prediction) at balanced probability.\n",
    "\n",
    "In this context, we define a feature balance measure, also referred to as the parity, for label y as the difference between the association metrics of two different sensitive classes $([x_A, x_B])$, with respect to the association metric $(A(x_i, y))$. That is:\n",
    "\n",
    "$$parity(y \\vert x_A, x_B, A(\\cdot)) \\coloneqq A(x_A, y) - A(x_B, y) $$\n",
    "\n",
    "Using the dataset, we can see if the various sexes and races are receiving >50k income at equal or unequal rates.\n",
    "\n",
    "Note: Many of these metrics were influenced by this paper [Measuring Model Biases in the Absence of Ground Truth.](https://arxiv.org/abs/2103.03417)"
   ]
  },
  {
   "cell_type": "markdown",
   "metadata": {},
   "source": [
    "| Association Metric | Family | Description | Interpretation | Reference\n",
    "| --- | --- | --- | --- | --- |\n",
    "| Demographic Parity | Fairness | Proportion of each segment of a protected class (e.g. gender) should receive the positive outcome at equal rates.\t| As close to 0 means better parity. $(DP = P(Y \\vert A = Male) - P(Y \\vert A = Female))$. Y = Positive label rate.| [Link](https://en.wikipedia.org/wiki/Fairness_%28machine_learning%29) |\n",
    "|Pointwise Mutual Information (PMI), normalized PMI | Entropy\t|The PMI of a pair of feature values (ex: Gender=Male and Gender=Female) quantifies the discrepancy between the probability of their coincidence given their joint distribution and their individual distributions (assuming independence). | Range (normalized) [-1, 1]. -1 for no co-occurences. 0 for co-occurences at random. 1 for complete co-occurences.| [Link](https://en.wikipedia.org/wiki/Pointwise_mutual_information) |\n",
    "| Sorensen-Dice Coefficient (SDC) | Intersection-over-Union| Union\tUsed to gauge the similarity of two samples. Related to F1 score. |Equals twice the number of elements common to both sets divided by the sum of the number of elements in each set. | [Link](https://en.wikipedia.org/wiki/S%C3%B8rensen%E2%80%93Dice_coefficient) | \n",
    "|Jaccard Index | Intersection-over-Union | Similar to SDC, guages the similarity and diversity of sample sets. | Equals the size of the intersection divided by the size of the union of the sample sets. | [Link](https://en.wikipedia.org/wiki/Jaccard_index) | \n",
    "|Kendall Rank Correlation | Correlation and Statistical Tests | Used to measure the ordinal association between two measured quantities. | High when observations have a similar rank and low when observations have a dissimilar rank between the two variables. |[Link](https://en.wikipedia.org/wiki/Kendall_rank_correlation_coefficient) |\n",
    "|Log-Likelihood Ratio | Correlation and Statistical Tests |  Statistical Tests\tCalculates the degree to which data supports one variable versus another. Log of the likelihood ratio, which gives the probability of correctly predicting the label in ratio to probability of incorrectly predicting label. | If likelihoods are similar, it should be close to 0. |[Link](https://en.wikipedia.org/wiki/Likelihood_function#Likelihood_ratio) | \n",
    "|t-test | Correlation and Statistical Tests | Used to compare the means of two groups (pairwise). | Value looked up in t-Distribution tell if statistically significant or not. |[Link](https://en.wikipedia.org/wiki/Student's_t-test) | \n"
   ]
  },
  {
   "cell_type": "markdown",
   "metadata": {},
   "source": [
    "### Distribution Balance Measures\n",
    "\n",
    "Distribution Balance Measures allow us to compare our data with a reference distribution (currently only uniform distribution is supported as a reference distribution). They are calculated per sensitive column and do not depend on the label column.\n",
    "\n",
    "For example, let's assume we have a dataset with 9 rows and a Gender column, and we observe that:\n",
    "\n",
    "* \"Male\" appears 4 times\n",
    "* \"Female\" appears 3 times\n",
    "* \"Other\" appears 2 times\n",
    "\n",
    "Assuming the uniform distribution:\n",
    "$$ReferenceCount \\coloneqq  \\frac{numRows}{numFeatureValues}$$\n",
    "$$ReferenceProbability \\coloneqq  \\frac{1}{numFeatureValues}$$\n",
    "\n",
    "Feature Value | Observed Count | Reference Count | Observed Probability | Reference Probabiliy\n",
    "| - | - | - | - | -\n",
    "Male | 4 | 9/3 = 3 | 4/9 = 0.44 | 3/9 = 0.33\n",
    "Female | 3 | 9/3 = 3 | 3/9 = 0.33 | 3/9 = 0.33\n",
    "Other | 2 | 9/3 = 3 | 2/9 = 0.22 | 3/9 = 0.33\n",
    "\n",
    "We can use distance measures to find out how far our observed and reference distributions of these feature values are. Some of these distance measures include:\n",
    "\n",
    "Measure | Description | Interpretation | Reference\n",
    "| - | - | - | -\n",
    "KL Divergence | Measure of how one probability distribution is different from a second, reference probability distribution. Measure of the information gained when one revises one's beliefs from the prior probability distribution Q to the posterior probability distribution P. In other words, it is the amount of information lost when Q is used to approximate P. | Non-negative. 0 means P = Q. | [Link](https://en.wikipedia.org/wiki/Kullback%E2%80%93Leibler_divergence)\n",
    "Jenson-Shannon Distance | Measuring the similarity between two probability distributions. Symmetrized and smoothed version of the Kullback–Leibler (KL) divergence. Square root of Jenson-Shannon Divergence. | Range [0, 1]. 0 means perfectly same to balanced distribution. | [Link](https://en.wikipedia.org/wiki/Jensen%E2%80%93Shannon_divergence)\n",
    "Wasserstein Distance | This distance is also known as the earth mover’s distance, since it can be seen as the minimum amount of “work” required to transform u into v, where “work” is measured as the amount of distribution weight that must be moved, multiplied by the distance it has to be moved. | Non-negative. 0 means P = Q. | [Link](https://en.wikipedia.org/wiki/Wasserstein_metric)\n",
    "Infinity Norm Distance | Distance between two vectors is the greatest of their differences along any coordinate dimension. Also called Chebyshev distance or chessboard distance. | Non-negative. 0 means same distribution. | [Link](https://en.wikipedia.org/wiki/Chebyshev_distance)\n",
    "Total Variation Distance | It is equal to half the L1 (Manhattan) distance between the two distributions. Take the difference between the two proportions in each category, add up the absolute values of all the differences, and then divide the sum by 2. | Non-negative. 0 means same distribution. | [Link](https://en.wikipedia.org/wiki/Total_variation_distance_of_probability_measures)\n",
    "Chi-Squared Test | The chi-square test tests the null hypothesis that the categorical data has the given frequencies given expected frequencies in each category. | p-value gives evidence against null-hypothesis that difference in observed and expected frequencies is by random chance. | [Link](https://en.wikipedia.org/wiki/Chi-squared_test)|\n",
    "\n"
   ]
  },
  {
   "cell_type": "markdown",
   "metadata": {},
   "source": [
    "### Aggregate Balance Measures\n",
    "\n",
    "Aggregate Balance Measures allow us to obtain a higher notion of inequality. They are calculated on the set of all sensitive columns and do not depend on the label column.\n",
    "\n",
    "These measures look at distribution of records across all combinations of sensitive columns. For example, if Sex and Race are specified as sensitive features, it then tries to quantify imbalance across all combinations of the two specified features - (Male, Black), (Female, White), (Male, Asian-Pac-Islander), etc.\n",
    "\n",
    "Measure | Description | Interpretation | Reference\n",
    "| - | - | - | -\n",
    "Atkinson Index | It presents the percentage of total income that a given society would have to forego in order to have more equal shares of income between its citizens. This measure depends on the degree of society aversion to inequality (a theoretical parameter decided by the researcher), where a higher value entails greater social utility or willingness by individuals to accept smaller incomes in exchange for a more equal distribution. An important feature of the Atkinson index is that it can be decomposed into within-group and between-group inequality. | Range [0, 1]. 0 if perfect equality. 1 means maximum inequality. In our case, it is the proportion of records for a sensitive columns’ combination. | [Link](https://en.wikipedia.org/wiki/Atkinson_index)\n",
    "Theil T Index | GE(1) = Theil's T and is more sensitive to differences at the top of the distribution. The Theil index is a statistic used to measure economic inequality. The Theil index measures an entropic \"distance\" the population is away from the \"ideal\" egalitarian state of everyone having the same income. | If everyone has the same income, then T_T equals 0. If one person has all the income, then T_T gives the result (ln N). 0 means equal income and larger values mean higher level of disproportion. | [Link](https://en.wikipedia.org/wiki/Theil_index)\n",
    "Theil L Index | GE(0) = Theil's L and is more sensitive to differences at the lower end of the distribution. Logarithm of (mean income)/(income i), over all the incomes included in the summation. It is also referred to as the mean log deviation measure. Because a transfer from a larger income to a smaller one will change the smaller income's ratio more than it changes the larger income's ratio, the transfer-principle is satisfied by this index. | Same interpretation as Theil T Index. | [Link](https://en.wikipedia.org/wiki/Theil_index)"
   ]
  },
  {
   "cell_type": "markdown",
   "metadata": {},
   "source": [
    "## Mitigation\n",
    "\n",
    "It will not be a stretch to say that every real-world dataset has caveats, biases, and imbalances. Data collection is costly. Data Imbalance mitigation or de-biasing data is an area of research. There are many techniques available at various stages of ML lifecycle i.e., during pre-processing, in-processing, and post processing. Here we outline a couple of pre-processing techniques -  \n",
    "\n",
    "### Resampling\n",
    "\n",
    "This involves under-sampling from majority class and over-sampling from minority class. Most naïve way to over-sample would be duplicate records and under-sample would be to remove records at random.  \n",
    "\n",
    "* Caveats:  \n",
    "\n",
    "  1. Under-sampling may remove valuable information.  \n",
    "  2. Over-sampling may cause overfitting and poor generalization on test set.\n",
    "\n",
    "![Bar chart undersampling and oversampling](https://mmlspark.blob.core.windows.net/graphics/responsible_ai/DataBalanceAnalysis_SamplingBar.png)\n",
    "\n",
    "There are smarter techniques to under-sample and over-sample in literature and implemented in Python’s [imbalanced-learn](https://imbalanced-learn.org/stable/) package.  \n",
    "\n",
    "For example, we can cluster the records of the majority class, and do the under-sampling by removing records from each cluster, thus seeking to preserve information.  \n",
    "\n",
    "One technique of under-sampling is use of Tomek Links. Tomek links are pairs of very close instances but of opposite classes. Removing the instances of the majority class of each pair increases the space between the two classes, facilitating the classification process. A similar way to under-sample majority class is using Near-Miss. It first calculates the distance between all the points in the larger class with the points in the smaller class. When two points belonging to different classes are very close to each other in the distribution, this algorithm eliminates the datapoint of the larger class thereby trying to balance the distribution.\n",
    "\n",
    "![Tomek Links](https://mmlspark.blob.core.windows.net/graphics/responsible_ai/DataBalanceAnalysis_TomekLinks.png)\n",
    "\n",
    "In over-sampling, instead of creating exact copies of the minority class records, we can introduce small variations into those copies, creating more diverse synthetic samples. This technique is called SMOTE (Synthetic Minority Oversampling Technique). It randomly picks a point from the minority class and computes the k-nearest neighbors for this point. The synthetic points are added between the chosen point and its neighbors.\n",
    "\n",
    "![Synthetic Samples](https://mmlspark.blob.core.windows.net/graphics/responsible_ai/DataBalanceAnalysis_SyntheticSamples.png)\n",
    "\n",
    "### Reweighting\n",
    "\n",
    "There is an expected and observed value in each table cell. The weight is essentially expected / observed value. This is easy to extend to multiple features with more than 2 groups. The weights are then incorporated in loss function of model training.  \n",
    "\n",
    "![Reweighting](https://mmlspark.blob.core.windows.net/graphics/responsible_ai/DataBalanceAnalysis_Reweight.png)"
   ]
  },
  {
   "cell_type": "markdown",
   "metadata": {},
   "source": [
    "Source: This notebook is adaptation of this notebook in the SynapseML documentation https://microsoft.github.io/SynapseML/docs/features/responsible_ai/Data%20Balance%20Analysis/ written by Kashyap Patel"
   ]
  }
 ],
 "metadata": {
  "interpreter": {
   "hash": "25553ff2aeabf811aa6253044d4e27aa04c210fdd185f9aa4a44c307365de193"
  },
  "kernelspec": {
   "display_name": "Python 3.7.11 64-bit ('ischiadev': conda)",
   "language": "python",
   "name": "python3"
  },
  "language_info": {
   "codemirror_mode": {
    "name": "ipython",
    "version": 3
   },
   "file_extension": ".py",
   "mimetype": "text/x-python",
   "name": "python",
   "nbconvert_exporter": "python",
   "pygments_lexer": "ipython3",
   "version": "3.7.11"
  },
  "orig_nbformat": 4
 },
 "nbformat": 4,
 "nbformat_minor": 2
}
