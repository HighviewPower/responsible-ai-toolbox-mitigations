{
 "cells": [
  {
   "cell_type": "markdown",
   "metadata": {},
   "source": [
    "## Data Balance Analysis using the Adult Census Income dataset\n",
    "\n",
    "In this example, we will conduct Data Balance Analysis (which consists on running three groups of measures) on the Adult Census Income dataset to determine how well features and feature values are represented in the dataset.\n",
    "\n",
    "This dataset can be used to predict whether annual income exceeds $50,000/year or not based on demographic data from the 1994 U.S. Census. The dataset we're reading contains 32,561 rows and 14 columns/features.\n",
    "\n",
    "[More info on the dataset here](https://archive.ics.uci.edu/ml/datasets/Adult)\n",
    "\n",
    "Python dependencies:\n",
    "* matplotlib==3.2.2\n",
    "* numpy==1.19.2"
   ]
  },
  {
   "cell_type": "code",
   "execution_count": 1,
   "metadata": {},
   "outputs": [
    {
     "name": "stdout",
     "output_type": "stream",
     "text": [
      "Obtaining file:///C:/Users/Akshara/Desktop/RAI/responsible-ai-mitigations\n",
      "Requirement already satisfied: pandas in c:\\users\\akshara\\anaconda3\\envs\\ischiadev\\lib\\site-packages (from raimitigations==0.0.0) (1.2.5)\n",
      "Requirement already satisfied: numpy in c:\\users\\akshara\\anaconda3\\envs\\ischiadev\\lib\\site-packages (from raimitigations==0.0.0) (1.21.4)\n",
      "Requirement already satisfied: wheel in c:\\users\\akshara\\anaconda3\\envs\\ischiadev\\lib\\site-packages (from raimitigations==0.0.0) (0.37.0)\n",
      "Requirement already satisfied: scipy in c:\\users\\akshara\\anaconda3\\envs\\ischiadev\\lib\\site-packages (from raimitigations==0.0.0) (1.6.3)\n",
      "Requirement already satisfied: scikit-learn in c:\\users\\akshara\\anaconda3\\envs\\ischiadev\\lib\\site-packages (from raimitigations==0.0.0) (1.0.1)\n",
      "Requirement already satisfied: imbalanced-learn in c:\\users\\akshara\\anaconda3\\envs\\ischiadev\\lib\\site-packages (from raimitigations==0.0.0) (0.8.1)\n",
      "Requirement already satisfied: joblib>=0.11 in c:\\users\\akshara\\anaconda3\\envs\\ischiadev\\lib\\site-packages (from imbalanced-learn->raimitigations==0.0.0) (1.1.0)\n",
      "Requirement already satisfied: threadpoolctl>=2.0.0 in c:\\users\\akshara\\anaconda3\\envs\\ischiadev\\lib\\site-packages (from scikit-learn->raimitigations==0.0.0) (3.0.0)\n",
      "Requirement already satisfied: pytz>=2017.3 in c:\\users\\akshara\\anaconda3\\envs\\ischiadev\\lib\\site-packages (from pandas->raimitigations==0.0.0) (2021.3)\n",
      "Requirement already satisfied: python-dateutil>=2.7.3 in c:\\users\\akshara\\anaconda3\\envs\\ischiadev\\lib\\site-packages (from pandas->raimitigations==0.0.0) (2.8.2)\n",
      "Requirement already satisfied: six>=1.5 in c:\\users\\akshara\\anaconda3\\envs\\ischiadev\\lib\\site-packages (from python-dateutil>=2.7.3->pandas->raimitigations==0.0.0) (1.16.0)\n",
      "Installing collected packages: raimitigations\n",
      "  Running setup.py develop for raimitigations\n",
      "Successfully installed raimitigations-0.0.0\n"
     ]
    }
   ],
   "source": [
    "# Install an editable version of the package to your environment\n",
    "!pip install -e ../../../responsible-ai-mitigations"
   ]
  },
  {
   "cell_type": "code",
   "execution_count": null,
   "metadata": {},
   "outputs": [],
   "source": [
    "import matplotlib\n",
    "import matplotlib.pyplot as plt\n",
    "import numpy as np\n",
    "import pandas as pd"
   ]
  },
  {
   "cell_type": "code",
   "execution_count": null,
   "metadata": {},
   "outputs": [],
   "source": [
    "df = pd.read_csv('../../datasets/AdultCensusIncome.csv')\n",
    "label_col = \"income\"\n",
    "\n",
    "# convert to 0 and 1 encoding\n",
    "df[label_col] = df[label_col].apply(lambda x: 0 if x == \"<=50K\" else 1)"
   ]
  },
  {
   "cell_type": "markdown",
   "metadata": {},
   "source": [
    "First we can do some preliminary EDA on the data. We will look specifically at a couple columns of interest and see the distribution of how often those feature values show up in the data. "
   ]
  },
  {
   "cell_type": "code",
   "execution_count": null,
   "metadata": {},
   "outputs": [],
   "source": [
    "df['race'].value_counts().plot(kind = 'bar')\n",
    "plt.xlabel(\"Race\", labelpad=14)\n",
    "plt.ylabel(\"Count\", labelpad=14)\n",
    "plt.title(\"Distribution of Race in the Data\", y=1.02)"
   ]
  },
  {
   "cell_type": "code",
   "execution_count": null,
   "metadata": {},
   "outputs": [],
   "source": [
    "df['sex'].value_counts().plot(kind = 'bar')\n",
    "plt.xlabel(\"Sex\", labelpad=14)\n",
    "plt.ylabel(\"Count\", labelpad=14)\n",
    "plt.title(\"Distribution of Sex in the Data\", y=1.02)"
   ]
  },
  {
   "cell_type": "code",
   "execution_count": null,
   "metadata": {},
   "outputs": [],
   "source": [
    "df['marital-status'].value_counts().plot(kind = 'bar')\n",
    "plt.xlabel(\"Marital Status\", labelpad=14)\n",
    "plt.ylabel(\"Count\", labelpad=14)\n",
    "plt.title(\"Distribution of Marital Status in the Data\", y=1.02)"
   ]
  },
  {
   "cell_type": "markdown",
   "metadata": {},
   "source": [
    "We will now select a few columns to focus on for this analysis. In this case we will focus specifically on race and sex."
   ]
  },
  {
   "cell_type": "code",
   "execution_count": null,
   "metadata": {},
   "outputs": [],
   "source": [
    "cols_of_interest = ['race', 'sex']"
   ]
  },
  {
   "cell_type": "code",
   "execution_count": null,
   "metadata": {},
   "outputs": [],
   "source": [
    "from raimitigations.databalanceanalysis import FeatureBalanceMeasure\n",
    "feature_measures = FeatureBalanceMeasure( cols_of_interest, label_col)\n",
    "\n",
    "#drill down to race\n",
    "feat_measures = feature_measures.measures(df)"
   ]
  },
  {
   "cell_type": "markdown",
   "metadata": {},
   "source": [
    "We will visualize the demographic parities using a heat map to see which pairs of values have the biggest differences in their label values\n"
   ]
  },
  {
   "cell_type": "code",
   "execution_count": null,
   "metadata": {},
   "outputs": [],
   "source": [
    "races = df['race'].unique()\n",
    "race_dp_values = feat_measures[feat_measures[\"feature_name\"] == 'race'][[\"classA\", \"classB\", Measures.DEMOGRAPHIC_PARITY]]\n",
    "race_dp_array = np.zeros((len(races), len(races)))\n",
    "\n",
    "for idx, row in race_dp_values.iterrows():\n",
    "  class_a = row[0]\n",
    "  class_b = row[1]\n",
    "  dp_value = row[2]\n",
    "  i, j = np.where(races==class_a)[0][0], np.where(races == class_b)\n",
    "  dp_value = round(dp_value, 2)\n",
    "  race_dp_array[i, j] = dp_value\n",
    "  race_dp_array[j, i] = -1 * dp_value\n",
    "\n",
    "colormap = \"RdBu\"\n",
    "dp_min, dp_max = -1.0, 1.0\n",
    "\n",
    "fig, ax = plt.subplots()\n",
    "im = ax.imshow(race_dp_array, vmin=dp_min, vmax=dp_max, cmap=colormap)\n",
    "\n",
    "cbar = ax.figure.colorbar(im, ax=ax)\n",
    "cbar.ax.set_ylabel(\"Demographic Parity\", rotation=-90, va=\"bottom\")\n",
    "\n",
    "ax.set_xticks(np.arange(len(races)))\n",
    "ax.set_yticks(np.arange(len(races)))\n",
    "ax.set_xticklabels(races)\n",
    "ax.set_yticklabels(races)\n",
    "\n",
    "plt.setp(ax.get_xticklabels(), rotation=45, ha=\"right\", rotation_mode=\"anchor\")\n",
    "\n",
    "for i in range(len(races)):\n",
    "  for j in range(len(races)):\n",
    "    text = ax.text(j, i, race_dp_array[i, j], ha=\"center\", va=\"center\", color=\"k\")\n",
    "    \n",
    "ax.set_title(\"Demographic Parity of Races in Adult Dataset\")\n",
    "fig.tight_layout()\n",
    "plt.show()"
   ]
  },
  {
   "cell_type": "markdown",
   "metadata": {},
   "source": [
    "Next we will look at the Distribution Measures, these measures allow us to compare our data to a reference distribution like the uniform distribution and are calculated based on each specified sensitive column. You don't need the label column to calculate these measures"
   ]
  },
  {
   "cell_type": "code",
   "execution_count": null,
   "metadata": {},
   "outputs": [],
   "source": [
    "from raimitigations.databalanceanalysis import DistributionBalanceMeasure\n",
    "dist_measures = DistributionBalanceMeasure( cols_of_interest).measures(df)\n",
    "\n",
    "race_measures = dist_measures[dist_measures['feature_name'] == 'race'].iloc[0]\n",
    "sex_measures = dist_measures[dist_measures['feature_name'] == 'sex'].iloc[0]"
   ]
  },
  {
   "cell_type": "code",
   "execution_count": null,
   "metadata": {},
   "outputs": [],
   "source": [
    "race_measures"
   ]
  },
  {
   "cell_type": "code",
   "execution_count": null,
   "metadata": {},
   "outputs": [],
   "source": [
    "#measures_of_interest = [\"kl_divergence\", \"js_dist\", \"inf_norm_dist\", \"total_variation_dist\", \"wasserstein_dist\"]\n",
    "measures_of_interest = [x.value for x in [Measures.KL_DIVERGENCE, Measures.JS_DISTANCE, Measures.INF_NORM_DISTANCE, Measures.TOTAL_VARIANCE_DISTANCE, Measures.WS_DISTANCE]]\n",
    "race_array = [round(race_measures[measure], 4) for measure in measures_of_interest]\n",
    "sex_array = [round(sex_measures[measure], 4) for measure in measures_of_interest]\n",
    "\n",
    "x = np.arange(len(measures_of_interest))\n",
    "width = 0.35\n",
    "\n",
    "fig, ax = plt.subplots()\n",
    "rects1 = ax.bar(x - width/2, race_array, width, label=\"Race\")\n",
    "rects2 = ax.bar(x + width/2, sex_array, width, label=\"Sex\")\n",
    "\n",
    "ax.set_xlabel(\"Measure\")\n",
    "ax.set_ylabel(\"Value\")\n",
    "ax.set_title(\"Distribution Balance Measures of Sex and Race in Adult Dataset\")\n",
    "ax.set_xticks(x)\n",
    "ax.set_xticklabels(measures_of_interest)\n",
    "ax.legend()\n",
    "\n",
    "plt.setp(ax.get_xticklabels(), rotation=20, ha=\"right\", rotation_mode=\"default\")\n",
    "\n",
    "def autolabel(rects):\n",
    "  for rect in rects:\n",
    "    height = rect.get_height()\n",
    "    ax.annotate('{}'.format(height),\n",
    "                xy=(rect.get_x() + rect.get_width() / 2, height),\n",
    "                xytext=(0, 1),  # 1 point vertical offset\n",
    "                textcoords=\"offset points\",\n",
    "                ha='center', va='bottom')\n",
    "\n",
    "autolabel(rects1)\n",
    "autolabel(rects2)\n",
    "\n",
    "fig.tight_layout()\n",
    "\n",
    "plt.show()"
   ]
  },
  {
   "cell_type": "markdown",
   "metadata": {},
   "source": [
    "Interpret Distribution Balance Measures​\n",
    "Race has a JS Distance of 0.5104 while Sex has a JS Distance of 0.1217.\n",
    "\n",
    "Knowing that JS Distance is between [0, 1] where 0 means perfectly balanced distribution, we can tell that:\n",
    "\n",
    "There is a larger disparity between various races than various sexes in our dataset.\n",
    "Race is nowhere close to a perfectly balanced distribution (i.e. some races are seen ALOT more than others in our dataset).\n",
    "Sex is fairly close to a perfectly balanced distribution."
   ]
  },
  {
   "cell_type": "markdown",
   "metadata": {},
   "source": [
    "Calculate Aggregate Balance Measures​\n",
    "Aggregate Balance Measures allow us to obtain a higher notion of inequality. They are calculated on the global set of sensitive columns and don't use the label column.\n",
    "\n",
    "These measures look at distribution of records across all combinations of sensitive columns. For example, if Sex and Race are sensitive columns, it shall try to quantify imbalance across all combinations - (Male, Black), (Female, White), (Male, Asian-Pac-Islander), etc."
   ]
  },
  {
   "cell_type": "code",
   "execution_count": null,
   "metadata": {},
   "outputs": [],
   "source": [
    "from raimitigations.databalanceanalysis import AggregateBalanceMeasure\n",
    "\n",
    "agg_measures = AggregateBalanceMeasure(cols_of_interest)\n",
    "agg_measures.measures(df)"
   ]
  },
  {
   "cell_type": "markdown",
   "metadata": {},
   "source": [
    "## Summary​\n",
    "Throughout the course of this sample notebook, we have:\n",
    "\n",
    "- Chosen \"Race\" and \"Sex\" as columns of interest in the Adult Census Income dataset.\n",
    "- Done preliminary analysis on our dataset.\n",
    "- Ran the 3 groups of measures that compose our Data Balance \n",
    "\n",
    "## Analysis:\n",
    "\n",
    "- ### Feature Balance Measures\n",
    "    - Calculated Feature Balance Measures to see that the highest Demographic Parity is in \"Sex\": Males see >50k income much more than Females.\n",
    "\n",
    "    - Visualized Demographic Parity of Races to see that Asian-Pac-Islander sees >50k income much more than Other, in addition to other race combinations.\n",
    "\n",
    "- ### Distribution Balance Measures\n",
    "    - Calculated Distribution Balance Measures to see that \"Sex\" is much closer to a perfectly balanced distribution than \"Race\".\n",
    "Visualized various distribution balance measures to compare their values for \"Race\" and \"Sex\".\n",
    "\n",
    "- ### Aggregate Balance Measures\n",
    "    - Calculated Aggregate Balance Measures to see that we need to forego 77.79% of data points to have a perfectly balanced dataset. We identified that our dataset is leaning towards maximum inequality, and we should take actionable steps to:\n",
    "    - Upsample data points where the feature value is barely observed.\n",
    "    - Downsample data points where the feature value is observed much more than others.\n",
    "\n",
    "### In conclusion:\n",
    "\n",
    "- These measures provide an indicator of disparity on the data, allowing for users to explore potential mitigations before proceeding to train.\n",
    "- Users can use these measures to set thresholds on their level of \"tolerance\" for data representation.\n",
    "Production pipelines can use these measures as baseline for models that require frequent retraining on new data.\n",
    "- These measures can also be saved as key metadata for the model/service built and added as part of model cards or transparency notes helping drive overall accountability for the ML service built and its performance across different demographics or sensitive attributes."
   ]
  },
  {
   "cell_type": "markdown",
   "metadata": {},
   "source": []
  }
 ],
 "metadata": {
  "interpreter": {
   "hash": "25553ff2aeabf811aa6253044d4e27aa04c210fdd185f9aa4a44c307365de193"
  },
  "kernelspec": {
   "display_name": "Python 3.7.11 64-bit ('ischiadev': conda)",
   "language": "python",
   "name": "python3"
  },
  "language_info": {
   "codemirror_mode": {
    "name": "ipython",
    "version": 3
   },
   "file_extension": ".py",
   "mimetype": "text/x-python",
   "name": "python",
   "nbconvert_exporter": "python",
   "pygments_lexer": "ipython3",
   "version": "3.7.12"
  },
  "orig_nbformat": 4
 },
 "nbformat": 4,
 "nbformat_minor": 2
}
